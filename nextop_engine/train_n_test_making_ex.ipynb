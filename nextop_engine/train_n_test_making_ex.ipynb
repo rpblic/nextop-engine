{
 "cells": [
  {
   "cell_type": "code",
   "execution_count": 1,
   "metadata": {
    "collapsed": true
   },
   "outputs": [],
   "source": [
    "import numpy as np\n",
    "import pandas as pd\n",
    "import matplotlib.pyplot as plt\n",
    "import seaborn as sns\n",
    "\n",
    "from datetime import datetime, timedelta"
   ]
  },
  {
   "cell_type": "code",
   "execution_count": 2,
   "metadata": {
    "collapsed": true
   },
   "outputs": [],
   "source": [
    "import sys, os\n",
    "sys.path.append(os.getcwd())"
   ]
  },
  {
   "cell_type": "code",
   "execution_count": 3,
   "metadata": {
    "collapsed": true
   },
   "outputs": [],
   "source": [
    "from _element import feature_control as ft_c, varr\n",
    "# from _usecase import algorithm_prophet as prpt"
   ]
  },
  {
   "cell_type": "code",
   "execution_count": 4,
   "metadata": {
    "collapsed": true
   },
   "outputs": [],
   "source": [
    "df= ft_c.xlsx_opener('./_element/data/private/', 'KPP일별투입(10_17)_raw.xlsx')"
   ]
  },
  {
   "cell_type": "code",
   "execution_count": 5,
   "metadata": {},
   "outputs": [
    {
     "data": {
      "text/html": [
       "<div>\n",
       "<style scoped>\n",
       "    .dataframe tbody tr th:only-of-type {\n",
       "        vertical-align: middle;\n",
       "    }\n",
       "\n",
       "    .dataframe tbody tr th {\n",
       "        vertical-align: top;\n",
       "    }\n",
       "\n",
       "    .dataframe thead th {\n",
       "        text-align: right;\n",
       "    }\n",
       "</style>\n",
       "<table border=\"1\" class=\"dataframe\">\n",
       "  <thead>\n",
       "    <tr style=\"text-align: right;\">\n",
       "      <th></th>\n",
       "      <th>ds</th>\n",
       "      <th>y</th>\n",
       "    </tr>\n",
       "  </thead>\n",
       "  <tbody>\n",
       "    <tr>\n",
       "      <th>0</th>\n",
       "      <td>2010-07-01</td>\n",
       "      <td>79590</td>\n",
       "    </tr>\n",
       "    <tr>\n",
       "      <th>1</th>\n",
       "      <td>2010-07-02</td>\n",
       "      <td>79456</td>\n",
       "    </tr>\n",
       "    <tr>\n",
       "      <th>2</th>\n",
       "      <td>2010-07-03</td>\n",
       "      <td>48469</td>\n",
       "    </tr>\n",
       "    <tr>\n",
       "      <th>3</th>\n",
       "      <td>2010-07-04</td>\n",
       "      <td>1045</td>\n",
       "    </tr>\n",
       "    <tr>\n",
       "      <th>4</th>\n",
       "      <td>2010-07-05</td>\n",
       "      <td>65049</td>\n",
       "    </tr>\n",
       "  </tbody>\n",
       "</table>\n",
       "</div>"
      ],
      "text/plain": [
       "          ds      y\n",
       "0 2010-07-01  79590\n",
       "1 2010-07-02  79456\n",
       "2 2010-07-03  48469\n",
       "3 2010-07-04   1045\n",
       "4 2010-07-05  65049"
      ]
     },
     "execution_count": 5,
     "metadata": {},
     "output_type": "execute_result"
    }
   ],
   "source": [
    "df.head()"
   ]
  },
  {
   "cell_type": "code",
   "execution_count": 6,
   "metadata": {},
   "outputs": [],
   "source": [
    "train_test_dict= ft_c.train_test(df)"
   ]
  },
  {
   "cell_type": "code",
   "execution_count": 11,
   "metadata": {},
   "outputs": [
    {
     "data": {
      "text/plain": [
       "{'test':              ds       y\n",
       " 2416 2017-02-17  116907\n",
       " 2417 2017-02-18   62986\n",
       " 2418 2017-02-19      80\n",
       " 2419 2017-02-20  107804\n",
       " 2420 2017-02-21  110120\n",
       " 2421 2017-02-22  109244\n",
       " 2422 2017-02-23  111581, 'train':              ds       y\n",
       " 0    2010-07-01   79590\n",
       " 1    2010-07-02   79456\n",
       " 2    2010-07-03   48469\n",
       " 3    2010-07-04    1045\n",
       " 4    2010-07-05   65049\n",
       " 5    2010-07-06   84245\n",
       " 6    2010-07-07   80493\n",
       " 7    2010-07-08   73930\n",
       " 8    2010-07-09   80166\n",
       " 9    2010-07-10   49542\n",
       " 10   2010-07-11    1411\n",
       " 11   2010-07-12   67680\n",
       " 12   2010-07-13   83587\n",
       " 13   2010-07-14   73490\n",
       " 14   2010-07-15   73332\n",
       " 15   2010-07-16   74715\n",
       " 16   2010-07-17   45526\n",
       " 17   2010-07-18    1083\n",
       " 18   2010-07-19   73816\n",
       " 19   2010-07-20   87473\n",
       " 20   2010-07-21   87970\n",
       " 21   2010-07-22   76263\n",
       " 22   2010-07-23   77157\n",
       " 23   2010-07-24   48189\n",
       " 24   2010-07-25     684\n",
       " 25   2010-07-26   75731\n",
       " 26   2010-07-27   87872\n",
       " 27   2010-07-28   74544\n",
       " 28   2010-07-29   72627\n",
       " 29   2010-07-30   71448\n",
       " ...         ...     ...\n",
       " 2386 2017-01-18  129416\n",
       " 2387 2017-01-19  129409\n",
       " 2388 2017-01-20  125530\n",
       " 2389 2017-01-21   81672\n",
       " 2390 2017-01-22      74\n",
       " 2391 2017-01-23  122240\n",
       " 2392 2017-01-24  133738\n",
       " 2393 2017-01-25  152071\n",
       " 2394 2017-01-26  112757\n",
       " 2395 2017-01-27    5845\n",
       " 2396 2017-01-28      12\n",
       " 2397 2017-01-29      58\n",
       " 2398 2017-01-30   13180\n",
       " 2399 2017-01-31  103626\n",
       " 2400 2017-02-01  121759\n",
       " 2401 2017-02-02  118014\n",
       " 2402 2017-02-03  126451\n",
       " 2403 2017-02-04   61897\n",
       " 2404 2017-02-05      60\n",
       " 2405 2017-02-06  117071\n",
       " 2406 2017-02-07  120040\n",
       " 2407 2017-02-08  113670\n",
       " 2408 2017-02-09  110130\n",
       " 2409 2017-02-10  115670\n",
       " 2410 2017-02-11   58727\n",
       " 2411 2017-02-12      53\n",
       " 2412 2017-02-13  105310\n",
       " 2413 2017-02-14  113217\n",
       " 2414 2017-02-15  115637\n",
       " 2415 2017-02-16  110867\n",
       " \n",
       " [2416 rows x 2 columns]}"
      ]
     },
     "execution_count": 11,
     "metadata": {},
     "output_type": "execute_result"
    }
   ],
   "source": [
    "train_test_dict[4]"
   ]
  },
  {
   "cell_type": "code",
   "execution_count": null,
   "metadata": {
    "collapsed": true
   },
   "outputs": [],
   "source": []
  }
 ],
 "metadata": {
  "kernelspec": {
   "display_name": "Python 3",
   "language": "python",
   "name": "python3"
  },
  "language_info": {
   "codemirror_mode": {
    "name": "ipython",
    "version": 3
   },
   "file_extension": ".py",
   "mimetype": "text/x-python",
   "name": "python",
   "nbconvert_exporter": "python",
   "pygments_lexer": "ipython3",
   "version": "3.6.4"
  }
 },
 "nbformat": 4,
 "nbformat_minor": 2
}
