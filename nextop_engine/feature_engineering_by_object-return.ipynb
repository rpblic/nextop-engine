{
 "cells": [
  {
   "cell_type": "code",
   "execution_count": 1,
   "metadata": {},
   "outputs": [
    {
     "name": "stderr",
     "output_type": "stream",
     "text": [
      "C:\\Anaconda3\\lib\\site-packages\\statsmodels\\compat\\pandas.py:56: FutureWarning: The pandas.core.datetools module is deprecated and will be removed in a future version. Please use the pandas.tseries module instead.\n",
      "  from pandas.core import datetools\n"
     ]
    }
   ],
   "source": [
    "from _element import feature_control as ft_c\n",
    "\n",
    "from _element import varr\n",
    "\n",
    "import pandas as pd\n",
    "import numpy as np\n",
    "\n",
    "from datetime import datetime\n",
    "\n",
    "import os, sys\n",
    "\n",
    "path_name= os.getcwd()\n",
    "sys.path.append(path_name)"
   ]
  },
  {
   "cell_type": "code",
   "execution_count": 2,
   "metadata": {},
   "outputs": [
    {
     "data": {
      "text/plain": [
       "'C:\\\\Studying\\\\Project_Nextop\\\\nextop-engine\\\\nextop_engine'"
      ]
     },
     "execution_count": 2,
     "metadata": {},
     "output_type": "execute_result"
    }
   ],
   "source": [
    "path_name"
   ]
  },
  {
   "cell_type": "code",
   "execution_count": 35,
   "metadata": {
    "scrolled": false
   },
   "outputs": [
    {
     "name": "stdout",
     "output_type": "stream",
     "text": [
      "<class 'pandas.core.frame.DataFrame'>\n",
      "Int64Index: 2882 entries, 0 to 332\n",
      "Data columns (total 35 columns):\n",
      "ds      2882 non-null datetime64[ns]\n",
      "1025    2882 non-null float64\n",
      "1041    2882 non-null float64\n",
      "1091    2882 non-null float64\n",
      "1127    2882 non-null float64\n",
      "1216    2882 non-null float64\n",
      "1242    2882 non-null float64\n",
      "1261    2882 non-null float64\n",
      "1355    2882 non-null float64\n",
      "1373    2882 non-null float64\n",
      "1375    2882 non-null float64\n",
      "1376    2882 non-null float64\n",
      "1396    2882 non-null float64\n",
      "1627    2882 non-null float64\n",
      "1656    2882 non-null float64\n",
      "1692    2882 non-null float64\n",
      "1729    2882 non-null float64\n",
      "1745    2882 non-null float64\n",
      "1754    2882 non-null float64\n",
      "1797    2882 non-null float64\n",
      "1800    2882 non-null float64\n",
      "1815    2882 non-null float64\n",
      "1817    2882 non-null float64\n",
      "1853    2882 non-null float64\n",
      "1878    2882 non-null float64\n",
      "1891    2882 non-null float64\n",
      "1111    2882 non-null float64\n",
      "1163    2882 non-null float64\n",
      "1298    2882 non-null float64\n",
      "1852    2882 non-null float64\n",
      "1057    2882 non-null float64\n",
      "1117    2882 non-null float64\n",
      "1390    2882 non-null float64\n",
      "1652    2882 non-null float64\n",
      "1119    2882 non-null float64\n",
      "dtypes: datetime64[ns](1), float64(34)\n",
      "memory usage: 810.6 KB\n"
     ]
    }
   ],
   "source": [
    "dir_list= ft_c.dir_list('.\\\\_element\\\\data\\\\private_return\\\\_pickles', '.pickle')\n",
    "df_raw= {}\n",
    "df_result= pd.DataFrame()\n",
    "for pkl in dir_list:\n",
    "    pklname= pkl.split('\\\\')[-1].split('.')[0]\n",
    "    df_raw[pklname]= pd.read_pickle(pkl)\n",
    "    ft_c.colname(df_raw[pklname], {'발송일': 'ds', '수량': 'y'})\n",
    "    df_raw[pklname]= ft_c.struct(df_raw[pklname], 'ds', '유형', 'y')\n",
    "    df_raw[pklname].columns.name= None\n",
    "    df_raw[pklname].reset_index(drop= False, inplace= True)\n",
    "    df_raw[pklname]['ds']= df_raw[pklname]['ds'].apply(str).apply(\n",
    "        lambda x: datetime(int(x[:4]),int(x[4:6]),int(x[6:]))\n",
    "    )\n",
    "    df_result= pd.concat([df_result, df_raw[pklname]], axis=0, join= 'outer')\n",
    "df_result.fillna(0, inplace= True)\n",
    "df_result.info()"
   ]
  },
  {
   "cell_type": "code",
   "execution_count": 36,
   "metadata": {
    "scrolled": false
   },
   "outputs": [],
   "source": [
    "ft_c.save_as_xlsx(path_name+'\\\\_element\\\\data\\\\private_return\\\\', df_result, 'KPP일별회수(10_17).xlsx', '_withallobj')"
   ]
  },
  {
   "cell_type": "code",
   "execution_count": null,
   "metadata": {
    "collapsed": true
   },
   "outputs": [],
   "source": []
  }
 ],
 "metadata": {
  "kernelspec": {
   "display_name": "Python 3",
   "language": "python",
   "name": "python3"
  },
  "language_info": {
   "codemirror_mode": {
    "name": "ipython",
    "version": 3
   },
   "file_extension": ".py",
   "mimetype": "text/x-python",
   "name": "python",
   "nbconvert_exporter": "python",
   "pygments_lexer": "ipython3",
   "version": "3.6.4"
  }
 },
 "nbformat": 4,
 "nbformat_minor": 2
}
