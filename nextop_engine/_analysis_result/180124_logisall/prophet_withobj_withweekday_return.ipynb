{
 "cells": [
  {
   "cell_type": "code",
   "execution_count": 1,
   "metadata": {
    "collapsed": true
   },
   "outputs": [],
   "source": [
    "from _element import feature_control as ft_c"
   ]
  },
  {
   "cell_type": "code",
   "execution_count": 2,
   "metadata": {
    "collapsed": true
   },
   "outputs": [],
   "source": [
    "from _usecase import algorithm_prophet as prpt"
   ]
  },
  {
   "cell_type": "code",
   "execution_count": 3,
   "metadata": {
    "collapsed": true
   },
   "outputs": [],
   "source": [
    "from _element import calculations as calc"
   ]
  },
  {
   "cell_type": "code",
   "execution_count": 4,
   "metadata": {
    "collapsed": true
   },
   "outputs": [],
   "source": [
    "import pandas as pd"
   ]
  },
  {
   "cell_type": "code",
   "execution_count": 5,
   "metadata": {
    "collapsed": true
   },
   "outputs": [],
   "source": [
    "from datetime import datetime"
   ]
  },
  {
   "cell_type": "code",
   "execution_count": 6,
   "metadata": {
    "collapsed": true
   },
   "outputs": [],
   "source": [
    "from _element import varr"
   ]
  },
  {
   "cell_type": "code",
   "execution_count": 7,
   "metadata": {
    "collapsed": true
   },
   "outputs": [],
   "source": [
    "INPUT_FILENAME= 'KPP일별_반납회수(13_17)_withobject.xlsx'"
   ]
  },
  {
   "cell_type": "code",
   "execution_count": 9,
   "metadata": {},
   "outputs": [],
   "source": [
    "df_raw= ft_c.xlsx_opener(varr.PJ_DIR+varr.DF_DIR, INPUT_FILENAME)"
   ]
  },
  {
   "cell_type": "code",
   "execution_count": 10,
   "metadata": {
    "collapsed": true
   },
   "outputs": [],
   "source": [
    "df_temp= ft_c.xlsx_opener(varr.PJ_DIR+varr.TEMP_DATA_DIR, 'temp_data_merged.xlsx')"
   ]
  },
  {
   "cell_type": "code",
   "execution_count": 11,
   "metadata": {
    "collapsed": true
   },
   "outputs": [],
   "source": [
    "y_col= df_raw.columns.values.tolist()"
   ]
  },
  {
   "cell_type": "code",
   "execution_count": 12,
   "metadata": {
    "collapsed": true
   },
   "outputs": [],
   "source": [
    "try:\n",
    "    y_col.remove('ds')\n",
    "except ValueError:\n",
    "    pass"
   ]
  },
  {
   "cell_type": "code",
   "execution_count": 13,
   "metadata": {},
   "outputs": [
    {
     "data": {
      "text/plain": [
       "[1041, 1692, 1815, 1853, 1878]"
      ]
     },
     "execution_count": 13,
     "metadata": {},
     "output_type": "execute_result"
    }
   ],
   "source": [
    "y_col"
   ]
  },
  {
   "cell_type": "code",
   "execution_count": 14,
   "metadata": {
    "collapsed": true
   },
   "outputs": [],
   "source": [
    "x_col= df_temp.columns.values.tolist()"
   ]
  },
  {
   "cell_type": "code",
   "execution_count": 15,
   "metadata": {},
   "outputs": [
    {
     "data": {
      "text/plain": [
       "['ds', 'temp_max', 'temp_min', 'rain_amount']"
      ]
     },
     "execution_count": 15,
     "metadata": {},
     "output_type": "execute_result"
    }
   ],
   "source": [
    "x_col"
   ]
  },
  {
   "cell_type": "code",
   "execution_count": 16,
   "metadata": {
    "collapsed": true
   },
   "outputs": [],
   "source": [
    "df_raw['ds']= pd.to_datetime(df_raw['ds'], box=True, format= '%Y/%m/%d', exact=True)"
   ]
  },
  {
   "cell_type": "code",
   "execution_count": 17,
   "metadata": {
    "collapsed": true
   },
   "outputs": [],
   "source": [
    "df_temp['ds']= pd.to_datetime(df_temp['ds'], box=True, format= '%Y/%m/%d', exact=True)"
   ]
  },
  {
   "cell_type": "code",
   "execution_count": 18,
   "metadata": {
    "collapsed": true
   },
   "outputs": [],
   "source": [
    "df_raw= pd.merge(df_raw, df_temp, how='inner', on='ds')"
   ]
  },
  {
   "cell_type": "code",
   "execution_count": 19,
   "metadata": {},
   "outputs": [
    {
     "data": {
      "text/html": [
       "<div>\n",
       "<style>\n",
       "    .dataframe thead tr:only-child th {\n",
       "        text-align: right;\n",
       "    }\n",
       "\n",
       "    .dataframe thead th {\n",
       "        text-align: left;\n",
       "    }\n",
       "\n",
       "    .dataframe tbody tr th {\n",
       "        vertical-align: top;\n",
       "    }\n",
       "</style>\n",
       "<table border=\"1\" class=\"dataframe\">\n",
       "  <thead>\n",
       "    <tr style=\"text-align: right;\">\n",
       "      <th></th>\n",
       "      <th>ds</th>\n",
       "      <th>1041</th>\n",
       "      <th>1692</th>\n",
       "      <th>1815</th>\n",
       "      <th>1853</th>\n",
       "      <th>1878</th>\n",
       "      <th>temp_max</th>\n",
       "      <th>temp_min</th>\n",
       "      <th>rain_amount</th>\n",
       "    </tr>\n",
       "  </thead>\n",
       "  <tbody>\n",
       "    <tr>\n",
       "      <th>0</th>\n",
       "      <td>2013-01-01</td>\n",
       "      <td>92</td>\n",
       "      <td>906</td>\n",
       "      <td>15693</td>\n",
       "      <td>3</td>\n",
       "      <td>7</td>\n",
       "      <td>-0.4</td>\n",
       "      <td>-12.900000</td>\n",
       "      <td>3.0</td>\n",
       "    </tr>\n",
       "    <tr>\n",
       "      <th>1</th>\n",
       "      <td>2013-01-02</td>\n",
       "      <td>1588</td>\n",
       "      <td>8278</td>\n",
       "      <td>43070</td>\n",
       "      <td>4410</td>\n",
       "      <td>2241</td>\n",
       "      <td>-9.4</td>\n",
       "      <td>-16.200001</td>\n",
       "      <td>0.0</td>\n",
       "    </tr>\n",
       "    <tr>\n",
       "      <th>2</th>\n",
       "      <td>2013-01-03</td>\n",
       "      <td>1944</td>\n",
       "      <td>7858</td>\n",
       "      <td>46003</td>\n",
       "      <td>6393</td>\n",
       "      <td>2967</td>\n",
       "      <td>-9.6</td>\n",
       "      <td>-15.300000</td>\n",
       "      <td>0.0</td>\n",
       "    </tr>\n",
       "    <tr>\n",
       "      <th>3</th>\n",
       "      <td>2013-01-04</td>\n",
       "      <td>2413</td>\n",
       "      <td>9612</td>\n",
       "      <td>46855</td>\n",
       "      <td>6838</td>\n",
       "      <td>3818</td>\n",
       "      <td>-6.2</td>\n",
       "      <td>-13.700000</td>\n",
       "      <td>0.0</td>\n",
       "    </tr>\n",
       "    <tr>\n",
       "      <th>4</th>\n",
       "      <td>2013-01-05</td>\n",
       "      <td>1337</td>\n",
       "      <td>7292</td>\n",
       "      <td>42439</td>\n",
       "      <td>4039</td>\n",
       "      <td>2354</td>\n",
       "      <td>-2.2</td>\n",
       "      <td>-10.900000</td>\n",
       "      <td>0.0</td>\n",
       "    </tr>\n",
       "  </tbody>\n",
       "</table>\n",
       "</div>"
      ],
      "text/plain": [
       "          ds  1041  1692   1815  1853  1878  temp_max   temp_min  rain_amount\n",
       "0 2013-01-01    92   906  15693     3     7      -0.4 -12.900000          3.0\n",
       "1 2013-01-02  1588  8278  43070  4410  2241      -9.4 -16.200001          0.0\n",
       "2 2013-01-03  1944  7858  46003  6393  2967      -9.6 -15.300000          0.0\n",
       "3 2013-01-04  2413  9612  46855  6838  3818      -6.2 -13.700000          0.0\n",
       "4 2013-01-05  1337  7292  42439  4039  2354      -2.2 -10.900000          0.0"
      ]
     },
     "execution_count": 19,
     "metadata": {},
     "output_type": "execute_result"
    }
   ],
   "source": [
    "df_raw.head()"
   ]
  },
  {
   "cell_type": "code",
   "execution_count": 20,
   "metadata": {
    "collapsed": true
   },
   "outputs": [],
   "source": [
    "df_weekday_0= df_raw.loc[df_raw.ds.apply(lambda x: x.weekday())==0]\n",
    "df_weekday_1= df_raw.loc[df_raw.ds.apply(lambda x: x.weekday())==1]\n",
    "df_weekday_2= df_raw.loc[df_raw.ds.apply(lambda x: x.weekday())==2]\n",
    "df_weekday_3= df_raw.loc[df_raw.ds.apply(lambda x: x.weekday())==3]\n",
    "df_weekday_4= df_raw.loc[df_raw.ds.apply(lambda x: x.weekday())==4]\n",
    "df_weekday_5= df_raw.loc[df_raw.ds.apply(lambda x: x.weekday())==5]\n",
    "df_weekday_6= df_raw.loc[df_raw.ds.apply(lambda x: x.weekday())==6]"
   ]
  },
  {
   "cell_type": "code",
   "execution_count": 21,
   "metadata": {},
   "outputs": [
    {
     "name": "stderr",
     "output_type": "stream",
     "text": [
      "INFO:fbprophet.forecaster:Disabling weekly seasonality. Run prophet with weekly_seasonality=True to override this.\n",
      "INFO:fbprophet.forecaster:Disabling weekly seasonality. Run prophet with weekly_seasonality=True to override this.\n",
      "INFO:fbprophet.forecaster:Disabling weekly seasonality. Run prophet with weekly_seasonality=True to override this.\n",
      "INFO:fbprophet.forecaster:Disabling weekly seasonality. Run prophet with weekly_seasonality=True to override this.\n",
      "INFO:fbprophet.forecaster:Disabling weekly seasonality. Run prophet with weekly_seasonality=True to override this.\n",
      "INFO:fbprophet.forecaster:Disabling weekly seasonality. Run prophet with weekly_seasonality=True to override this.\n",
      "INFO:fbprophet.forecaster:Disabling weekly seasonality. Run prophet with weekly_seasonality=True to override this.\n",
      "INFO:fbprophet.forecaster:Disabling weekly seasonality. Run prophet with weekly_seasonality=True to override this.\n",
      "INFO:fbprophet.forecaster:Disabling weekly seasonality. Run prophet with weekly_seasonality=True to override this.\n",
      "INFO:fbprophet.forecaster:Disabling weekly seasonality. Run prophet with weekly_seasonality=True to override this.\n",
      "INFO:fbprophet.forecaster:Disabling weekly seasonality. Run prophet with weekly_seasonality=True to override this.\n",
      "INFO:fbprophet.forecaster:Disabling weekly seasonality. Run prophet with weekly_seasonality=True to override this.\n",
      "INFO:fbprophet.forecaster:Disabling weekly seasonality. Run prophet with weekly_seasonality=True to override this.\n",
      "INFO:fbprophet.forecaster:Disabling weekly seasonality. Run prophet with weekly_seasonality=True to override this.\n",
      "INFO:fbprophet.forecaster:Disabling weekly seasonality. Run prophet with weekly_seasonality=True to override this.\n",
      "INFO:fbprophet.forecaster:Disabling weekly seasonality. Run prophet with weekly_seasonality=True to override this.\n",
      "INFO:fbprophet.forecaster:Disabling weekly seasonality. Run prophet with weekly_seasonality=True to override this.\n",
      "INFO:fbprophet.forecaster:Disabling weekly seasonality. Run prophet with weekly_seasonality=True to override this.\n",
      "INFO:fbprophet.forecaster:Disabling weekly seasonality. Run prophet with weekly_seasonality=True to override this.\n",
      "INFO:fbprophet.forecaster:Disabling weekly seasonality. Run prophet with weekly_seasonality=True to override this.\n",
      "INFO:fbprophet.forecaster:Disabling weekly seasonality. Run prophet with weekly_seasonality=True to override this.\n",
      "INFO:fbprophet.forecaster:Disabling weekly seasonality. Run prophet with weekly_seasonality=True to override this.\n",
      "INFO:fbprophet.forecaster:Disabling weekly seasonality. Run prophet with weekly_seasonality=True to override this.\n",
      "INFO:fbprophet.forecaster:Disabling weekly seasonality. Run prophet with weekly_seasonality=True to override this.\n",
      "INFO:fbprophet.forecaster:Disabling weekly seasonality. Run prophet with weekly_seasonality=True to override this.\n",
      "INFO:fbprophet.forecaster:Disabling weekly seasonality. Run prophet with weekly_seasonality=True to override this.\n",
      "INFO:fbprophet.forecaster:Disabling weekly seasonality. Run prophet with weekly_seasonality=True to override this.\n",
      "INFO:fbprophet.forecaster:Disabling weekly seasonality. Run prophet with weekly_seasonality=True to override this.\n",
      "INFO:fbprophet.forecaster:Disabling weekly seasonality. Run prophet with weekly_seasonality=True to override this.\n",
      "INFO:fbprophet.forecaster:Disabling weekly seasonality. Run prophet with weekly_seasonality=True to override this.\n",
      "INFO:fbprophet.forecaster:Disabling weekly seasonality. Run prophet with weekly_seasonality=True to override this.\n",
      "INFO:fbprophet.forecaster:Disabling weekly seasonality. Run prophet with weekly_seasonality=True to override this.\n",
      "INFO:fbprophet.forecaster:Disabling weekly seasonality. Run prophet with weekly_seasonality=True to override this.\n",
      "INFO:fbprophet.forecaster:Disabling weekly seasonality. Run prophet with weekly_seasonality=True to override this.\n",
      "INFO:fbprophet.forecaster:Disabling weekly seasonality. Run prophet with weekly_seasonality=True to override this.\n"
     ]
    }
   ],
   "source": [
    "result_dict= {}\n",
    "for y in y_col:\n",
    "    result_dict[y]= {\n",
    "                    'mon': prpt.Bayseian2(df_weekday_0, varr.FORECASTDAY, y, x_col, 'week'),\\\n",
    "                    'tue': prpt.Bayseian2(df_weekday_1, varr.FORECASTDAY, y, x_col, 'week'),\\\n",
    "                    'wed': prpt.Bayseian2(df_weekday_2, varr.FORECASTDAY, y, x_col, 'week'),\\\n",
    "                    'thu': prpt.Bayseian2(df_weekday_3, varr.FORECASTDAY, y, x_col, 'week'),\\\n",
    "                    'pri': prpt.Bayseian2(df_weekday_4, varr.FORECASTDAY, y, x_col, 'week'),\\\n",
    "                    'sat': prpt.Bayseian2(df_weekday_5, varr.FORECASTDAY, y, x_col, 'week'),\\\n",
    "                    'sun': prpt.Bayseian2(df_weekday_6, varr.FORECASTDAY, y, x_col, 'week'),\\\n",
    "                    }"
   ]
  },
  {
   "cell_type": "code",
   "execution_count": 22,
   "metadata": {
    "collapsed": true
   },
   "outputs": [],
   "source": [
    "merged_dict={}\n",
    "for y in y_col:\n",
    "    merged_dict[y]={'future': \n",
    "                    pd.concat([result_dict[y]['mon']['future'],\\\n",
    "                              result_dict[y]['tue']['future'],\\\n",
    "                              result_dict[y]['wed']['future'],\\\n",
    "                              result_dict[y]['thu']['future'],\\\n",
    "                              result_dict[y]['pri']['future'],\\\n",
    "                              result_dict[y]['sat']['future'],\\\n",
    "                              result_dict[y]['sun']['future']],\\\n",
    "                              axis= 0).sort_values(by='ds', axis=0),\n",
    "                   'forecastProphetTable':\n",
    "                    pd.concat([result_dict[y]['mon']['forecastProphetTable'],\\\n",
    "                              result_dict[y]['tue']['forecastProphetTable'],\\\n",
    "                              result_dict[y]['wed']['forecastProphetTable'],\\\n",
    "                              result_dict[y]['thu']['forecastProphetTable'],\\\n",
    "                              result_dict[y]['pri']['forecastProphetTable'],\\\n",
    "                              result_dict[y]['sat']['forecastProphetTable'],\\\n",
    "                              result_dict[y]['sun']['forecastProphetTable']],\\\n",
    "                              axis= 0).sort_values(by='ds', axis=0)\n",
    "                   }"
   ]
  },
  {
   "cell_type": "code",
   "execution_count": 23,
   "metadata": {
    "scrolled": false
   },
   "outputs": [
    {
     "name": "stdout",
     "output_type": "stream",
     "text": [
      "KPP일별_반납회수(13_17)_withobject.xlsx\n",
      "RMSE with segment 1041: 1071.39551737\n",
      "MAPE with segment 1041: inf\n",
      "MAPE_with_std with segment 1041: 44.5699241618\n",
      "MAPE_div_std with segment 1041: 57.2767178689\n",
      "sMAPE of company code 1041: 8.41020812269\n",
      "          ds  temp_max  temp_min  rain_amount         yhat  1041\n",
      "0 2017-11-20       3.7      -4.0          0.2  5019.239924  5619\n",
      "1 2017-11-21       6.8       0.4          0.5  5509.996533  6057\n",
      "2 2017-11-22       9.5      -0.8          0.0  5623.277575  5674\n",
      "3 2017-11-23       4.3      -0.6          0.8  5438.740237  5686\n",
      "4 2017-11-24       2.9      -2.5          0.1  5706.779431  6261\n",
      "\n",
      "\n",
      "RMSE with segment 1692: 4959.89871444\n",
      "MAPE with segment 1692: inf\n",
      "MAPE_with_std with segment 1692: 35.6752437396\n",
      "MAPE_div_std with segment 1692: 98.8183825702\n",
      "sMAPE of company code 1692: 14.7352476342\n",
      "          ds  temp_max  temp_min  rain_amount          yhat   1692\n",
      "0 2017-11-20       3.7      -4.0          0.2  16711.308866  14471\n",
      "1 2017-11-21       6.8       0.4          0.5  17030.106117  14502\n",
      "2 2017-11-22       9.5      -0.8          0.0  16981.813514  16340\n",
      "3 2017-11-23       4.3      -0.6          0.8  16370.828601  14906\n",
      "4 2017-11-24       2.9      -2.5          0.1  17251.752864  14936\n",
      "\n",
      "\n",
      "RMSE with segment 1815: 26774.4556418\n",
      "MAPE with segment 1815: inf\n",
      "MAPE_with_std with segment 1815: 33.7266600873\n",
      "MAPE_div_std with segment 1815: 93.7769900096\n",
      "sMAPE of company code 1815: 19.4793816632\n",
      "          ds  temp_max  temp_min  rain_amount          yhat   1815\n",
      "0 2017-11-20       3.7      -4.0          0.2  76786.351540  68771\n",
      "1 2017-11-21       6.8       0.4          0.5  74099.637532  68764\n",
      "2 2017-11-22       9.5      -0.8          0.0  72574.429976  66381\n",
      "3 2017-11-23       4.3      -0.6          0.8  67441.410176  65666\n",
      "4 2017-11-24       2.9      -2.5          0.1  72037.274024  65094\n",
      "\n",
      "\n",
      "RMSE with segment 1853: 3876.92160175\n",
      "MAPE with segment 1853: inf\n",
      "MAPE_with_std with segment 1853: 92.0328429475\n",
      "MAPE_div_std with segment 1853: 129.092830429\n",
      "sMAPE of company code 1853: 59.8704125021\n",
      "          ds  temp_max  temp_min  rain_amount         yhat  1853\n",
      "0 2017-11-20       3.7      -4.0          0.2   748.451596  5444\n",
      "1 2017-11-21       6.8       0.4          0.5  1125.927317  5476\n",
      "2 2017-11-22       9.5      -0.8          0.0  2832.585912  6080\n",
      "3 2017-11-23       4.3      -0.6          0.8  4763.161184  4743\n",
      "4 2017-11-24       2.9      -2.5          0.1  3726.109844  4661\n"
     ]
    },
    {
     "name": "stderr",
     "output_type": "stream",
     "text": [
      "C:\\Nextop\\nextop-engine\\nextop_engine\\_element\\calculations.py:11: RuntimeWarning: divide by zero encountered in true_divide\n",
      "  return np.mean(np.abs((y_true - y_pred) / y_true)) * 100\n"
     ]
    },
    {
     "name": "stdout",
     "output_type": "stream",
     "text": [
      "\n",
      "\n",
      "RMSE with segment 1878: 1240.05707958\n",
      "MAPE with segment 1878: inf\n",
      "MAPE_with_std with segment 1878: 37.3691642755\n",
      "MAPE_div_std with segment 1878: 62.4478182892\n",
      "sMAPE of company code 1878: 7.90134722442\n",
      "          ds  temp_max  temp_min  rain_amount         yhat  1878\n",
      "0 2017-11-20       3.7      -4.0          0.2  5495.120153  5647\n",
      "1 2017-11-21       6.8       0.4          0.5  5818.318164  6246\n",
      "2 2017-11-22       9.5      -0.8          0.0  6016.332063  5510\n",
      "3 2017-11-23       4.3      -0.6          0.8  6140.407778  5441\n",
      "4 2017-11-24       2.9      -2.5          0.1  6783.237080  6290\n",
      "\n",
      "\n"
     ]
    }
   ],
   "source": [
    "forecast_dict={}\n",
    "print(INPUT_FILENAME)\n",
    "for y in y_col:\n",
    "    merged_dict[y]['future']['ds']= pd.to_datetime(merged_dict[y]['future']['ds'], box=True, format= '%Y/%m/%d', exact=True)\n",
    "    merged_dict[y]['forecastProphetTable']['ds']= pd.to_datetime(merged_dict[y]['forecastProphetTable']['ds'], box=True, format= '%Y/%m/%d', exact=True)\n",
    "    forecast_dict[y]= prpt.extract_info_from(merged_dict[y]['future'], merged_dict[y]['forecastProphetTable'], varr.FORECASTDAY)\n",
    "    forecast_dict[y]['result_df']= pd.merge(forecast_dict[y]['result_df'], df_raw[['ds', y]], how='inner', on='ds')\n",
    "    print('RMSE with segment '+str(y)+': '+str(calc.rms_error(forecast_dict[y]['result_df'][y], forecast_dict[y]['result_df']['yhat'])))\n",
    "    print('MAPE with segment '+str(y)+': '+str(calc.map_error(forecast_dict[y]['result_df'][y], forecast_dict[y]['result_df']['yhat'])))\n",
    "    print('MAPE_with_std with segment '+str(y)+': '+str(calc.map_error_with_std(forecast_dict[y]['result_df'][y], forecast_dict[y]['result_df']['yhat'])))\n",
    "    print('MAPE_div_std with segment '+str(y)+': '+str(calc.map_error_div_std(forecast_dict[y]['result_df'][y], forecast_dict[y]['result_df']['yhat'])))\n",
    "    print('sMAPE of company code '+str(y)+': '+str(calc.smap_error(forecast_dict[y]['result_df'][y], forecast_dict[y]['result_df']['yhat'])))\n",
    "    print(forecast_dict[y]['result_df'].head())\n",
    "    ft_c.save_as_xlsx(varr.PJ_DIR+varr.DF_DIR, forecast_dict[y]['result_df'], INPUT_FILENAME, '_seg'+str(y)+'withweekday')\n",
    "    print('\\n')"
   ]
  },
  {
   "cell_type": "code",
   "execution_count": 23,
   "metadata": {
    "collapsed": true
   },
   "outputs": [],
   "source": [
    "# result_dict[y]['sun']['model'].plot(result_dict[y]['sun']['forecastProphetTable'])"
   ]
  },
  {
   "cell_type": "code",
   "execution_count": 24,
   "metadata": {
    "collapsed": true
   },
   "outputs": [],
   "source": [
    "# result_dict[y]['sun']['model'].plot_components(result_dict[y]['sun']['forecastProphetTable'])"
   ]
  }
 ],
 "metadata": {
  "kernelspec": {
   "display_name": "Python 3",
   "language": "python",
   "name": "python3"
  },
  "language_info": {
   "codemirror_mode": {
    "name": "ipython",
    "version": 3
   },
   "file_extension": ".py",
   "mimetype": "text/x-python",
   "name": "python",
   "nbconvert_exporter": "python",
   "pygments_lexer": "ipython3",
   "version": "3.6.4"
  }
 },
 "nbformat": 4,
 "nbformat_minor": 2
}
