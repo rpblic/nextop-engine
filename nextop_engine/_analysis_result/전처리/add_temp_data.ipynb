{
 "cells": [
  {
   "cell_type": "markdown",
   "metadata": {},
   "source": [
    "## 날씨 데이터를 만드는 코드입니다.\n",
    "\n",
    "* 2010년부터 2017년까지 다운로드받은 날씨 데이터를 합쳤습니다."
   ]
  },
  {
   "cell_type": "code",
   "execution_count": 20,
   "metadata": {
    "collapsed": true
   },
   "outputs": [],
   "source": [
    "from _element import feature_control as ft_c"
   ]
  },
  {
   "cell_type": "code",
   "execution_count": 21,
   "metadata": {
    "collapsed": true
   },
   "outputs": [],
   "source": [
    "from _element import varr"
   ]
  },
  {
   "cell_type": "code",
   "execution_count": 22,
   "metadata": {
    "collapsed": true
   },
   "outputs": [],
   "source": [
    "import pandas as pd"
   ]
  },
  {
   "cell_type": "code",
   "execution_count": 23,
   "metadata": {
    "collapsed": true
   },
   "outputs": [],
   "source": [
    "import os, sys"
   ]
  },
  {
   "cell_type": "code",
   "execution_count": 24,
   "metadata": {
    "collapsed": true
   },
   "outputs": [],
   "source": [
    "path_name= 'c:\\\\Studying\\\\Project_Nextop\\\\nextop-engine\\\\nextop_engine'\n",
    "sys.path.append(path_name)"
   ]
  },
  {
   "cell_type": "code",
   "execution_count": null,
   "metadata": {
    "collapsed": true
   },
   "outputs": [],
   "source": [
    "temp_filelist=[]\n",
    "for root, dirs, files in os.walk(path_name+varr.TEMP_DATA_DIR):\n",
    "    for file_ in files:\n",
    "        temp_filelist.append(os.path.join(root, file_))"
   ]
  },
  {
   "cell_type": "code",
   "execution_count": null,
   "metadata": {
    "collapsed": true
   },
   "outputs": [],
   "source": [
    "temp_filelist"
   ]
  },
  {
   "cell_type": "code",
   "execution_count": null,
   "metadata": {
    "collapsed": true
   },
   "outputs": [],
   "source": [
    "ylist= ['2010', '2011', '2012', '2013', '2014', '2015', '2016', '2017']"
   ]
  },
  {
   "cell_type": "code",
   "execution_count": null,
   "metadata": {
    "collapsed": true,
    "scrolled": false
   },
   "outputs": [],
   "source": [
    "df_concat= pd.DataFrame()\n",
    "pathname= 'c:\\\\Studying\\\\Project_Nextop\\\\nextop-engine\\\\nextop_engine\\\\_element\\\\data\\\\temp_data\\\\'\n",
    "for y in ylist:\n",
    "    df= ft_c.add_temp_data(pathname+y+'_temp.csv', 'temp')\n",
    "    df2= ft_c.add_temp_data(pathname+y+'_rain.csv', 'rain')\n",
    "    df['rain_amount']= df2\n",
    "    print(df.head())\n",
    "    df_concat= pd.concat([df_concat, df], axis=0)"
   ]
  },
  {
   "cell_type": "code",
   "execution_count": null,
   "metadata": {
    "collapsed": true
   },
   "outputs": [],
   "source": [
    "df_concat"
   ]
  },
  {
   "cell_type": "code",
   "execution_count": null,
   "metadata": {
    "collapsed": true
   },
   "outputs": [],
   "source": [
    "ft_c.save_as_xlsx(pathname, df_concat, 'temp_data.xlsx', '_merged')"
   ]
  },
  {
   "cell_type": "code",
   "execution_count": null,
   "metadata": {
    "collapsed": true
   },
   "outputs": [],
   "source": [
    "ft_c.dir_list(path_name+'\\\\_element\\\\data\\\\temp_data', )"
   ]
  }
 ],
 "metadata": {
  "kernelspec": {
   "display_name": "Python 3",
   "language": "python",
   "name": "python3"
  },
  "language_info": {
   "codemirror_mode": {
    "name": "ipython",
    "version": 3
   },
   "file_extension": ".py",
   "mimetype": "text/x-python",
   "name": "python",
   "nbconvert_exporter": "python",
   "pygments_lexer": "ipython3",
   "version": "3.6.4"
  }
 },
 "nbformat": 4,
 "nbformat_minor": 2
}
