{
 "cells": [
  {
   "cell_type": "markdown",
   "metadata": {},
   "source": [
    "## 모든 공휴일 데이터를 event에 추가하기 위한 pickle 파일을 만드는 과정입니다.\n",
    "\n",
    "공휴일 데이터는 skt api에서 참조하였습니다."
   ]
  },
  {
   "cell_type": "code",
   "execution_count": 1,
   "metadata": {
    "collapsed": true
   },
   "outputs": [],
   "source": [
    "import urllib.request\n",
    "import json"
   ]
  },
  {
   "cell_type": "code",
   "execution_count": 2,
   "metadata": {
    "collapsed": true
   },
   "outputs": [],
   "source": [
    "url= 'https://apis.sktelecom.com/v1/eventday/days?type=h&year=2018'\n",
    "header= {'TDCProjectkey': 'de0836c9-99bd-4358-82cd-a62f55597bc3'}\n",
    "req= urllib.request.Request(url, headers= header)"
   ]
  },
  {
   "cell_type": "code",
   "execution_count": 3,
   "metadata": {
    "collapsed": true
   },
   "outputs": [],
   "source": [
    "urldata= urllib.request.urlopen(req).read()"
   ]
  },
  {
   "cell_type": "code",
   "execution_count": 4,
   "metadata": {
    "collapsed": true
   },
   "outputs": [],
   "source": [
    "jsondata= json.loads(urldata)"
   ]
  },
  {
   "cell_type": "markdown",
   "metadata": {},
   "source": [
    "* skt에서 받아온 공휴일 데이터입니다."
   ]
  },
  {
   "cell_type": "code",
   "execution_count": 11,
   "metadata": {},
   "outputs": [
    {
     "name": "stdout",
     "output_type": "stream",
     "text": [
      "[{'year': '2018', 'month': '01', 'day': '01', 'type': 'h', 'name': '신정'}, {'year': '2018', 'month': '02', 'day': '15', 'type': 'h', 'name': '설날연휴'}, {'year': '2018', 'month': '02', 'day': '16', 'type': 'h', 'name': '설날'}, {'year': '2018', 'month': '02', 'day': '17', 'type': 'h', 'name': '설날연휴'}, {'year': '2018', 'month': '03', 'day': '01', 'type': 'h', 'name': '삼일절'}, {'year': '2018', 'month': '05', 'day': '05', 'type': 'h', 'name': '어린이날'}, {'year': '2018', 'month': '05', 'day': '07', 'type': 'h', 'name': '대체공휴일'}, {'year': '2018', 'month': '05', 'day': '22', 'type': 'h', 'name': '석가탄신일'}, {'year': '2018', 'month': '06', 'day': '06', 'type': 'h', 'name': '현충일'}, {'year': '2018', 'month': '06', 'day': '13', 'type': 'h', 'name': '지방선거'}, {'year': '2018', 'month': '08', 'day': '15', 'type': 'h', 'name': '광복절'}, {'year': '2018', 'month': '09', 'day': '24', 'type': 'h', 'name': '추석'}, {'year': '2018', 'month': '09', 'day': '25', 'type': 'h', 'name': '추석연휴'}, {'year': '2018', 'month': '09', 'day': '26', 'type': 'h', 'name': '대체공휴일'}, {'year': '2018', 'month': '10', 'day': '03', 'type': 'h', 'name': '개천절'}, {'year': '2018', 'month': '10', 'day': '09', 'type': 'h', 'name': '한글날'}, {'year': '2018', 'month': '12', 'day': '25', 'type': 'h', 'name': '성탄절'}]\n"
     ]
    }
   ],
   "source": [
    "print(jsondata['results'])"
   ]
  },
  {
   "cell_type": "code",
   "execution_count": 7,
   "metadata": {},
   "outputs": [
    {
     "name": "stdout",
     "output_type": "stream",
     "text": [
      "C:\\Studying\\Project_Nextop\\nextop-engine\\nextop_engine\n"
     ]
    }
   ],
   "source": [
    "import os, sys\n",
    "path_name= os.path.dirname(os.path.abspath(os.path.dirname(os.getcwd())))\n",
    "sys.path.append(path_name)"
   ]
  },
  {
   "cell_type": "code",
   "execution_count": 8,
   "metadata": {},
   "outputs": [
    {
     "name": "stderr",
     "output_type": "stream",
     "text": [
      "C:\\Anaconda3\\lib\\site-packages\\statsmodels\\compat\\pandas.py:56: FutureWarning: The pandas.core.datetools module is deprecated and will be removed in a future version. Please use the pandas.tseries module instead.\n",
      "  from pandas.core import datetools\n"
     ]
    }
   ],
   "source": [
    "from _element import feature_control as ft_c\n",
    "from _element import varr"
   ]
  },
  {
   "cell_type": "code",
   "execution_count": 9,
   "metadata": {},
   "outputs": [
    {
     "data": {
      "text/html": [
       "<div>\n",
       "<style scoped>\n",
       "    .dataframe tbody tr th:only-of-type {\n",
       "        vertical-align: middle;\n",
       "    }\n",
       "\n",
       "    .dataframe tbody tr th {\n",
       "        vertical-align: top;\n",
       "    }\n",
       "\n",
       "    .dataframe thead th {\n",
       "        text-align: right;\n",
       "    }\n",
       "</style>\n",
       "<table border=\"1\" class=\"dataframe\">\n",
       "  <thead>\n",
       "    <tr style=\"text-align: right;\">\n",
       "      <th></th>\n",
       "      <th>ds</th>\n",
       "      <th>holiday</th>\n",
       "      <th>lower_window</th>\n",
       "      <th>upper_window</th>\n",
       "    </tr>\n",
       "  </thead>\n",
       "  <tbody>\n",
       "    <tr>\n",
       "      <th>0</th>\n",
       "      <td>2011-02-03</td>\n",
       "      <td>newyear</td>\n",
       "      <td>-4</td>\n",
       "      <td>4</td>\n",
       "    </tr>\n",
       "    <tr>\n",
       "      <th>1</th>\n",
       "      <td>2012-01-23</td>\n",
       "      <td>newyear</td>\n",
       "      <td>-4</td>\n",
       "      <td>4</td>\n",
       "    </tr>\n",
       "    <tr>\n",
       "      <th>2</th>\n",
       "      <td>2013-02-10</td>\n",
       "      <td>newyear</td>\n",
       "      <td>-4</td>\n",
       "      <td>4</td>\n",
       "    </tr>\n",
       "    <tr>\n",
       "      <th>3</th>\n",
       "      <td>2014-01-31</td>\n",
       "      <td>newyear</td>\n",
       "      <td>-4</td>\n",
       "      <td>4</td>\n",
       "    </tr>\n",
       "    <tr>\n",
       "      <th>4</th>\n",
       "      <td>2015-02-19</td>\n",
       "      <td>newyear</td>\n",
       "      <td>-4</td>\n",
       "      <td>4</td>\n",
       "    </tr>\n",
       "    <tr>\n",
       "      <th>5</th>\n",
       "      <td>2016-02-09</td>\n",
       "      <td>newyear</td>\n",
       "      <td>-4</td>\n",
       "      <td>4</td>\n",
       "    </tr>\n",
       "    <tr>\n",
       "      <th>6</th>\n",
       "      <td>2017-02-28</td>\n",
       "      <td>newyear</td>\n",
       "      <td>-4</td>\n",
       "      <td>4</td>\n",
       "    </tr>\n",
       "    <tr>\n",
       "      <th>7</th>\n",
       "      <td>2018-02-16</td>\n",
       "      <td>newyear</td>\n",
       "      <td>-4</td>\n",
       "      <td>4</td>\n",
       "    </tr>\n",
       "    <tr>\n",
       "      <th>0</th>\n",
       "      <td>2010-09-22</td>\n",
       "      <td>thanksgiving</td>\n",
       "      <td>-4</td>\n",
       "      <td>4</td>\n",
       "    </tr>\n",
       "    <tr>\n",
       "      <th>1</th>\n",
       "      <td>2011-09-12</td>\n",
       "      <td>thanksgiving</td>\n",
       "      <td>-4</td>\n",
       "      <td>4</td>\n",
       "    </tr>\n",
       "    <tr>\n",
       "      <th>2</th>\n",
       "      <td>2012-09-30</td>\n",
       "      <td>thanksgiving</td>\n",
       "      <td>-4</td>\n",
       "      <td>4</td>\n",
       "    </tr>\n",
       "    <tr>\n",
       "      <th>3</th>\n",
       "      <td>2013-09-19</td>\n",
       "      <td>thanksgiving</td>\n",
       "      <td>-4</td>\n",
       "      <td>4</td>\n",
       "    </tr>\n",
       "    <tr>\n",
       "      <th>4</th>\n",
       "      <td>2014-09-09</td>\n",
       "      <td>thanksgiving</td>\n",
       "      <td>-4</td>\n",
       "      <td>4</td>\n",
       "    </tr>\n",
       "    <tr>\n",
       "      <th>5</th>\n",
       "      <td>2015-09-27</td>\n",
       "      <td>thanksgiving</td>\n",
       "      <td>-4</td>\n",
       "      <td>4</td>\n",
       "    </tr>\n",
       "    <tr>\n",
       "      <th>6</th>\n",
       "      <td>2016-09-15</td>\n",
       "      <td>thanksgiving</td>\n",
       "      <td>-4</td>\n",
       "      <td>4</td>\n",
       "    </tr>\n",
       "    <tr>\n",
       "      <th>7</th>\n",
       "      <td>2017-10-04</td>\n",
       "      <td>thanksgiving</td>\n",
       "      <td>-4</td>\n",
       "      <td>4</td>\n",
       "    </tr>\n",
       "    <tr>\n",
       "      <th>8</th>\n",
       "      <td>2018-09-24</td>\n",
       "      <td>thanksgiving</td>\n",
       "      <td>-4</td>\n",
       "      <td>4</td>\n",
       "    </tr>\n",
       "  </tbody>\n",
       "</table>\n",
       "</div>"
      ],
      "text/plain": [
       "          ds       holiday  lower_window  upper_window\n",
       "0 2011-02-03       newyear            -4             4\n",
       "1 2012-01-23       newyear            -4             4\n",
       "2 2013-02-10       newyear            -4             4\n",
       "3 2014-01-31       newyear            -4             4\n",
       "4 2015-02-19       newyear            -4             4\n",
       "5 2016-02-09       newyear            -4             4\n",
       "6 2017-02-28       newyear            -4             4\n",
       "7 2018-02-16       newyear            -4             4\n",
       "0 2010-09-22  thanksgiving            -4             4\n",
       "1 2011-09-12  thanksgiving            -4             4\n",
       "2 2012-09-30  thanksgiving            -4             4\n",
       "3 2013-09-19  thanksgiving            -4             4\n",
       "4 2014-09-09  thanksgiving            -4             4\n",
       "5 2015-09-27  thanksgiving            -4             4\n",
       "6 2016-09-15  thanksgiving            -4             4\n",
       "7 2017-10-04  thanksgiving            -4             4\n",
       "8 2018-09-24  thanksgiving            -4             4"
      ]
     },
     "execution_count": 9,
     "metadata": {},
     "output_type": "execute_result"
    }
   ],
   "source": [
    "varr.HOLYDAYBETA"
   ]
  },
  {
   "cell_type": "markdown",
   "metadata": {},
   "source": [
    "* skt에서 받은 공휴일 데이터를 list로 정리합니다."
   ]
  },
  {
   "cell_type": "code",
   "execution_count": 18,
   "metadata": {},
   "outputs": [
    {
     "name": "stdout",
     "output_type": "stream",
     "text": [
      "['2014-01-01', '2014-01-30', '2014-01-31', '2014-02-01', '2014-03-01', '2014-05-05', '2014-05-06', '2014-06-04', '2014-06-06', '2014-08-15', '2014-09-07', '2014-09-08', '2014-09-09', '2014-10-03', '2014-10-09', '2014-12-25', '2015-01-01', '2015-02-18', '2015-02-19', '2015-02-20', '2015-03-01', '2015-05-05', '2015-05-25', '2015-06-06', '2015-08-15', '2015-09-26', '2015-09-27', '2015-09-28', '2015-10-03', '2015-10-09', '2015-12-25', '2016-01-01', '2016-02-07', '2016-02-08', '2016-02-09', '2016-03-01', '2016-04-13', '2016-05-05', '2016-05-06', '2016-06-06', '2016-08-15', '2016-09-14', '2016-09-15', '2016-09-16', '2016-10-03', '2016-10-09', '2016-12-25', '2017-01-01', '2017-01-27', '2017-01-28', '2017-01-29', '2017-03-01', '2017-05-03', '2017-05-05', '2017-05-09', '2017-06-06', '2017-08-15', '2017-10-02', '2017-10-03', '2017-10-03', '2017-10-04', '2017-10-05', '2017-10-09', '2017-12-25', '2018-01-01', '2018-02-15', '2018-02-16', '2018-02-17', '2018-03-01', '2018-05-05', '2018-05-07', '2018-05-22', '2018-06-06', '2018-06-13', '2018-08-15', '2018-09-24', '2018-09-25', '2018-09-26', '2018-10-03', '2018-10-09', '2018-12-25']\n"
     ]
    }
   ],
   "source": [
    "holidaylist= []\n",
    "for i in range(2010, 2019):\n",
    "    url= 'https://apis.sktelecom.com/v1/eventday/days?type=h&year={}'.format(i)\n",
    "    req= urllib.request.Request(url, headers= header)\n",
    "    urldata= urllib.request.urlopen(req).read()\n",
    "    jsondata= json.loads(urldata)\n",
    "    holidaylist.extend(['{}-{}-{}'.format(elmt['year'], elmt['month'], elmt['day'])\n",
    "                       for elmt in jsondata['results']])\n",
    "print(holidaylist)"
   ]
  },
  {
   "cell_type": "markdown",
   "metadata": {},
   "source": [
    "* 10년부터 13년까지의 공휴일은 skt api에서 제공하지 않으므로 수동으로 넣어 줍니다."
   ]
  },
  {
   "cell_type": "code",
   "execution_count": 19,
   "metadata": {
    "collapsed": true
   },
   "outputs": [],
   "source": [
    "holidaylist.extend([\n",
    "    '2010-01-01', '2010-02-13', '2010-02-14', '2010-02-15', '2010-03-01', \n",
    "    '2010-05-05', '2010-05-21', '2010-09-21', \n",
    "    '2010-09-22', '2010-09-23', '2010-12-25',\n",
    "    '2011-01-01', '2011-02-02', '2011-02-03', '2011-02-04', '2011-03-01', \n",
    "    '2011-05-05', '2011-05-10', '2011-06-06', '2011-08-15', '2011-09-11', \n",
    "    '2011-09-12', '2011-09-13', '2011-10-03', '2011-12-25',\n",
    "    '2012-01-01', '2012-01-22', '2012-01-23', '2012-01-24', '2012-03-01', \n",
    "    '2012-05-05', '2012-05-28', '2012-06-06', '2012-08-15', '2012-09-29', \n",
    "    '2012-09-30', '2012-10-01', '2012-10-03', '2012-12-25',\n",
    "    '2013-01-01', '2013-02-09', '2013-02-10', '2013-02-11', '2013-03-01',\n",
    "    '2013-05-05', '2013-05-17', '2013-06-06', '2013-08-15', '2013-09-18', \n",
    "    '2013-09-19', '2013-09-20', '2013-10-03', '2013-12-25'\n",
    "])"
   ]
  },
  {
   "cell_type": "code",
   "execution_count": 25,
   "metadata": {
    "collapsed": true
   },
   "outputs": [],
   "source": [
    "holidaylist.sort()"
   ]
  },
  {
   "cell_type": "code",
   "execution_count": 27,
   "metadata": {
    "collapsed": true
   },
   "outputs": [],
   "source": [
    "import pickle\n",
    "with open(path_name+'/_element/data/temp_data/reddays.pickle', 'wb') as f:\n",
    "    pickle.dump(holidaylist, f)"
   ]
  },
  {
   "cell_type": "code",
   "execution_count": 29,
   "metadata": {
    "collapsed": true
   },
   "outputs": [],
   "source": [
    "with open(path_name+'/_element/data/temp_data/reddays.pickle', 'rb') as f:\n",
    "    holidaylist= pickle.load(f)"
   ]
  },
  {
   "cell_type": "markdown",
   "metadata": {},
   "source": [
    "* 노동자의 날을 추가합니다."
   ]
  },
  {
   "cell_type": "code",
   "execution_count": 31,
   "metadata": {
    "collapsed": true
   },
   "outputs": [],
   "source": [
    "holidaylist.extend(\n",
    "                ['2010-05-01', '2011-05-01', '2012-05-01', '2013-05-01', \n",
    "                '2014-05-01', '2015-05-01', '2016-05-01', '2017-05-01', '2018-05-01',])"
   ]
  },
  {
   "cell_type": "code",
   "execution_count": 32,
   "metadata": {
    "collapsed": true
   },
   "outputs": [],
   "source": [
    "holidaylist.sort()"
   ]
  },
  {
   "cell_type": "code",
   "execution_count": 34,
   "metadata": {
    "collapsed": true
   },
   "outputs": [],
   "source": [
    "with open(path_name+'/_element/data/temp_data/reddays.pickle', 'wb') as f:\n",
    "    pickle.dump(holidaylist, f)"
   ]
  },
  {
   "cell_type": "code",
   "execution_count": null,
   "metadata": {
    "collapsed": true
   },
   "outputs": [],
   "source": []
  }
 ],
 "metadata": {
  "kernelspec": {
   "display_name": "Python 3",
   "language": "python",
   "name": "python3"
  },
  "language_info": {
   "codemirror_mode": {
    "name": "ipython",
    "version": 3
   },
   "file_extension": ".py",
   "mimetype": "text/x-python",
   "name": "python",
   "nbconvert_exporter": "python",
   "pygments_lexer": "ipython3",
   "version": "3.6.4"
  }
 },
 "nbformat": 4,
 "nbformat_minor": 2
}
