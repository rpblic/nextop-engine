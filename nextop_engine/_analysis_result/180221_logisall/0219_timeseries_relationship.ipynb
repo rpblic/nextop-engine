{
 "cells": [
  {
   "cell_type": "code",
   "execution_count": 1,
   "metadata": {},
   "outputs": [
    {
     "name": "stdout",
     "output_type": "stream",
     "text": [
      "C:\\Nextop\\nextop-engine\\nextop_engine\n"
     ]
    }
   ],
   "source": [
    "import os, sys\n",
    "path_name= os.path.dirname(os.path.abspath(os.path.dirname(os.getcwd())))\n",
    "sys.path.append(path_name)\n",
    "print(path_name)"
   ]
  },
  {
   "cell_type": "code",
   "execution_count": 2,
   "metadata": {},
   "outputs": [
    {
     "name": "stderr",
     "output_type": "stream",
     "text": [
      "C:\\ProgramData\\Anaconda3\\lib\\site-packages\\statsmodels\\compat\\pandas.py:56: FutureWarning: The pandas.core.datetools module is deprecated and will be removed in a future version. Please use the pandas.tseries module instead.\n",
      "  from pandas.core import datetools\n"
     ]
    }
   ],
   "source": [
    "from _element import feature_control as ft_c\n",
    "from _element.data_control import Data, DataRestruction, DataAddition\n",
    "from _element import varr\n",
    "from _element import calculations as calc\n",
    "from _element.result_control import Result\n",
    "\n",
    "from _alg.prophet import Prophet_timeseries\n",
    "from _alg.arima import Arima_timeseries\n",
    "\n",
    "from _evaluation.cross_validation import Cross_Validation\n",
    "from _evaluation import compare"
   ]
  },
  {
   "cell_type": "code",
   "execution_count": 3,
   "metadata": {
    "collapsed": true
   },
   "outputs": [],
   "source": [
    "import numpy as np\n",
    "import pandas as pd\n",
    "import seaborn as sns\n",
    "import matplotlib.pyplot as plt\n",
    "from sklearn.mixture import GaussianMixture"
   ]
  },
  {
   "cell_type": "code",
   "execution_count": 5,
   "metadata": {},
   "outputs": [],
   "source": [
    "INPUT_IN= 'KPP일별투입(10_17)_withallobj.xlsx'\n",
    "df_in= ft_c.xlsx_opener(INPUT_IN, df_dir= varr.PJ_DIR + '\\\\_element\\\\data\\\\private\\\\')"
   ]
  },
  {
   "cell_type": "code",
   "execution_count": 7,
   "metadata": {},
   "outputs": [],
   "source": [
    "INPUT_OUT= 'KPP_계약처_입고출고(2015-2017)_daily_obj.pickle'\n",
    "df_out= pd.read_pickle(varr.PJ_DIR + '\\\\_element\\\\data\\\\private_IO\\\\'+ INPUT_OUT)"
   ]
  },
  {
   "cell_type": "code",
   "execution_count": null,
   "metadata": {
    "collapsed": true
   },
   "outputs": [],
   "source": [
    "INPUT_RETURN= "
   ]
  }
 ],
 "metadata": {
  "kernelspec": {
   "display_name": "Python 3",
   "language": "python",
   "name": "python3"
  },
  "language_info": {
   "codemirror_mode": {
    "name": "ipython",
    "version": 3
   },
   "file_extension": ".py",
   "mimetype": "text/x-python",
   "name": "python",
   "nbconvert_exporter": "python",
   "pygments_lexer": "ipython3",
   "version": "3.6.4"
  }
 },
 "nbformat": 4,
 "nbformat_minor": 2
}
