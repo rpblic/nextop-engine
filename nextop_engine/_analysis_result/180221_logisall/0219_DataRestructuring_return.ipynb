{
 "cells": [
  {
   "cell_type": "code",
   "execution_count": 1,
   "metadata": {},
   "outputs": [
    {
     "name": "stdout",
     "output_type": "stream",
     "text": [
      "C:\\Nextop\\nextop-engine\\nextop_engine\n"
     ]
    }
   ],
   "source": [
    "import os, sys\n",
    "path_name= os.path.dirname(os.path.abspath(os.path.dirname(os.getcwd())))\n",
    "sys.path.append(path_name)\n",
    "print(path_name)"
   ]
  },
  {
   "cell_type": "code",
   "execution_count": 2,
   "metadata": {},
   "outputs": [
    {
     "name": "stderr",
     "output_type": "stream",
     "text": [
      "C:\\ProgramData\\Anaconda3\\lib\\site-packages\\statsmodels\\compat\\pandas.py:56: FutureWarning: The pandas.core.datetools module is deprecated and will be removed in a future version. Please use the pandas.tseries module instead.\n",
      "  from pandas.core import datetools\n"
     ]
    }
   ],
   "source": [
    "from _element import feature_control as ft_c\n",
    "from _element.data_control import Data, DataRestruction, DataAddition\n",
    "from _element import varr\n",
    "from _element import calculations as calc\n",
    "from _element.result_control import Result\n",
    "\n",
    "from _alg.prophet import Prophet_timeseries\n",
    "from _alg.arima import Arima_timeseries\n",
    "\n",
    "from _evaluation.cross_validation import Cross_Validation"
   ]
  },
  {
   "cell_type": "code",
   "execution_count": 3,
   "metadata": {
    "collapsed": true
   },
   "outputs": [],
   "source": [
    "import numpy as np\n",
    "import pandas as pd\n",
    "import seaborn as sns\n",
    "import matplotlib.pyplot as plt\n",
    "from sklearn.mixture import GaussianMixture"
   ]
  },
  {
   "cell_type": "code",
   "execution_count": 21,
   "metadata": {},
   "outputs": [
    {
     "data": {
      "text/plain": [
       "False"
      ]
     },
     "execution_count": 21,
     "metadata": {},
     "output_type": "execute_result"
    }
   ],
   "source": [
    "'\\t ' in '\\tabc\\t'"
   ]
  },
  {
   "cell_type": "code",
   "execution_count": 30,
   "metadata": {
    "scrolled": false
   },
   "outputs": [
    {
     "name": "stdout",
     "output_type": "stream",
     "text": [
      "2010.csv\n",
      "     회사코드        일자      유형   수량\n",
      "0  297187  20100101  1815.0   26\n",
      "1  296285  20100101  1815.0   30\n",
      "2  289843  20100101  1815.0  200\n",
      "3  284064  20100101  1261.0   15\n",
      "4  230773  20100101  1815.0    2\n",
      "<class 'pandas.core.frame.DataFrame'>\n",
      "RangeIndex: 48623 entries, 0 to 48622\n",
      "Data columns (total 4 columns):\n",
      "회사코드    48623 non-null int64\n",
      "일자      48623 non-null int64\n",
      "유형      48622 non-null float64\n",
      "수량      48623 non-null int64\n",
      "dtypes: float64(1), int64(3)\n",
      "memory usage: 1.5 MB\n",
      "None\n",
      "          ds  1025   1041  1091  1127  1216  1242    1261   1355   1373  \\\n",
      "0 2010-01-01   0.0    5.0   0.0   0.0   0.0   0.0    15.0    0.0    0.0   \n",
      "1 2010-01-02  63.0  157.0  38.0   0.0   2.0   5.0  1429.0    0.0   45.0   \n",
      "2 2010-01-03   0.0    0.0   0.0   0.0   0.0   0.0     0.0    0.0    0.0   \n",
      "3 2010-01-04  27.0  109.0   0.0   0.0   0.0   3.0  1355.0  149.0  261.0   \n",
      "4 2010-01-05  50.0  183.0   0.0   0.0   2.0  14.0  1816.0    0.0    6.0   \n",
      "\n",
      "    ...       1692  1745   1797  1800     1815  1817    1853   1878  1891  \\\n",
      "0   ...        0.0   0.0    0.0   0.0   4608.0   0.0     0.0    0.0   0.0   \n",
      "1   ...      844.0   0.0    7.0   3.0  12395.0   0.0     4.0   25.0   0.0   \n",
      "2   ...        0.0   0.0    0.0   0.0    649.0   0.0     0.0    0.0   0.0   \n",
      "3   ...     1109.0   3.0    0.0   1.0  12490.0   0.0   195.0  241.0   0.0   \n",
      "4   ...     1337.0   0.0  192.0   2.0  14359.0   0.0  1142.0   26.0   0.0   \n",
      "\n",
      "     y_sum  \n",
      "0   4723.0  \n",
      "1  15217.0  \n",
      "2    649.0  \n",
      "3  16172.0  \n",
      "4  19382.0  \n",
      "\n",
      "[5 rows x 25 columns]\n",
      "<class 'pandas.core.frame.DataFrame'>\n",
      "RangeIndex: 363 entries, 0 to 362\n",
      "Data columns (total 25 columns):\n",
      "ds       363 non-null datetime64[ns]\n",
      "1025     363 non-null float64\n",
      "1041     363 non-null float64\n",
      "1091     363 non-null float64\n",
      "1127     363 non-null float64\n",
      "1216     363 non-null float64\n",
      "1242     363 non-null float64\n",
      "1261     363 non-null float64\n",
      "1355     363 non-null float64\n",
      "1373     363 non-null float64\n",
      "1375     363 non-null float64\n",
      "1376     363 non-null float64\n",
      "1396     363 non-null float64\n",
      "1627     363 non-null float64\n",
      "1656     363 non-null float64\n",
      "1692     363 non-null float64\n",
      "1745     363 non-null float64\n",
      "1797     363 non-null float64\n",
      "1800     363 non-null float64\n",
      "1815     363 non-null float64\n",
      "1817     363 non-null float64\n",
      "1853     363 non-null float64\n",
      "1878     363 non-null float64\n",
      "1891     363 non-null float64\n",
      "y_sum    363 non-null float64\n",
      "dtypes: datetime64[ns](1), float64(24)\n",
      "memory usage: 71.0 KB\n",
      "None\n",
      "2011.csv\n",
      "     회사코드        일자    유형    수량\n",
      "0  289843  20110101  1815   250\n",
      "1  227609  20110101  1396    14\n",
      "2  227609  20110101  1815  4627\n",
      "3  227609  20110101  1656    82\n",
      "4  224455  20110101  1815     2\n",
      "<class 'pandas.core.frame.DataFrame'>\n",
      "RangeIndex: 49164 entries, 0 to 49163\n",
      "Data columns (total 4 columns):\n",
      "회사코드    49164 non-null int64\n",
      "일자      49164 non-null int64\n",
      "유형      49164 non-null int64\n",
      "수량      49164 non-null int64\n",
      "dtypes: int64(4)\n",
      "memory usage: 1.5 MB\n",
      "None\n",
      "          ds  1025  1032    1041  1091  1127  1216  1242    1261  1298  \\\n",
      "0 2011-01-01   0.0   0.0     0.0   0.0   0.0   0.0   0.0     0.0   0.0   \n",
      "1 2011-01-02   0.0   0.0     0.0   0.0   0.0   0.0   0.0     0.0   0.0   \n",
      "2 2011-01-03   3.0   0.0  1024.0   0.0   0.0   1.0   2.0  3357.0   0.0   \n",
      "3 2011-01-04   9.0   0.0   348.0   0.0   0.0   0.0   4.0  1732.0   0.0   \n",
      "4 2011-01-05   7.0   0.0   985.0   0.0   0.0   2.0   0.0  2674.0   0.0   \n",
      "\n",
      "    ...     1754   1797  1800     1815  1817  1852   1853   1878   1891  \\\n",
      "0   ...      0.0    0.0   0.0   5413.0   0.0   0.0    0.0    0.0    0.0   \n",
      "1   ...      0.0    0.0   0.0   4195.0   0.0   0.0    0.0    0.0    0.0   \n",
      "2   ...      0.0  100.0   0.0  18287.0   0.0   0.0    0.0   79.0    0.0   \n",
      "3   ...      0.0   10.0   0.0  23544.0   0.0   0.0   44.0   31.0    0.0   \n",
      "4   ...      0.0  161.0   0.0  15210.0   0.0   0.0  204.0  327.0  330.0   \n",
      "\n",
      "     y_sum  \n",
      "0   5509.0  \n",
      "1   4255.0  \n",
      "2  24228.0  \n",
      "3  27749.0  \n",
      "4  22225.0  \n",
      "\n",
      "[5 rows x 30 columns]\n",
      "<class 'pandas.core.frame.DataFrame'>\n",
      "RangeIndex: 363 entries, 0 to 362\n",
      "Data columns (total 30 columns):\n",
      "ds       363 non-null datetime64[ns]\n",
      "1025     363 non-null float64\n",
      "1032     363 non-null float64\n",
      "1041     363 non-null float64\n",
      "1091     363 non-null float64\n",
      "1127     363 non-null float64\n",
      "1216     363 non-null float64\n",
      "1242     363 non-null float64\n",
      "1261     363 non-null float64\n",
      "1298     363 non-null float64\n",
      "1355     363 non-null float64\n",
      "1373     363 non-null float64\n",
      "1375     363 non-null float64\n",
      "1376     363 non-null float64\n",
      "1396     363 non-null float64\n",
      "1627     363 non-null float64\n",
      "1656     363 non-null float64\n",
      "1692     363 non-null float64\n",
      "1729     363 non-null float64\n",
      "1745     363 non-null float64\n",
      "1754     363 non-null float64\n",
      "1797     363 non-null float64\n",
      "1800     363 non-null float64\n",
      "1815     363 non-null float64\n",
      "1817     363 non-null float64\n",
      "1852     363 non-null float64\n",
      "1853     363 non-null float64\n",
      "1878     363 non-null float64\n",
      "1891     363 non-null float64\n",
      "y_sum    363 non-null float64\n",
      "dtypes: datetime64[ns](1), float64(29)\n",
      "memory usage: 85.2 KB\n",
      "None\n",
      "2013-Table 1.csv\n",
      "     회사코드        일자    유형    수량\n",
      "0  222024  20130101  1815   256\n",
      "1  225148  20130101  1815    16\n",
      "2  225739  20130101  1815    30\n",
      "3  227583  20130101  1815    16\n",
      "4  227609  20130101  1815  3724\n",
      "<class 'pandas.core.frame.DataFrame'>\n",
      "RangeIndex: 53039 entries, 0 to 53038\n",
      "Data columns (total 4 columns):\n",
      "회사코드    53039 non-null int64\n",
      "일자      53039 non-null int64\n",
      "유형      53039 non-null int64\n",
      "수량      53039 non-null int64\n",
      "dtypes: int64(4)\n",
      "memory usage: 1.6 MB\n",
      "None\n",
      "          ds  1025  1032   1041  1091  1127  1163  1216  1242    1261  \\\n",
      "0 2013-01-01   0.0   0.0   81.0   0.0   0.0   0.0   0.0   0.0   584.0   \n",
      "1 2013-01-02   0.0   0.0  213.0   0.0   0.0   0.0   0.0   0.0  1094.0   \n",
      "2 2013-01-03   0.0   0.0  127.0   0.0   0.0   0.0   0.0   0.0  1647.0   \n",
      "3 2013-01-04   0.0   0.0  337.0   0.0   0.0   0.0   0.0   1.0  1820.0   \n",
      "4 2013-01-05   0.0   0.0  104.0   0.0   0.0   0.0   0.0   0.0  2288.0   \n",
      "\n",
      "    ...     1754  1797  1800     1815  1817  1852    1853   1878  1891  \\\n",
      "0   ...      0.0   0.0   0.0   7680.0   0.0   0.0     0.0    0.0   0.0   \n",
      "1   ...      0.0   0.0   0.0  19720.0   0.0   0.0    93.0   19.0   0.0   \n",
      "2   ...      0.0   0.0   0.0  21738.0   0.0   0.0   194.0   76.0   0.0   \n",
      "3   ...      0.0  93.0   0.0  21401.0   0.0   0.0   231.0  239.0   0.0   \n",
      "4   ...      0.0   0.0   0.0  20027.0   0.0   0.0  1128.0  119.0   0.0   \n",
      "\n",
      "     y_sum  \n",
      "0   8373.0  \n",
      "1  24384.0  \n",
      "2  26226.0  \n",
      "3  27529.0  \n",
      "4  25882.0  \n",
      "\n",
      "[5 rows x 30 columns]\n",
      "<class 'pandas.core.frame.DataFrame'>\n",
      "RangeIndex: 364 entries, 0 to 363\n",
      "Data columns (total 30 columns):\n",
      "ds       364 non-null datetime64[ns]\n",
      "1025     364 non-null float64\n",
      "1032     364 non-null float64\n",
      "1041     364 non-null float64\n",
      "1091     364 non-null float64\n",
      "1127     364 non-null float64\n",
      "1163     364 non-null float64\n",
      "1216     364 non-null float64\n",
      "1242     364 non-null float64\n",
      "1261     364 non-null float64\n",
      "1355     364 non-null float64\n",
      "1373     364 non-null float64\n",
      "1375     364 non-null float64\n",
      "1376     364 non-null float64\n",
      "1396     364 non-null float64\n",
      "1627     364 non-null float64\n",
      "1656     364 non-null float64\n",
      "1692     364 non-null float64\n",
      "1729     364 non-null float64\n",
      "1745     364 non-null float64\n",
      "1754     364 non-null float64\n",
      "1797     364 non-null float64\n",
      "1800     364 non-null float64\n",
      "1815     364 non-null float64\n",
      "1817     364 non-null float64\n",
      "1852     364 non-null float64\n",
      "1853     364 non-null float64\n",
      "1878     364 non-null float64\n",
      "1891     364 non-null float64\n",
      "y_sum    364 non-null float64\n",
      "dtypes: datetime64[ns](1), float64(29)\n",
      "memory usage: 85.4 KB\n",
      "None\n",
      "2014-Table 1.csv\n",
      "     회사코드        일자    유형   수량\n",
      "0  289843  20140101  1853  155\n",
      "1  289135  20140101  1853   12\n",
      "2  265731  20140101  1853  201\n",
      "3  265731  20140101  1853    5\n",
      "4  265731  20140101  1853    1\n",
      "<class 'pandas.core.frame.DataFrame'>\n",
      "RangeIndex: 49883 entries, 0 to 49882\n",
      "Data columns (total 4 columns):\n",
      "회사코드    49883 non-null int64\n",
      "일자      49883 non-null int64\n",
      "유형      49883 non-null int64\n",
      "수량      49883 non-null int64\n",
      "dtypes: int64(4)\n",
      "memory usage: 1.5 MB\n",
      "None\n",
      "          ds   1853  y_sum\n",
      "0 2014-01-01   8490   8490\n",
      "1 2014-01-02  26596  26596\n",
      "2 2014-01-03  28012  28012\n",
      "3 2014-01-04  18640  18640\n",
      "4 2014-01-05   3714   3714\n",
      "<class 'pandas.core.frame.DataFrame'>\n",
      "RangeIndex: 365 entries, 0 to 364\n",
      "Data columns (total 3 columns):\n",
      "ds       365 non-null datetime64[ns]\n",
      "1853     365 non-null int64\n",
      "y_sum    365 non-null int64\n",
      "dtypes: datetime64[ns](1), int64(2)\n",
      "memory usage: 8.6 KB\n",
      "None\n",
      "2015-Table 1.csv\n",
      "     회사코드        일자    유형   수량\n",
      "0  289843  20150101  1815  512\n",
      "1  289843  20150101  1692  288\n",
      "2  266453  20150101  1815  183\n",
      "3  265423  20150101  1815    8\n",
      "4  254962  20150101  1815  264\n",
      "<class 'pandas.core.frame.DataFrame'>\n",
      "RangeIndex: 51522 entries, 0 to 51521\n",
      "Data columns (total 4 columns):\n",
      "회사코드    51522 non-null int64\n",
      "일자      51522 non-null int64\n",
      "유형      51522 non-null int64\n",
      "수량      51522 non-null int64\n",
      "dtypes: int64(4)\n",
      "memory usage: 1.6 MB\n",
      "None\n"
     ]
    },
    {
     "name": "stdout",
     "output_type": "stream",
     "text": [
      "          ds  1025  1032   1041  1057  1091  1119  1127  1163  1216   ...     \\\n",
      "0 2015-01-01   0.0   0.0   16.0   0.0   0.0   0.0   0.0   0.0   0.0   ...      \n",
      "1 2015-01-02   0.0   0.0  190.0   0.0  67.0   0.0   0.0   0.0   0.0   ...      \n",
      "2 2015-01-03   0.0   0.0  254.0   0.0   0.0   0.0   0.0   0.0   0.0   ...      \n",
      "3 2015-01-04   0.0   0.0    0.0   0.0   0.0   0.0   0.0   0.0   0.0   ...      \n",
      "4 2015-01-05   0.0   0.0  169.0   0.0   0.0   0.0   0.0   0.0   0.0   ...      \n",
      "\n",
      "   1745  1754  1797  1800     1815  1817   1853   1878  1891    y_sum  \n",
      "0   0.0   0.0   0.0   0.0   7288.0   0.0    0.0    0.0   0.0   8813.0  \n",
      "1   0.0   0.0   0.0   0.0  19425.0   0.0  141.0  196.0   0.0  22871.0  \n",
      "2   0.0   0.0   0.0   0.0  14145.0   0.0  285.0   77.0   0.0  17759.0  \n",
      "3   0.0   0.0   0.0   0.0    334.0   0.0    0.0    0.0   0.0    334.0  \n",
      "4   0.0   0.0   0.0   0.0  22187.0   0.0  157.0   56.0   7.0  27428.0  \n",
      "\n",
      "[5 rows x 31 columns]\n",
      "<class 'pandas.core.frame.DataFrame'>\n",
      "RangeIndex: 365 entries, 0 to 364\n",
      "Data columns (total 31 columns):\n",
      "ds       365 non-null datetime64[ns]\n",
      "1025     365 non-null float64\n",
      "1032     365 non-null float64\n",
      "1041     365 non-null float64\n",
      "1057     365 non-null float64\n",
      "1091     365 non-null float64\n",
      "1119     365 non-null float64\n",
      "1127     365 non-null float64\n",
      "1163     365 non-null float64\n",
      "1216     365 non-null float64\n",
      "1242     365 non-null float64\n",
      "1261     365 non-null float64\n",
      "1355     365 non-null float64\n",
      "1373     365 non-null float64\n",
      "1375     365 non-null float64\n",
      "1376     365 non-null float64\n",
      "1396     365 non-null float64\n",
      "1627     365 non-null float64\n",
      "1656     365 non-null float64\n",
      "1692     365 non-null float64\n",
      "1729     365 non-null float64\n",
      "1745     365 non-null float64\n",
      "1754     365 non-null float64\n",
      "1797     365 non-null float64\n",
      "1800     365 non-null float64\n",
      "1815     365 non-null float64\n",
      "1817     365 non-null float64\n",
      "1853     365 non-null float64\n",
      "1878     365 non-null float64\n",
      "1891     365 non-null float64\n",
      "y_sum    365 non-null float64\n",
      "dtypes: datetime64[ns](1), float64(30)\n",
      "memory usage: 88.5 KB\n",
      "None\n",
      "2016-Table 1.csv\n",
      "     회사코드        일자    유형   수량\n",
      "0  296285  20160101  1692  276\n",
      "1  291097  20160101  1815  143\n",
      "2  289843  20160101  1815  964\n",
      "3  276155  20160101  1692   40\n",
      "4  274373  20160101  1815  174\n",
      "<class 'pandas.core.frame.DataFrame'>\n",
      "RangeIndex: 53150 entries, 0 to 53149\n",
      "Data columns (total 4 columns):\n",
      "회사코드    53150 non-null int64\n",
      "일자      53150 non-null int64\n",
      "유형      53150 non-null int64\n",
      "수량      53150 non-null int64\n",
      "dtypes: int64(4)\n",
      "memory usage: 1.6 MB\n",
      "None\n",
      "          ds  1025   1041   1057  1091  1119  1163  1216  1242    1261  \\\n",
      "0 2016-01-01   0.0   23.0    0.0   0.0   0.0   0.0   0.0   0.0   551.0   \n",
      "1 2016-01-02   0.0  220.0    0.0   0.0   0.0   0.0   0.0   0.0  1575.0   \n",
      "2 2016-01-03   0.0    0.0    0.0   0.0   0.0   0.0   0.0   0.0     0.0   \n",
      "3 2016-01-04   0.0  323.0  216.0  15.0   0.0   0.0   0.0   0.0  1732.0   \n",
      "4 2016-01-05   0.0  538.0  259.0   0.0   0.0   0.0   0.0   0.0  2667.0   \n",
      "\n",
      "    ...     1745  1754  1797  1800     1815  1817   1853   1878   1891  \\\n",
      "0   ...      0.0   0.0   0.0   0.0   9419.0   0.0    0.0    0.0    0.0   \n",
      "1   ...      0.0   0.0   0.0   0.0  14822.0   0.0    0.0   84.0    0.0   \n",
      "2   ...      0.0   0.0   0.0   0.0    343.0   0.0    0.0    0.0    0.0   \n",
      "3   ...      0.0   0.0   0.0   0.0  24109.0   0.0  226.0  688.0  150.0   \n",
      "4   ...      0.0   0.0   0.0   0.0  23103.0   0.0   31.0  453.0    0.0   \n",
      "\n",
      "     y_sum  \n",
      "0  10512.0  \n",
      "1  19082.0  \n",
      "2    343.0  \n",
      "3  30610.0  \n",
      "4  31014.0  \n",
      "\n",
      "[5 rows x 28 columns]\n",
      "<class 'pandas.core.frame.DataFrame'>\n",
      "RangeIndex: 366 entries, 0 to 365\n",
      "Data columns (total 28 columns):\n",
      "ds       366 non-null datetime64[ns]\n",
      "1025     366 non-null float64\n",
      "1041     366 non-null float64\n",
      "1057     366 non-null float64\n",
      "1091     366 non-null float64\n",
      "1119     366 non-null float64\n",
      "1163     366 non-null float64\n",
      "1216     366 non-null float64\n",
      "1242     366 non-null float64\n",
      "1261     366 non-null float64\n",
      "1355     366 non-null float64\n",
      "1373     366 non-null float64\n",
      "1375     366 non-null float64\n",
      "1376     366 non-null float64\n",
      "1627     366 non-null float64\n",
      "1656     366 non-null float64\n",
      "1692     366 non-null float64\n",
      "1729     366 non-null float64\n",
      "1745     366 non-null float64\n",
      "1754     366 non-null float64\n",
      "1797     366 non-null float64\n",
      "1800     366 non-null float64\n",
      "1815     366 non-null float64\n",
      "1817     366 non-null float64\n",
      "1853     366 non-null float64\n",
      "1878     366 non-null float64\n",
      "1891     366 non-null float64\n",
      "y_sum    366 non-null float64\n",
      "dtypes: datetime64[ns](1), float64(27)\n",
      "memory usage: 80.1 KB\n",
      "None\n",
      "2017-Table 1.csv\n",
      "     회사코드        일자      유형   수량\n",
      "0  289843  20170101  1815.0  200\n",
      "1  261529  20170101  1815.0  510\n",
      "2  227609  20170101  1815.0   80\n",
      "3  298009  20170102  1853.0  354\n",
      "4  297946  20170102  1815.0   66\n",
      "<class 'pandas.core.frame.DataFrame'>\n",
      "RangeIndex: 51203 entries, 0 to 51202\n",
      "Data columns (total 4 columns):\n",
      "회사코드    51203 non-null int64\n",
      "일자      51203 non-null int64\n",
      "유형      51195 non-null float64\n",
      "수량      51203 non-null int64\n",
      "dtypes: float64(1), int64(3)\n",
      "memory usage: 1.6 MB\n",
      "None\n",
      "          ds  1025  1032    1041   1057  1091  1119  1127  1216  1242  \\\n",
      "0 2017-01-01   0.0   0.0     0.0    0.0   0.0   0.0   0.0   0.0   0.0   \n",
      "1 2017-01-02   0.0   0.0   120.0  183.0   0.0   0.0   0.0   0.0   0.0   \n",
      "2 2017-01-03   0.0   0.0   914.0   92.0   0.0   0.0   0.0   0.0   0.0   \n",
      "3 2017-01-04   0.0   0.0  1446.0    3.0   0.0   0.0   0.0   0.0   0.0   \n",
      "4 2017-01-05   0.0   0.0   355.0    0.0   0.0   0.0   0.0   0.0   0.0   \n",
      "\n",
      "    ...      1745  1754  1797  1800     1815  1817   1853   1878   1891  \\\n",
      "0   ...       0.0   0.0   0.0   0.0    790.0   0.0    0.0    0.0    0.0   \n",
      "1   ...      77.0   0.0   0.0   0.0  20760.0   0.0  458.0   53.0  100.0   \n",
      "2   ...       0.0   0.0   0.0   0.0  22352.0   0.0  259.0  204.0   98.0   \n",
      "3   ...       0.0   0.0   0.0   0.0  26378.0   0.0  268.0  145.0    0.0   \n",
      "4   ...     147.0   0.0   0.0   0.0  18476.0   0.0  180.0  158.0    0.0   \n",
      "\n",
      "     y_sum  \n",
      "0    790.0  \n",
      "1  26419.0  \n",
      "2  28323.0  \n",
      "3  35504.0  \n",
      "4  24393.0  \n",
      "\n",
      "[5 rows x 32 columns]\n",
      "<class 'pandas.core.frame.DataFrame'>\n",
      "RangeIndex: 333 entries, 0 to 332\n",
      "Data columns (total 32 columns):\n",
      "ds       333 non-null datetime64[ns]\n",
      "1025     333 non-null float64\n",
      "1032     333 non-null float64\n",
      "1041     333 non-null float64\n",
      "1057     333 non-null float64\n",
      "1091     333 non-null float64\n",
      "1119     333 non-null float64\n",
      "1127     333 non-null float64\n",
      "1216     333 non-null float64\n",
      "1242     333 non-null float64\n",
      "1261     333 non-null float64\n",
      "1298     333 non-null float64\n",
      "1355     333 non-null float64\n",
      "1373     333 non-null float64\n",
      "1375     333 non-null float64\n",
      "1376     333 non-null float64\n",
      "1396     333 non-null float64\n",
      "1627     333 non-null float64\n",
      "1652     333 non-null float64\n",
      "1656     333 non-null float64\n",
      "1692     333 non-null float64\n",
      "1729     333 non-null float64\n",
      "1745     333 non-null float64\n",
      "1754     333 non-null float64\n",
      "1797     333 non-null float64\n",
      "1800     333 non-null float64\n",
      "1815     333 non-null float64\n",
      "1817     333 non-null float64\n",
      "1853     333 non-null float64\n",
      "1878     333 non-null float64\n",
      "1891     333 non-null float64\n",
      "y_sum    333 non-null float64\n",
      "dtypes: datetime64[ns](1), float64(31)\n",
      "memory usage: 83.3 KB\n",
      "None\n"
     ]
    }
   ],
   "source": [
    "data_return= Data()\n",
    "for full_name in ft_c.dir_list(varr.PJ_DIR+ '\\\\_element\\\\data\\\\private_return\\\\Rawdata', '.csv'):\n",
    "    INPUT_FILENAME= full_name.split('\\\\')[-1]\n",
    "    print(INPUT_FILENAME)\n",
    "    df_raw= pd.read_csv(full_name, engine= 'python', encoding= 'euc-kr')\n",
    "    data_return.setRawData(df_raw, rawdata_setting= True)\n",
    "    restruct= DataRestruction(data_return)\n",
    "    restruct.groupbyObject(idx_col= '일자', ft_col= '유형', val_col= '수량', y_sum= True, idx_to_datetime= True)\n",
    "    restruct.data[frozenset({'raw'})].columns= restruct.data[frozenset({'raw'})].columns.map(lambda x: int(x) if type(x)==float else x)\n",
    "    restruct.commitRestructedData()\n",
    "    merge_data= pd.concat([merge_data, data_return.data], axis= 0)"
   ]
  },
  {
   "cell_type": "code",
   "execution_count": null,
   "metadata": {
    "collapsed": true
   },
   "outputs": [],
   "source": []
  },
  {
   "cell_type": "code",
   "execution_count": null,
   "metadata": {
    "collapsed": true
   },
   "outputs": [],
   "source": []
  },
  {
   "cell_type": "code",
   "execution_count": 4,
   "metadata": {
    "collapsed": true
   },
   "outputs": [],
   "source": [
    "INPUT_FILENAME= 'KPP_계약처_입고출고(2010-2014).xlsx'\n",
    "df_raw= ft_c.xlsx_opener(INPUT_FILENAME)"
   ]
  },
  {
   "cell_type": "code",
   "execution_count": 5,
   "metadata": {},
   "outputs": [
    {
     "data": {
      "text/html": [
       "<div>\n",
       "<style>\n",
       "    .dataframe thead tr:only-child th {\n",
       "        text-align: right;\n",
       "    }\n",
       "\n",
       "    .dataframe thead th {\n",
       "        text-align: left;\n",
       "    }\n",
       "\n",
       "    .dataframe tbody tr th {\n",
       "        vertical-align: top;\n",
       "    }\n",
       "</style>\n",
       "<table border=\"1\" class=\"dataframe\">\n",
       "  <thead>\n",
       "    <tr style=\"text-align: right;\">\n",
       "      <th></th>\n",
       "      <th>타입</th>\n",
       "      <th>코드</th>\n",
       "      <th>발송일</th>\n",
       "      <th>유형코드</th>\n",
       "      <th>수량</th>\n",
       "    </tr>\n",
       "  </thead>\n",
       "  <tbody>\n",
       "    <tr>\n",
       "      <th>0</th>\n",
       "      <td>입고</td>\n",
       "      <td>298137</td>\n",
       "      <td>20100101</td>\n",
       "      <td>1815.0</td>\n",
       "      <td>47</td>\n",
       "    </tr>\n",
       "    <tr>\n",
       "      <th>1</th>\n",
       "      <td>입고</td>\n",
       "      <td>298115</td>\n",
       "      <td>20100101</td>\n",
       "      <td>1815.0</td>\n",
       "      <td>77</td>\n",
       "    </tr>\n",
       "    <tr>\n",
       "      <th>2</th>\n",
       "      <td>입고</td>\n",
       "      <td>298108</td>\n",
       "      <td>20100101</td>\n",
       "      <td>1815.0</td>\n",
       "      <td>4</td>\n",
       "    </tr>\n",
       "    <tr>\n",
       "      <th>3</th>\n",
       "      <td>입고</td>\n",
       "      <td>298053</td>\n",
       "      <td>20100101</td>\n",
       "      <td>1815.0</td>\n",
       "      <td>56</td>\n",
       "    </tr>\n",
       "    <tr>\n",
       "      <th>4</th>\n",
       "      <td>입고</td>\n",
       "      <td>297994</td>\n",
       "      <td>20100101</td>\n",
       "      <td>1815.0</td>\n",
       "      <td>51</td>\n",
       "    </tr>\n",
       "  </tbody>\n",
       "</table>\n",
       "</div>"
      ],
      "text/plain": [
       "   타입      코드       발송일    유형코드  수량\n",
       "0  입고  298137  20100101  1815.0  47\n",
       "1  입고  298115  20100101  1815.0  77\n",
       "2  입고  298108  20100101  1815.0   4\n",
       "3  입고  298053  20100101  1815.0  56\n",
       "4  입고  297994  20100101  1815.0  51"
      ]
     },
     "execution_count": 5,
     "metadata": {},
     "output_type": "execute_result"
    }
   ],
   "source": [
    "df_raw.head()"
   ]
  },
  {
   "cell_type": "code",
   "execution_count": 6,
   "metadata": {
    "collapsed": true
   },
   "outputs": [],
   "source": [
    "df_in= df_raw[df_raw['타입']== '입고']"
   ]
  },
  {
   "cell_type": "code",
   "execution_count": 7,
   "metadata": {
    "collapsed": true
   },
   "outputs": [],
   "source": [
    "df_out= df_raw[df_raw['타입']== '출하']"
   ]
  },
  {
   "cell_type": "code",
   "execution_count": 8,
   "metadata": {
    "collapsed": true
   },
   "outputs": [],
   "source": [
    "data_out= Data()"
   ]
  },
  {
   "cell_type": "code",
   "execution_count": 9,
   "metadata": {},
   "outputs": [
    {
     "name": "stdout",
     "output_type": "stream",
     "text": [
      "     타입      코드       발송일    유형코드   수량\n",
      "928  출하  298152  20100101  1815.0    3\n",
      "929  출하  298152  20100101  1692.0    7\n",
      "930  출하  298141  20100101  1815.0   27\n",
      "931  출하  298122  20100101  1692.0    3\n",
      "932  출하  298115  20100101  1815.0  768\n",
      "<class 'pandas.core.frame.DataFrame'>\n",
      "Int64Index: 3922661 entries, 928 to 327922\n",
      "Data columns (total 5 columns):\n",
      "타입      object\n",
      "코드      int64\n",
      "발송일     int64\n",
      "유형코드    float64\n",
      "수량      int64\n",
      "dtypes: float64(1), int64(3), object(1)\n",
      "memory usage: 179.6+ MB\n",
      "None\n"
     ]
    }
   ],
   "source": [
    "data_out.setRawData(df_out)"
   ]
  },
  {
   "cell_type": "code",
   "execution_count": 10,
   "metadata": {
    "collapsed": true
   },
   "outputs": [],
   "source": [
    "restruct= DataRestruction(data_out)"
   ]
  },
  {
   "cell_type": "code",
   "execution_count": 11,
   "metadata": {
    "collapsed": true
   },
   "outputs": [],
   "source": [
    "restruct.groupbyObject(idx_col= '발송일', ft_col= '유형코드', val_col= '수량', y_sum= True, idx_to_datetime= True)"
   ]
  },
  {
   "cell_type": "code",
   "execution_count": 12,
   "metadata": {
    "collapsed": true
   },
   "outputs": [],
   "source": [
    "restruct.data[frozenset({'raw'})].columns= restruct.data[frozenset({'raw'})].columns.map(lambda x: int(x) if type(x)==float else x)"
   ]
  },
  {
   "cell_type": "code",
   "execution_count": 13,
   "metadata": {},
   "outputs": [
    {
     "name": "stdout",
     "output_type": "stream",
     "text": [
      "          ds  1025  1032    1041  1057   1091  1101  1111  1117  1127  \\\n",
      "0 2010-01-01   0.0   0.0  1299.0   0.0   92.0   0.0   0.0   0.0   0.0   \n",
      "1 2010-01-02  10.0   0.0   455.0   0.0   80.0   0.0   0.0   0.0   0.0   \n",
      "2 2010-01-03   0.0   0.0   132.0   0.0    4.0   0.0   0.0   0.0   0.0   \n",
      "3 2010-01-04   1.0   0.0  1952.0   0.0  356.0   0.0   0.0   0.0   0.0   \n",
      "4 2010-01-05   0.0   0.0  2077.0   0.0  367.0   0.0   0.0   0.0   2.0   \n",
      "\n",
      "     ...     1797  1800      1815  1817  1818  1852    1853    1878  1891  \\\n",
      "0    ...     96.0   0.0  647711.0   0.0   0.0   0.0   380.0  2042.0  40.0   \n",
      "1    ...      5.0   0.0   38071.0  10.0   0.0   0.0   496.0  3794.0   0.0   \n",
      "2    ...      0.0   0.0    6840.0   0.0   0.0   0.0   100.0    27.0   0.0   \n",
      "3    ...     37.0   0.0   42383.0  34.0   0.0   0.0  4317.0  8221.0   0.0   \n",
      "4    ...      7.0   0.0   58017.0  27.0   0.0   0.0  4321.0  6588.0   6.0   \n",
      "\n",
      "      y_sum  \n",
      "0  667170.0  \n",
      "1   51089.0  \n",
      "2    8901.0  \n",
      "3   74659.0  \n",
      "4   90428.0  \n",
      "\n",
      "[5 rows x 39 columns]\n",
      "<class 'pandas.core.frame.DataFrame'>\n",
      "RangeIndex: 1826 entries, 0 to 1825\n",
      "Data columns (total 39 columns):\n",
      "ds       1826 non-null datetime64[ns]\n",
      "1025     1826 non-null float64\n",
      "1032     1826 non-null float64\n",
      "1041     1826 non-null float64\n",
      "1057     1826 non-null float64\n",
      "1091     1826 non-null float64\n",
      "1101     1826 non-null float64\n",
      "1111     1826 non-null float64\n",
      "1117     1826 non-null float64\n",
      "1127     1826 non-null float64\n",
      "1163     1826 non-null float64\n",
      "1216     1826 non-null float64\n",
      "1242     1826 non-null float64\n",
      "1261     1826 non-null float64\n",
      "1324     1826 non-null float64\n",
      "1355     1826 non-null float64\n",
      "1373     1826 non-null float64\n",
      "1375     1826 non-null float64\n",
      "1376     1826 non-null float64\n",
      "1396     1826 non-null float64\n",
      "1466     1826 non-null float64\n",
      "1584     1826 non-null float64\n",
      "1627     1826 non-null float64\n",
      "1652     1826 non-null float64\n",
      "1656     1826 non-null float64\n",
      "1692     1826 non-null float64\n",
      "1729     1826 non-null float64\n",
      "1745     1826 non-null float64\n",
      "1754     1826 non-null float64\n",
      "1797     1826 non-null float64\n",
      "1800     1826 non-null float64\n",
      "1815     1826 non-null float64\n",
      "1817     1826 non-null float64\n",
      "1818     1826 non-null float64\n",
      "1852     1826 non-null float64\n",
      "1853     1826 non-null float64\n",
      "1878     1826 non-null float64\n",
      "1891     1826 non-null float64\n",
      "y_sum    1826 non-null float64\n",
      "dtypes: datetime64[ns](1), float64(38)\n",
      "memory usage: 556.4 KB\n",
      "None\n"
     ]
    }
   ],
   "source": [
    "restruct.commitRestructedData()"
   ]
  },
  {
   "cell_type": "code",
   "execution_count": 14,
   "metadata": {
    "collapsed": true
   },
   "outputs": [],
   "source": [
    "df_raw.to_pickle('C:\\\\Nextop\\\\nextop-engine\\\\nextop_engine\\\\_element\\\\data\\\\private_IO\\\\KPP_계약처_입고출고(2010-2014).pickle')"
   ]
  },
  {
   "cell_type": "code",
   "execution_count": 15,
   "metadata": {
    "collapsed": true
   },
   "outputs": [],
   "source": [
    "data_out.data[frozenset({'raw'})].to_pickle('C:\\\\Nextop\\\\nextop-engine\\\\nextop_engine\\\\_element\\\\data\\\\private_IO\\\\KPP_계약처_입고출고(2010-2014)_daily_obj.pickle')"
   ]
  },
  {
   "cell_type": "code",
   "execution_count": 16,
   "metadata": {
    "collapsed": true
   },
   "outputs": [],
   "source": [
    "INPUT_FILENAME= 'KPP_계약처_입고출고(2015-2017).xlsx'\n",
    "df_raw2015= ft_c.xlsx_opener(INPUT_FILENAME)"
   ]
  },
  {
   "cell_type": "code",
   "execution_count": 17,
   "metadata": {},
   "outputs": [
    {
     "data": {
      "text/html": [
       "<div>\n",
       "<style>\n",
       "    .dataframe thead tr:only-child th {\n",
       "        text-align: right;\n",
       "    }\n",
       "\n",
       "    .dataframe thead th {\n",
       "        text-align: left;\n",
       "    }\n",
       "\n",
       "    .dataframe tbody tr th {\n",
       "        vertical-align: top;\n",
       "    }\n",
       "</style>\n",
       "<table border=\"1\" class=\"dataframe\">\n",
       "  <thead>\n",
       "    <tr style=\"text-align: right;\">\n",
       "      <th></th>\n",
       "      <th>타입</th>\n",
       "      <th>코드</th>\n",
       "      <th>발송일</th>\n",
       "      <th>유형코드</th>\n",
       "      <th>수량</th>\n",
       "    </tr>\n",
       "  </thead>\n",
       "  <tbody>\n",
       "    <tr>\n",
       "      <th>0</th>\n",
       "      <td>입고</td>\n",
       "      <td>298152</td>\n",
       "      <td>20150101</td>\n",
       "      <td>1815.0</td>\n",
       "      <td>40</td>\n",
       "    </tr>\n",
       "    <tr>\n",
       "      <th>1</th>\n",
       "      <td>입고</td>\n",
       "      <td>298045</td>\n",
       "      <td>20150101</td>\n",
       "      <td>1815.0</td>\n",
       "      <td>83</td>\n",
       "    </tr>\n",
       "    <tr>\n",
       "      <th>2</th>\n",
       "      <td>입고</td>\n",
       "      <td>298031</td>\n",
       "      <td>20150101</td>\n",
       "      <td>1891.0</td>\n",
       "      <td>5</td>\n",
       "    </tr>\n",
       "    <tr>\n",
       "      <th>3</th>\n",
       "      <td>입고</td>\n",
       "      <td>298023</td>\n",
       "      <td>20150101</td>\n",
       "      <td>1815.0</td>\n",
       "      <td>1145</td>\n",
       "    </tr>\n",
       "    <tr>\n",
       "      <th>4</th>\n",
       "      <td>입고</td>\n",
       "      <td>298009</td>\n",
       "      <td>20150101</td>\n",
       "      <td>1853.0</td>\n",
       "      <td>1141</td>\n",
       "    </tr>\n",
       "  </tbody>\n",
       "</table>\n",
       "</div>"
      ],
      "text/plain": [
       "   타입      코드       발송일    유형코드    수량\n",
       "0  입고  298152  20150101  1815.0    40\n",
       "1  입고  298045  20150101  1815.0    83\n",
       "2  입고  298031  20150101  1891.0     5\n",
       "3  입고  298023  20150101  1815.0  1145\n",
       "4  입고  298009  20150101  1853.0  1141"
      ]
     },
     "execution_count": 17,
     "metadata": {},
     "output_type": "execute_result"
    }
   ],
   "source": [
    "df_raw2015.head()"
   ]
  },
  {
   "cell_type": "code",
   "execution_count": 18,
   "metadata": {
    "collapsed": true
   },
   "outputs": [],
   "source": [
    "df_in2015= df_raw2015[df_raw2015['타입']== '입고']"
   ]
  },
  {
   "cell_type": "code",
   "execution_count": 19,
   "metadata": {
    "collapsed": true
   },
   "outputs": [],
   "source": [
    "df_out2015= df_raw2015[df_raw2015['타입']== '출하']"
   ]
  },
  {
   "cell_type": "code",
   "execution_count": 20,
   "metadata": {
    "collapsed": true
   },
   "outputs": [],
   "source": [
    "data_out2015= Data()"
   ]
  },
  {
   "cell_type": "code",
   "execution_count": 21,
   "metadata": {},
   "outputs": [
    {
     "name": "stdout",
     "output_type": "stream",
     "text": [
      "        타입      코드       발송일    유형코드   수량\n",
      "270062  출하  298152  20150101  1692.0  149\n",
      "270063  출하  298137  20150101  1815.0   19\n",
      "270064  출하  298064  20150101  1878.0  752\n",
      "270065  출하  298045  20150101  1815.0   32\n",
      "270066  출하  298038  20150101  1815.0   19\n",
      "<class 'pandas.core.frame.DataFrame'>\n",
      "Int64Index: 3181370 entries, 270062 to 605881\n",
      "Data columns (total 5 columns):\n",
      "타입      object\n",
      "코드      int64\n",
      "발송일     int64\n",
      "유형코드    float64\n",
      "수량      int64\n",
      "dtypes: float64(1), int64(3), object(1)\n",
      "memory usage: 145.6+ MB\n",
      "None\n"
     ]
    }
   ],
   "source": [
    "data_out2015.setRawData(df_out2015)"
   ]
  },
  {
   "cell_type": "code",
   "execution_count": 22,
   "metadata": {
    "collapsed": true
   },
   "outputs": [],
   "source": [
    "restruct2015= DataRestruction(data_out2015)"
   ]
  },
  {
   "cell_type": "code",
   "execution_count": 23,
   "metadata": {
    "collapsed": true
   },
   "outputs": [],
   "source": [
    "restruct2015.groupbyObject(idx_col= '발송일', ft_col= '유형코드', val_col= '수량', y_sum= True, idx_to_datetime= True)"
   ]
  },
  {
   "cell_type": "code",
   "execution_count": 24,
   "metadata": {
    "collapsed": true
   },
   "outputs": [],
   "source": [
    "restruct2015.data[frozenset({'raw'})].columns= restruct2015.data[frozenset({'raw'})].columns.map(lambda x: int(x) if type(x)==float else x)"
   ]
  },
  {
   "cell_type": "code",
   "execution_count": 25,
   "metadata": {},
   "outputs": [
    {
     "name": "stdout",
     "output_type": "stream",
     "text": [
      "          ds  1025  1032    1041  1057  1091  1101  1119  1127  1216  \\\n",
      "0 2015-01-01   0.0   0.0  2115.0   0.0  29.0   0.0   0.0   0.0   0.0   \n",
      "1 2015-01-02   0.0   0.0  4339.0   0.0  75.0   0.0   0.0   0.0   0.0   \n",
      "2 2015-01-03   0.0   0.0  2403.0  41.0  21.0   0.0   0.0   0.0   0.0   \n",
      "3 2015-01-04   0.0   0.0    21.0   0.0  53.0   0.0   0.0   0.0   0.0   \n",
      "4 2015-01-05   0.0   0.0  4644.0   0.0  85.0   0.0   0.0   0.0   0.0   \n",
      "\n",
      "     ...      1754  1797  1800      1815  1817  1818    1853     1878   1891  \\\n",
      "0    ...     410.0   0.0   0.0  144551.0   0.0   0.0  1161.0   5208.0    0.0   \n",
      "1    ...     925.0   0.0   0.0   87737.0  78.0   0.0  4891.0   9508.0   15.0   \n",
      "2    ...       3.0   0.0   0.0   56624.0   0.0   0.0  2296.0   1802.0    0.0   \n",
      "3    ...      32.0   0.0   0.0   16503.0   0.0   0.0   331.0     57.0    0.0   \n",
      "4    ...     433.0   0.0   0.0   90064.0  39.0   0.0  6654.0  10739.0  211.0   \n",
      "\n",
      "      y_sum  \n",
      "0  174168.0  \n",
      "1  135573.0  \n",
      "2   75269.0  \n",
      "3   19952.0  \n",
      "4  141355.0  \n",
      "\n",
      "[5 rows x 35 columns]\n",
      "<class 'pandas.core.frame.DataFrame'>\n",
      "RangeIndex: 1065 entries, 0 to 1064\n",
      "Data columns (total 35 columns):\n",
      "ds       1065 non-null datetime64[ns]\n",
      "1025     1065 non-null float64\n",
      "1032     1065 non-null float64\n",
      "1041     1065 non-null float64\n",
      "1057     1065 non-null float64\n",
      "1091     1065 non-null float64\n",
      "1101     1065 non-null float64\n",
      "1119     1065 non-null float64\n",
      "1127     1065 non-null float64\n",
      "1216     1065 non-null float64\n",
      "1224     1065 non-null float64\n",
      "1242     1065 non-null float64\n",
      "1261     1065 non-null float64\n",
      "1355     1065 non-null float64\n",
      "1373     1065 non-null float64\n",
      "1375     1065 non-null float64\n",
      "1376     1065 non-null float64\n",
      "1396     1065 non-null float64\n",
      "1433     1065 non-null float64\n",
      "1584     1065 non-null float64\n",
      "1627     1065 non-null float64\n",
      "1656     1065 non-null float64\n",
      "1692     1065 non-null float64\n",
      "1729     1065 non-null float64\n",
      "1745     1065 non-null float64\n",
      "1754     1065 non-null float64\n",
      "1797     1065 non-null float64\n",
      "1800     1065 non-null float64\n",
      "1815     1065 non-null float64\n",
      "1817     1065 non-null float64\n",
      "1818     1065 non-null float64\n",
      "1853     1065 non-null float64\n",
      "1878     1065 non-null float64\n",
      "1891     1065 non-null float64\n",
      "y_sum    1065 non-null float64\n",
      "dtypes: datetime64[ns](1), float64(34)\n",
      "memory usage: 291.3 KB\n",
      "None\n"
     ]
    }
   ],
   "source": [
    "restruct2015.commitRestructedData()"
   ]
  },
  {
   "cell_type": "code",
   "execution_count": 26,
   "metadata": {
    "collapsed": true
   },
   "outputs": [],
   "source": [
    "df_raw2015.to_pickle('C:\\\\Nextop\\\\nextop-engine\\\\nextop_engine\\\\_element\\\\data\\\\private_IO\\\\KPP_계약처_입고출고(2015-2017).pickle')\n",
    "data_out2015.data[frozenset({'raw'})].to_pickle('C:\\\\Nextop\\\\nextop-engine\\\\nextop_engine\\\\_element\\\\data\\\\private_IO\\\\KPP_계약처_입고출고(2015-2017)_daily_obj.pickle')"
   ]
  },
  {
   "cell_type": "code",
   "execution_count": null,
   "metadata": {
    "collapsed": true
   },
   "outputs": [],
   "source": []
  }
 ],
 "metadata": {
  "kernelspec": {
   "display_name": "Python 3",
   "language": "python",
   "name": "python3"
  },
  "language_info": {
   "codemirror_mode": {
    "name": "ipython",
    "version": 3
   },
   "file_extension": ".py",
   "mimetype": "text/x-python",
   "name": "python",
   "nbconvert_exporter": "python",
   "pygments_lexer": "ipython3",
   "version": "3.6.4"
  }
 },
 "nbformat": 4,
 "nbformat_minor": 2
}
