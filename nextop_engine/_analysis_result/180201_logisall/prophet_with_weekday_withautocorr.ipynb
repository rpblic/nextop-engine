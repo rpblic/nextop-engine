{
 "cells": [
  {
   "cell_type": "code",
   "execution_count": 1,
   "metadata": {},
   "outputs": [],
   "source": [
    "from _element import feature_control as ft_c"
   ]
  },
  {
   "cell_type": "code",
   "execution_count": 2,
   "metadata": {
    "collapsed": true
   },
   "outputs": [],
   "source": [
    "from _usecase import algorithm_prophet as prpt\n",
    "from fbprophet.diagnostics import cross_validation as CV"
   ]
  },
  {
   "cell_type": "code",
   "execution_count": 3,
   "metadata": {
    "collapsed": true
   },
   "outputs": [],
   "source": [
    "from _element import calculations as calc"
   ]
  },
  {
   "cell_type": "code",
   "execution_count": 4,
   "metadata": {
    "collapsed": true
   },
   "outputs": [],
   "source": [
    "import pandas as pd\n",
    "from pandas.plotting import autocorrelation_plot\n",
    "import matplotlib.pyplot as plt\n",
    "import numpy as np\n",
    "\n",
    "import copy"
   ]
  },
  {
   "cell_type": "code",
   "execution_count": 5,
   "metadata": {
    "collapsed": true
   },
   "outputs": [],
   "source": [
    "from datetime import datetime"
   ]
  },
  {
   "cell_type": "code",
   "execution_count": 6,
   "metadata": {
    "collapsed": true
   },
   "outputs": [],
   "source": [
    "from _element import varr"
   ]
  },
  {
   "cell_type": "code",
   "execution_count": 7,
   "metadata": {
    "collapsed": true
   },
   "outputs": [],
   "source": [
    "INPUT_FILENAME= 'KPP일별_반납회수(13_17)_raw.xlsx'"
   ]
  },
  {
   "cell_type": "code",
   "execution_count": 8,
   "metadata": {
    "collapsed": true
   },
   "outputs": [],
   "source": [
    "df_raw= ft_c.xlsx_opener(varr.PJ_DIR+'./_element/data/private_return/', INPUT_FILENAME)"
   ]
  },
  {
   "cell_type": "code",
   "execution_count": 9,
   "metadata": {
    "collapsed": true
   },
   "outputs": [],
   "source": [
    "df_temp= ft_c.xlsx_opener(varr.PJ_DIR+varr.TEMP_DATA_DIR, 'temp_data_merged.xlsx')"
   ]
  },
  {
   "cell_type": "code",
   "execution_count": 10,
   "metadata": {
    "collapsed": true
   },
   "outputs": [],
   "source": [
    "y_col= df_raw.columns.values.tolist()"
   ]
  },
  {
   "cell_type": "code",
   "execution_count": 11,
   "metadata": {
    "collapsed": true
   },
   "outputs": [],
   "source": [
    "try:\n",
    "    y_col.remove('ds')\n",
    "except ValueError:\n",
    "    pass"
   ]
  },
  {
   "cell_type": "code",
   "execution_count": 12,
   "metadata": {},
   "outputs": [
    {
     "data": {
      "text/plain": [
       "['y_sum']"
      ]
     },
     "execution_count": 12,
     "metadata": {},
     "output_type": "execute_result"
    }
   ],
   "source": [
    "y_col"
   ]
  },
  {
   "cell_type": "code",
   "execution_count": 13,
   "metadata": {
    "collapsed": true
   },
   "outputs": [],
   "source": [
    "x_col= df_temp.columns.values.tolist()"
   ]
  },
  {
   "cell_type": "code",
   "execution_count": 14,
   "metadata": {},
   "outputs": [
    {
     "data": {
      "text/plain": [
       "['ds', 'temp_max', 'temp_min', 'rain_amount']"
      ]
     },
     "execution_count": 14,
     "metadata": {},
     "output_type": "execute_result"
    }
   ],
   "source": [
    "x_col"
   ]
  },
  {
   "cell_type": "code",
   "execution_count": 15,
   "metadata": {
    "collapsed": true
   },
   "outputs": [],
   "source": [
    "df_raw['ds']= pd.to_datetime(df_raw['ds'], box=True, format= '%Y/%m/%d', exact=True)"
   ]
  },
  {
   "cell_type": "code",
   "execution_count": 16,
   "metadata": {
    "collapsed": true
   },
   "outputs": [],
   "source": [
    "df_temp['ds']= pd.to_datetime(df_temp['ds'], box=True, format= '%Y/%m/%d', exact=True)"
   ]
  },
  {
   "cell_type": "code",
   "execution_count": 17,
   "metadata": {
    "collapsed": true
   },
   "outputs": [],
   "source": [
    "df_raw= pd.merge(df_raw, df_temp, how='inner', on='ds')"
   ]
  },
  {
   "cell_type": "code",
   "execution_count": 18,
   "metadata": {},
   "outputs": [
    {
     "data": {
      "text/html": [
       "<div>\n",
       "<style>\n",
       "    .dataframe thead tr:only-child th {\n",
       "        text-align: right;\n",
       "    }\n",
       "\n",
       "    .dataframe thead th {\n",
       "        text-align: left;\n",
       "    }\n",
       "\n",
       "    .dataframe tbody tr th {\n",
       "        vertical-align: top;\n",
       "    }\n",
       "</style>\n",
       "<table border=\"1\" class=\"dataframe\">\n",
       "  <thead>\n",
       "    <tr style=\"text-align: right;\">\n",
       "      <th></th>\n",
       "      <th>ds</th>\n",
       "      <th>y_sum</th>\n",
       "      <th>temp_max</th>\n",
       "      <th>temp_min</th>\n",
       "      <th>rain_amount</th>\n",
       "    </tr>\n",
       "  </thead>\n",
       "  <tbody>\n",
       "    <tr>\n",
       "      <th>0</th>\n",
       "      <td>2013-01-01</td>\n",
       "      <td>17399</td>\n",
       "      <td>-0.4</td>\n",
       "      <td>-12.900000</td>\n",
       "      <td>3.0</td>\n",
       "    </tr>\n",
       "    <tr>\n",
       "      <th>1</th>\n",
       "      <td>2013-01-02</td>\n",
       "      <td>65748</td>\n",
       "      <td>-9.4</td>\n",
       "      <td>-16.200001</td>\n",
       "      <td>0.0</td>\n",
       "    </tr>\n",
       "    <tr>\n",
       "      <th>2</th>\n",
       "      <td>2013-01-03</td>\n",
       "      <td>73139</td>\n",
       "      <td>-9.6</td>\n",
       "      <td>-15.300000</td>\n",
       "      <td>0.0</td>\n",
       "    </tr>\n",
       "    <tr>\n",
       "      <th>3</th>\n",
       "      <td>2013-01-04</td>\n",
       "      <td>78096</td>\n",
       "      <td>-6.2</td>\n",
       "      <td>-13.700000</td>\n",
       "      <td>0.0</td>\n",
       "    </tr>\n",
       "    <tr>\n",
       "      <th>4</th>\n",
       "      <td>2013-01-05</td>\n",
       "      <td>64780</td>\n",
       "      <td>-2.2</td>\n",
       "      <td>-10.900000</td>\n",
       "      <td>0.0</td>\n",
       "    </tr>\n",
       "  </tbody>\n",
       "</table>\n",
       "</div>"
      ],
      "text/plain": [
       "          ds  y_sum  temp_max   temp_min  rain_amount\n",
       "0 2013-01-01  17399      -0.4 -12.900000          3.0\n",
       "1 2013-01-02  65748      -9.4 -16.200001          0.0\n",
       "2 2013-01-03  73139      -9.6 -15.300000          0.0\n",
       "3 2013-01-04  78096      -6.2 -13.700000          0.0\n",
       "4 2013-01-05  64780      -2.2 -10.900000          0.0"
      ]
     },
     "execution_count": 18,
     "metadata": {},
     "output_type": "execute_result"
    }
   ],
   "source": [
    "df_raw.head()"
   ]
  },
  {
   "cell_type": "code",
   "execution_count": 19,
   "metadata": {
    "collapsed": true
   },
   "outputs": [],
   "source": [
    "df_weekday= df_raw.ds.apply(lambda x: x.weekday())\n",
    "df_weekday= df_raw.loc[(df_weekday>=0)&(df_weekday<=4)]\n",
    "df_sat= df_raw.loc[df_raw.ds.apply(lambda x: x.weekday())==5]\n",
    "df_sun= df_raw.loc[df_raw.ds.apply(lambda x: x.weekday())==6]"
   ]
  },
  {
   "cell_type": "code",
   "execution_count": 20,
   "metadata": {},
   "outputs": [],
   "source": [
    "traintest_dict= {}\n",
    "for y in y_col:\n",
    "    traintest_dict[y]= {}\n",
    "    traintest_dict[y]['weekday']= ft_c.train_test_sample(df_weekday, y, x_col)\n",
    "    traintest_dict[y]['sat']= ft_c.train_test_sample(df_sat, y, x_col)\n",
    "    traintest_dict[y]['sun']= ft_c.train_test_sample(df_sun, y, x_col)"
   ]
  },
  {
   "cell_type": "code",
   "execution_count": 23,
   "metadata": {
    "collapsed": true
   },
   "outputs": [],
   "source": [
    "result_dict= {}\n",
    "for y in y_col:\n",
    "    result_dict[y]= {\n",
    "                    'weekday': prpt.Bayseian2(traintest_dict[y]['weekday'], 'week'),\n",
    "                    'sat': prpt.Bayseian2(traintest_dict[y]['sat'], 'week'),\n",
    "                    'sun': prpt.Bayseian2(traintest_dict[y]['sun'], 'week'),\n",
    "                    }"
   ]
  },
  {
   "cell_type": "code",
   "execution_count": 24,
   "metadata": {
    "collapsed": true
   },
   "outputs": [],
   "source": [
    "merged_dict={}\n",
    "for y in y_col:\n",
    "    merged_dict[y]={'future': \n",
    "                    pd.concat([result_dict[y]['weekday']['future'],\n",
    "                              result_dict[y]['sat']['future'],\n",
    "                              result_dict[y]['sun']['future']],\n",
    "                              axis= 0).sort_values(by='ds', axis=0),\n",
    "                   'forecastProphetTable':\n",
    "                    pd.concat([result_dict[y]['weekday']['forecastProphetTable'],\n",
    "                              result_dict[y]['sat']['forecastProphetTable'],\\\n",
    "                              result_dict[y]['sun']['forecastProphetTable']],\\\n",
    "                              axis= 0).sort_values(by='ds', axis=0)\n",
    "                   }"
   ]
  },
  {
   "cell_type": "code",
   "execution_count": 25,
   "metadata": {
    "scrolled": true
   },
   "outputs": [
    {
     "name": "stdout",
     "output_type": "stream",
     "text": [
      "KPP일별_반납회수(13_17)_raw.xlsx\n",
      "RMSE with segment y_sum: 23173.3535189\n",
      "MAPE with segment y_sum: 9.91780854541\n",
      "MAPE_with_std with segment y_sum: 31.0692472818\n",
      "MAPE_div_std with segment y_sum: 49.1091697147\n",
      "sMAPE of company code y_sum: 11.0108679219\n",
      "          ds  temp_max  temp_min  rain_amount           yhat   y_sum\n",
      "0 2017-11-24       2.9      -2.5          0.1  112054.016914  106479\n",
      "1 2017-11-25       6.4       0.8         15.7   71960.254605   68246\n",
      "2 2017-11-26       6.4      -2.4          0.0    1415.725708    1165\n",
      "3 2017-11-27       8.1       1.8          0.0  111624.406190  112203\n",
      "4 2017-11-28       9.8       4.2          1.2  114950.595302  115725\n",
      "\n",
      "\n"
     ]
    }
   ],
   "source": [
    "forecast_dict={}\n",
    "print(INPUT_FILENAME)\n",
    "for y in y_col:\n",
    "    merged_dict[y]['future']['ds']= pd.to_datetime(merged_dict[y]['future']['ds'], box=True, format= '%Y/%m/%d', exact=True)\n",
    "    merged_dict[y]['forecastProphetTable']['ds']= pd.to_datetime(merged_dict[y]['forecastProphetTable']['ds'], box=True, format= '%Y/%m/%d', exact=True)\n",
    "    forecast_dict[y]= prpt.extract_info_from(merged_dict[y]['future'], merged_dict[y]['forecastProphetTable'], varr.FORECASTDAY)\n",
    "    forecast_dict[y]['result_df']= pd.merge(forecast_dict[y]['result_df'], df_raw[['ds', y]], how='inner', on='ds')\n",
    "    print('RMSE with segment '+str(y)+': '+str(calc.rms_error(forecast_dict[y]['result_df'][y], forecast_dict[y]['result_df']['yhat'])))\n",
    "    print('MAPE with segment '+str(y)+': '+str(calc.map_error(forecast_dict[y]['result_df'][y], forecast_dict[y]['result_df']['yhat'])))\n",
    "    print('MAPE_with_std with segment '+str(y)+': '+str(calc.map_error_with_std(forecast_dict[y]['result_df'][y], forecast_dict[y]['result_df']['yhat'])))\n",
    "    print('MAPE_div_std with segment '+str(y)+': '+str(calc.map_error_div_std(forecast_dict[y]['result_df'][y], forecast_dict[y]['result_df']['yhat'])))\n",
    "    print('sMAPE of company code '+str(y)+': '+str(calc.smap_error(forecast_dict[y]['result_df'][y], forecast_dict[y]['result_df']['yhat'])))\n",
    "    print(forecast_dict[y]['result_df'].head())\n",
    "#     ft_c.save_as_xlsx(varr.PJ_DIR+varr.DF_DIR, forecast_dict[y]['result_df'], INPUT_FILENAME, '_seg'+str(y)+'withweekday')\n",
    "    print('\\n')"
   ]
  },
  {
   "cell_type": "code",
   "execution_count": 39,
   "metadata": {},
   "outputs": [
    {
     "data": {
      "text/html": [
       "<div>\n",
       "<style>\n",
       "    .dataframe thead tr:only-child th {\n",
       "        text-align: right;\n",
       "    }\n",
       "\n",
       "    .dataframe thead th {\n",
       "        text-align: left;\n",
       "    }\n",
       "\n",
       "    .dataframe tbody tr th {\n",
       "        vertical-align: top;\n",
       "    }\n",
       "</style>\n",
       "<table border=\"1\" class=\"dataframe\">\n",
       "  <thead>\n",
       "    <tr style=\"text-align: right;\">\n",
       "      <th></th>\n",
       "      <th>ds</th>\n",
       "      <th>temp_max</th>\n",
       "      <th>temp_min</th>\n",
       "      <th>rain_amount</th>\n",
       "      <th>yhat</th>\n",
       "      <th>y_sum</th>\n",
       "    </tr>\n",
       "  </thead>\n",
       "  <tbody>\n",
       "    <tr>\n",
       "      <th>0</th>\n",
       "      <td>2017-11-24</td>\n",
       "      <td>2.9</td>\n",
       "      <td>-2.5</td>\n",
       "      <td>0.1</td>\n",
       "      <td>112054.016914</td>\n",
       "      <td>106479</td>\n",
       "    </tr>\n",
       "    <tr>\n",
       "      <th>1</th>\n",
       "      <td>2017-11-25</td>\n",
       "      <td>6.4</td>\n",
       "      <td>0.8</td>\n",
       "      <td>15.7</td>\n",
       "      <td>71960.254605</td>\n",
       "      <td>68246</td>\n",
       "    </tr>\n",
       "    <tr>\n",
       "      <th>2</th>\n",
       "      <td>2017-11-26</td>\n",
       "      <td>6.4</td>\n",
       "      <td>-2.4</td>\n",
       "      <td>0.0</td>\n",
       "      <td>1415.725708</td>\n",
       "      <td>1165</td>\n",
       "    </tr>\n",
       "    <tr>\n",
       "      <th>3</th>\n",
       "      <td>2017-11-27</td>\n",
       "      <td>8.1</td>\n",
       "      <td>1.8</td>\n",
       "      <td>0.0</td>\n",
       "      <td>111624.406190</td>\n",
       "      <td>112203</td>\n",
       "    </tr>\n",
       "    <tr>\n",
       "      <th>4</th>\n",
       "      <td>2017-11-28</td>\n",
       "      <td>9.8</td>\n",
       "      <td>4.2</td>\n",
       "      <td>1.2</td>\n",
       "      <td>114950.595302</td>\n",
       "      <td>115725</td>\n",
       "    </tr>\n",
       "    <tr>\n",
       "      <th>5</th>\n",
       "      <td>2017-11-29</td>\n",
       "      <td>5.7</td>\n",
       "      <td>-3.2</td>\n",
       "      <td>0.0</td>\n",
       "      <td>118929.428045</td>\n",
       "      <td>121990</td>\n",
       "    </tr>\n",
       "    <tr>\n",
       "      <th>6</th>\n",
       "      <td>2017-11-30</td>\n",
       "      <td>1.8</td>\n",
       "      <td>-7.1</td>\n",
       "      <td>0.0</td>\n",
       "      <td>120640.235185</td>\n",
       "      <td>181499</td>\n",
       "    </tr>\n",
       "  </tbody>\n",
       "</table>\n",
       "</div>"
      ],
      "text/plain": [
       "          ds  temp_max  temp_min  rain_amount           yhat   y_sum\n",
       "0 2017-11-24       2.9      -2.5          0.1  112054.016914  106479\n",
       "1 2017-11-25       6.4       0.8         15.7   71960.254605   68246\n",
       "2 2017-11-26       6.4      -2.4          0.0    1415.725708    1165\n",
       "3 2017-11-27       8.1       1.8          0.0  111624.406190  112203\n",
       "4 2017-11-28       9.8       4.2          1.2  114950.595302  115725\n",
       "5 2017-11-29       5.7      -3.2          0.0  118929.428045  121990\n",
       "6 2017-11-30       1.8      -7.1          0.0  120640.235185  181499"
      ]
     },
     "execution_count": 39,
     "metadata": {},
     "output_type": "execute_result"
    }
   ],
   "source": [
    "forecast_dict['y_sum']['result_df']"
   ]
  },
  {
   "cell_type": "code",
   "execution_count": null,
   "metadata": {},
   "outputs": [],
   "source": [
    "result_dict[y]['weekday']['model'].plot(result_dict[y]['weekday']['forecastProphetTable'])"
   ]
  },
  {
   "cell_type": "code",
   "execution_count": null,
   "metadata": {},
   "outputs": [],
   "source": [
    "result_dict[y]['weekday']['model'].plot_components(result_dict[y]['weekday']['forecastProphetTable'])"
   ]
  },
  {
   "cell_type": "code",
   "execution_count": null,
   "metadata": {
    "collapsed": true
   },
   "outputs": [],
   "source": [
    "merged_dict['y']['forecastProphetTable'].head(20)"
   ]
  },
  {
   "cell_type": "code",
   "execution_count": null,
   "metadata": {
    "collapsed": true
   },
   "outputs": [],
   "source": [
    "# weekly_seasonality= merged_dict['y_sum']['forecastProphetTable']['yhat']\n",
    "# weekly_seasonality= weekly_seasonality.reset_index(drop= True)\n",
    "# df_season= df_raw\n",
    "# df_season['y_sum']= df_raw['y_sum']- weekly_seasonality"
   ]
  },
  {
   "cell_type": "code",
   "execution_count": null,
   "metadata": {
    "collapsed": true
   },
   "outputs": [],
   "source": [
    "# autocorrelation_plot(df_season['y_sum'])\n",
    "# plt.show()"
   ]
  },
  {
   "cell_type": "code",
   "execution_count": null,
   "metadata": {
    "collapsed": true
   },
   "outputs": [],
   "source": [
    "# df_season[-150:].y_sum.autocorr(lag=7)"
   ]
  },
  {
   "cell_type": "code",
   "execution_count": null,
   "metadata": {},
   "outputs": [],
   "source": [
    "y_hat_series= copy.deepcopy(merged_dict['y']['forecastProphetTable']['yhat'].reset_index(drop= True))"
   ]
  },
  {
   "cell_type": "code",
   "execution_count": null,
   "metadata": {
    "collapsed": true
   },
   "outputs": [],
   "source": [
    "y_series= df_raw.y"
   ]
  },
  {
   "cell_type": "code",
   "execution_count": null,
   "metadata": {},
   "outputs": [],
   "source": [
    "np.std(y_hat_series- y_series)"
   ]
  },
  {
   "cell_type": "code",
   "execution_count": null,
   "metadata": {
    "collapsed": true
   },
   "outputs": [],
   "source": [
    "err_series= y_hat_series- y_series"
   ]
  },
  {
   "cell_type": "code",
   "execution_count": null,
   "metadata": {
    "collapsed": true
   },
   "outputs": [],
   "source": [
    "yhat_upper_series= copy.deepcopy(merged_dict['y']['forecastProphetTable']['yhat_upper'].reset_index(drop= True))\n",
    "yhat_lower_series= copy.deepcopy(merged_dict['y']['forecastProphetTable']['yhat_lower'].reset_index(drop= True))"
   ]
  },
  {
   "cell_type": "code",
   "execution_count": null,
   "metadata": {
    "collapsed": true
   },
   "outputs": [],
   "source": [
    "df_err= df_raw.loc[(\n",
    "    y_series-yhat_upper_series>=0\n",
    "    )|(\n",
    "    y_series-yhat_lower_series<=0\n",
    "    ), :]"
   ]
  },
  {
   "cell_type": "code",
   "execution_count": null,
   "metadata": {
    "collapsed": true
   },
   "outputs": [],
   "source": [
    "df_raw['err']= err_series\n",
    "df_raw['yhat']= y_hat_series"
   ]
  },
  {
   "cell_type": "code",
   "execution_count": null,
   "metadata": {},
   "outputs": [],
   "source": [
    "df_raw.iloc[-31:, :].sort_values('err')"
   ]
  },
  {
   "cell_type": "code",
   "execution_count": null,
   "metadata": {},
   "outputs": [],
   "source": [
    "# df_cv= CV(result_dict['y']['weekday']['model'], horizon= '7 days')"
   ]
  },
  {
   "cell_type": "code",
   "execution_count": null,
   "metadata": {
    "collapsed": true
   },
   "outputs": [],
   "source": [
    "# ft_c.train_test"
   ]
  },
  {
   "cell_type": "code",
   "execution_count": null,
   "metadata": {},
   "outputs": [],
   "source": [
    "df_raw.shape"
   ]
  },
  {
   "cell_type": "code",
   "execution_count": null,
   "metadata": {
    "collapsed": true
   },
   "outputs": [],
   "source": []
  },
  {
   "cell_type": "code",
   "execution_count": null,
   "metadata": {},
   "outputs": [],
   "source": [
    "# print('RMSE with segment '+str(y)+': '+str(calc.rms_error(df_cv['y'], df_cv['yhat'])))\n",
    "# print('MAPE with segment '+str(y)+': '+str(calc.map_error(df_cv['y'], df_cv['yhat'])))\n",
    "# print('MAPE_with_std with segment '+str(y)+': '+str(calc.map_error_with_std(df_cv['y'], df_cv['yhat'])))\n",
    "# print('MAPE_div_std with segment '+str(y)+': '+str(calc.map_error_div_std(df_cv['y'], df_cv['yhat'])))\n",
    "# print('sMAPE of company code '+str(y)+': '+str(calc.smap_error(df_cv['y'], df_cv['yhat'])))"
   ]
  },
  {
   "cell_type": "code",
   "execution_count": null,
   "metadata": {
    "collapsed": true
   },
   "outputs": [],
   "source": []
  }
 ],
 "metadata": {
  "kernelspec": {
   "display_name": "Python 3",
   "language": "python",
   "name": "python3"
  },
  "language_info": {
   "codemirror_mode": {
    "name": "ipython",
    "version": 3
   },
   "file_extension": ".py",
   "mimetype": "text/x-python",
   "name": "python",
   "nbconvert_exporter": "python",
   "pygments_lexer": "ipython3",
   "version": "3.6.4"
  }
 },
 "nbformat": 4,
 "nbformat_minor": 2
}
