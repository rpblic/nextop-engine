{
 "cells": [
  {
   "cell_type": "code",
   "execution_count": 14,
   "metadata": {},
   "outputs": [],
   "source": [
    "from scipy.stats import ttest_rel, pearsonr\n",
    "import pandas as pd\n",
    "from pandas.plotting import autocorrelation_plot\n",
    "import numpy as np\n",
    "import matplotlib.pyplot as plt"
   ]
  },
  {
   "cell_type": "code",
   "execution_count": 2,
   "metadata": {
    "collapsed": true
   },
   "outputs": [],
   "source": [
    "import os, sys\n",
    "sys.path.append(os.getcwd())"
   ]
  },
  {
   "cell_type": "code",
   "execution_count": 3,
   "metadata": {},
   "outputs": [],
   "source": [
    "from _element import feature_control as ft_c\n",
    "from _usecase import algorithm_prophet as prpt"
   ]
  },
  {
   "cell_type": "code",
   "execution_count": 4,
   "metadata": {
    "collapsed": true
   },
   "outputs": [],
   "source": [
    "df= ft_c.xlsx_opener('./_element/data/private_return/', 'KPP일별_반납회수(13_17)_raw.xlsx')"
   ]
  },
  {
   "cell_type": "code",
   "execution_count": 10,
   "metadata": {},
   "outputs": [
    {
     "data": {
      "text/html": [
       "<div>\n",
       "<style>\n",
       "    .dataframe thead tr:only-child th {\n",
       "        text-align: right;\n",
       "    }\n",
       "\n",
       "    .dataframe thead th {\n",
       "        text-align: left;\n",
       "    }\n",
       "\n",
       "    .dataframe tbody tr th {\n",
       "        vertical-align: top;\n",
       "    }\n",
       "</style>\n",
       "<table border=\"1\" class=\"dataframe\">\n",
       "  <thead>\n",
       "    <tr style=\"text-align: right;\">\n",
       "      <th></th>\n",
       "      <th>ds</th>\n",
       "      <th>y_sum</th>\n",
       "    </tr>\n",
       "  </thead>\n",
       "  <tbody>\n",
       "    <tr>\n",
       "      <th>0</th>\n",
       "      <td>2013-01-01</td>\n",
       "      <td>17399</td>\n",
       "    </tr>\n",
       "    <tr>\n",
       "      <th>1</th>\n",
       "      <td>2013-01-02</td>\n",
       "      <td>65748</td>\n",
       "    </tr>\n",
       "    <tr>\n",
       "      <th>2</th>\n",
       "      <td>2013-01-03</td>\n",
       "      <td>73139</td>\n",
       "    </tr>\n",
       "    <tr>\n",
       "      <th>3</th>\n",
       "      <td>2013-01-04</td>\n",
       "      <td>78096</td>\n",
       "    </tr>\n",
       "    <tr>\n",
       "      <th>4</th>\n",
       "      <td>2013-01-05</td>\n",
       "      <td>64780</td>\n",
       "    </tr>\n",
       "  </tbody>\n",
       "</table>\n",
       "</div>"
      ],
      "text/plain": [
       "          ds  y_sum\n",
       "0 2013-01-01  17399\n",
       "1 2013-01-02  65748\n",
       "2 2013-01-03  73139\n",
       "3 2013-01-04  78096\n",
       "4 2013-01-05  64780"
      ]
     },
     "execution_count": 10,
     "metadata": {},
     "output_type": "execute_result"
    }
   ],
   "source": [
    "df.head()"
   ]
  },
  {
   "cell_type": "code",
   "execution_count": 18,
   "metadata": {},
   "outputs": [
    {
     "data": {
      "text/plain": [
       "1       48349.0\n",
       "2        7391.0\n",
       "3        4957.0\n",
       "4      -13316.0\n",
       "5      -63084.0\n",
       "6       88579.0\n",
       "7       -2559.0\n",
       "8      -10227.0\n",
       "9         738.0\n",
       "10       5519.0\n",
       "11     -25510.0\n",
       "12     -54803.0\n",
       "13      79973.0\n",
       "14      -5095.0\n",
       "15      -4304.0\n",
       "16       7535.0\n",
       "17      -8479.0\n",
       "18     -16613.0\n",
       "19     -53701.0\n",
       "20      68986.0\n",
       "21       5162.0\n",
       "22      -2577.0\n",
       "23        952.0\n",
       "24       5766.0\n",
       "25     -23550.0\n",
       "26     -54091.0\n",
       "27      82248.0\n",
       "28      -3297.0\n",
       "29       5944.0\n",
       "30      16640.0\n",
       "         ...   \n",
       "689    108924.0\n",
       "690      1630.0\n",
       "691     -1305.0\n",
       "692     -3199.0\n",
       "693       184.0\n",
       "694    -38233.0\n",
       "695    -67081.0\n",
       "696    111038.0\n",
       "697      3522.0\n",
       "698      6265.0\n",
       "699     59509.0\n",
       "700   -117884.0\n",
       "701    -22929.0\n",
       "702    -40586.0\n",
       "703     77309.0\n",
       "704     -2658.0\n",
       "705      3806.0\n",
       "706     -2465.0\n",
       "707      2809.0\n",
       "708    -34777.0\n",
       "709    -43866.0\n",
       "710     77529.0\n",
       "711     -5823.0\n",
       "712      5951.0\n",
       "713     -3170.0\n",
       "714      4929.0\n",
       "715    -35970.0\n",
       "716    -43704.0\n",
       "717     62306.0\n",
       "718    -61655.0\n",
       "Name: y_sum, Length: 1812, dtype: float64"
      ]
     },
     "execution_count": 18,
     "metadata": {},
     "output_type": "execute_result"
    }
   ],
   "source": [
    "df.y_sum.iloc[1:]- df['y_sum'].shift(1)[1:]"
   ]
  },
  {
   "cell_type": "code",
   "execution_count": 35,
   "metadata": {},
   "outputs": [
    {
     "data": {
      "text/plain": [
       "<matplotlib.axes._subplots.AxesSubplot at 0x22091e1f518>"
      ]
     },
     "execution_count": 35,
     "metadata": {},
     "output_type": "execute_result"
    }
   ],
   "source": [
    "autocorrelation_plot(df.y_sum.iloc[2:120])"
   ]
  },
  {
   "cell_type": "code",
   "execution_count": 36,
   "metadata": {},
   "outputs": [
    {
     "data": {
      "image/png": "[encoded data removed]",
      "text/plain": [
       "<matplotlib.figure.Figure at 0x220914c65c0>"
      ]
     },
     "metadata": {},
     "output_type": "display_data"
    }
   ],
   "source": [
    "plt.show()"
   ]
  },
  {
   "cell_type": "code",
   "execution_count": null,
   "metadata": {
    "collapsed": true
   },
   "outputs": [],
   "source": []
  }
 ],
 "metadata": {
  "kernelspec": {
   "display_name": "Python 3",
   "language": "python",
   "name": "python3"
  },
  "language_info": {
   "codemirror_mode": {
    "name": "ipython",
    "version": 3
   },
   "file_extension": ".py",
   "mimetype": "text/x-python",
   "name": "python",
   "nbconvert_exporter": "python",
   "pygments_lexer": "ipython3",
   "version": "3.6.4"
  }
 },
 "nbformat": 4,
 "nbformat_minor": 2
}
