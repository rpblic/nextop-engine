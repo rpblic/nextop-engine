{
 "cells": [
  {
   "cell_type": "code",
   "execution_count": 1,
   "metadata": {
    "collapsed": true
   },
   "outputs": [],
   "source": [
    "from _element import feature_control as ft_c"
   ]
  },
  {
   "cell_type": "code",
   "execution_count": 2,
   "metadata": {
    "collapsed": true
   },
   "outputs": [],
   "source": [
    "from _usecase import algorithm_prophet as prpt"
   ]
  },
  {
   "cell_type": "code",
   "execution_count": 3,
   "metadata": {
    "collapsed": true
   },
   "outputs": [],
   "source": [
    "from _element import calculations as calc"
   ]
  },
  {
   "cell_type": "code",
   "execution_count": 4,
   "metadata": {
    "collapsed": true
   },
   "outputs": [],
   "source": [
    "import pandas as pd"
   ]
  },
  {
   "cell_type": "code",
   "execution_count": 5,
   "metadata": {
    "collapsed": true
   },
   "outputs": [],
   "source": [
    "from datetime import datetime"
   ]
  },
  {
   "cell_type": "code",
   "execution_count": 6,
   "metadata": {
    "collapsed": true
   },
   "outputs": [],
   "source": [
    "from _element import varr"
   ]
  },
  {
   "cell_type": "code",
   "execution_count": 7,
   "metadata": {
    "collapsed": true
   },
   "outputs": [],
   "source": [
    "INPUT_FILENAME= 'KPP일별_반납회수(13_17)_withcompanycode.xlsx'"
   ]
  },
  {
   "cell_type": "code",
   "execution_count": 8,
   "metadata": {
    "collapsed": true
   },
   "outputs": [],
   "source": [
    "df_raw= ft_c.xlsx_opener(varr.PJ_DIR+varr.DF_DIR, INPUT_FILENAME)"
   ]
  },
  {
   "cell_type": "code",
   "execution_count": 9,
   "metadata": {
    "collapsed": true
   },
   "outputs": [],
   "source": [
    "df_temp= ft_c.xlsx_opener(varr.PJ_DIR+varr.TEMP_DATA_DIR, 'temp_data_merged.xlsx')"
   ]
  },
  {
   "cell_type": "code",
   "execution_count": 10,
   "metadata": {
    "collapsed": true
   },
   "outputs": [],
   "source": [
    "y_col= df_raw.columns.values.tolist()"
   ]
  },
  {
   "cell_type": "code",
   "execution_count": 11,
   "metadata": {
    "collapsed": true
   },
   "outputs": [],
   "source": [
    "try:\n",
    "    y_col.remove('ds')\n",
    "except ValueError:\n",
    "    pass"
   ]
  },
  {
   "cell_type": "code",
   "execution_count": 12,
   "metadata": {},
   "outputs": [
    {
     "data": {
      "text/plain": [
       "[225739, 227308, 227609, 289843, 432854]"
      ]
     },
     "execution_count": 12,
     "metadata": {},
     "output_type": "execute_result"
    }
   ],
   "source": [
    "y_col"
   ]
  },
  {
   "cell_type": "code",
   "execution_count": 13,
   "metadata": {
    "collapsed": true
   },
   "outputs": [],
   "source": [
    "x_col= df_temp.columns.values.tolist()"
   ]
  },
  {
   "cell_type": "code",
   "execution_count": 14,
   "metadata": {},
   "outputs": [
    {
     "data": {
      "text/plain": [
       "['ds', 'temp_max', 'temp_min', 'rain_amount']"
      ]
     },
     "execution_count": 14,
     "metadata": {},
     "output_type": "execute_result"
    }
   ],
   "source": [
    "x_col"
   ]
  },
  {
   "cell_type": "code",
   "execution_count": 15,
   "metadata": {
    "collapsed": true
   },
   "outputs": [],
   "source": [
    "df_raw['ds']= pd.to_datetime(df_raw['ds'], box=True, format= '%Y/%m/%d', exact=True)"
   ]
  },
  {
   "cell_type": "code",
   "execution_count": 16,
   "metadata": {
    "collapsed": true
   },
   "outputs": [],
   "source": [
    "df_temp['ds']= pd.to_datetime(df_temp['ds'], box=True, format= '%Y/%m/%d', exact=True)"
   ]
  },
  {
   "cell_type": "code",
   "execution_count": 17,
   "metadata": {
    "collapsed": true
   },
   "outputs": [],
   "source": [
    "df_raw= pd.merge(df_raw, df_temp, how='inner', on='ds')"
   ]
  },
  {
   "cell_type": "code",
   "execution_count": 18,
   "metadata": {},
   "outputs": [
    {
     "data": {
      "text/html": [
       "<div>\n",
       "<style>\n",
       "    .dataframe thead tr:only-child th {\n",
       "        text-align: right;\n",
       "    }\n",
       "\n",
       "    .dataframe thead th {\n",
       "        text-align: left;\n",
       "    }\n",
       "\n",
       "    .dataframe tbody tr th {\n",
       "        vertical-align: top;\n",
       "    }\n",
       "</style>\n",
       "<table border=\"1\" class=\"dataframe\">\n",
       "  <thead>\n",
       "    <tr style=\"text-align: right;\">\n",
       "      <th></th>\n",
       "      <th>ds</th>\n",
       "      <th>225739</th>\n",
       "      <th>227308</th>\n",
       "      <th>227609</th>\n",
       "      <th>289843</th>\n",
       "      <th>432854</th>\n",
       "      <th>temp_max</th>\n",
       "      <th>temp_min</th>\n",
       "      <th>rain_amount</th>\n",
       "    </tr>\n",
       "  </thead>\n",
       "  <tbody>\n",
       "    <tr>\n",
       "      <th>0</th>\n",
       "      <td>2013-01-01</td>\n",
       "      <td>30</td>\n",
       "      <td>0</td>\n",
       "      <td>3733</td>\n",
       "      <td>3748</td>\n",
       "      <td>2132</td>\n",
       "      <td>-0.4</td>\n",
       "      <td>-12.900000</td>\n",
       "      <td>3.0</td>\n",
       "    </tr>\n",
       "    <tr>\n",
       "      <th>1</th>\n",
       "      <td>2013-01-02</td>\n",
       "      <td>2276</td>\n",
       "      <td>2976</td>\n",
       "      <td>5017</td>\n",
       "      <td>2308</td>\n",
       "      <td>804</td>\n",
       "      <td>-9.4</td>\n",
       "      <td>-16.200001</td>\n",
       "      <td>0.0</td>\n",
       "    </tr>\n",
       "    <tr>\n",
       "      <th>2</th>\n",
       "      <td>2013-01-03</td>\n",
       "      <td>2619</td>\n",
       "      <td>904</td>\n",
       "      <td>7753</td>\n",
       "      <td>2202</td>\n",
       "      <td>1328</td>\n",
       "      <td>-9.6</td>\n",
       "      <td>-15.300000</td>\n",
       "      <td>0.0</td>\n",
       "    </tr>\n",
       "    <tr>\n",
       "      <th>3</th>\n",
       "      <td>2013-01-04</td>\n",
       "      <td>1720</td>\n",
       "      <td>1908</td>\n",
       "      <td>7482</td>\n",
       "      <td>2688</td>\n",
       "      <td>804</td>\n",
       "      <td>-6.2</td>\n",
       "      <td>-13.700000</td>\n",
       "      <td>0.0</td>\n",
       "    </tr>\n",
       "    <tr>\n",
       "      <th>4</th>\n",
       "      <td>2013-01-05</td>\n",
       "      <td>2754</td>\n",
       "      <td>2848</td>\n",
       "      <td>7763</td>\n",
       "      <td>929</td>\n",
       "      <td>2132</td>\n",
       "      <td>-2.2</td>\n",
       "      <td>-10.900000</td>\n",
       "      <td>0.0</td>\n",
       "    </tr>\n",
       "  </tbody>\n",
       "</table>\n",
       "</div>"
      ],
      "text/plain": [
       "          ds  225739  227308  227609  289843  432854  temp_max   temp_min  \\\n",
       "0 2013-01-01      30       0    3733    3748    2132      -0.4 -12.900000   \n",
       "1 2013-01-02    2276    2976    5017    2308     804      -9.4 -16.200001   \n",
       "2 2013-01-03    2619     904    7753    2202    1328      -9.6 -15.300000   \n",
       "3 2013-01-04    1720    1908    7482    2688     804      -6.2 -13.700000   \n",
       "4 2013-01-05    2754    2848    7763     929    2132      -2.2 -10.900000   \n",
       "\n",
       "   rain_amount  \n",
       "0          3.0  \n",
       "1          0.0  \n",
       "2          0.0  \n",
       "3          0.0  \n",
       "4          0.0  "
      ]
     },
     "execution_count": 18,
     "metadata": {},
     "output_type": "execute_result"
    }
   ],
   "source": [
    "df_raw.head()"
   ]
  },
  {
   "cell_type": "code",
   "execution_count": 19,
   "metadata": {
    "collapsed": true
   },
   "outputs": [],
   "source": [
    "df_weekday_0= df_raw.loc[df_raw.ds.apply(lambda x: x.weekday())==0]\n",
    "df_weekday_1= df_raw.loc[df_raw.ds.apply(lambda x: x.weekday())==1]\n",
    "df_weekday_2= df_raw.loc[df_raw.ds.apply(lambda x: x.weekday())==2]\n",
    "df_weekday_3= df_raw.loc[df_raw.ds.apply(lambda x: x.weekday())==3]\n",
    "df_weekday_4= df_raw.loc[df_raw.ds.apply(lambda x: x.weekday())==4]\n",
    "df_weekday_5= df_raw.loc[df_raw.ds.apply(lambda x: x.weekday())==5]\n",
    "df_weekday_6= df_raw.loc[df_raw.ds.apply(lambda x: x.weekday())==6]"
   ]
  },
  {
   "cell_type": "code",
   "execution_count": 20,
   "metadata": {},
   "outputs": [
    {
     "name": "stderr",
     "output_type": "stream",
     "text": [
      "INFO:fbprophet.forecaster:Disabling weekly seasonality. Run prophet with weekly_seasonality=True to override this.\n",
      "INFO:fbprophet.forecaster:Disabling weekly seasonality. Run prophet with weekly_seasonality=True to override this.\n",
      "INFO:fbprophet.forecaster:Disabling weekly seasonality. Run prophet with weekly_seasonality=True to override this.\n",
      "INFO:fbprophet.forecaster:Disabling weekly seasonality. Run prophet with weekly_seasonality=True to override this.\n",
      "INFO:fbprophet.forecaster:Disabling weekly seasonality. Run prophet with weekly_seasonality=True to override this.\n",
      "INFO:fbprophet.forecaster:Disabling weekly seasonality. Run prophet with weekly_seasonality=True to override this.\n",
      "INFO:fbprophet.forecaster:Disabling weekly seasonality. Run prophet with weekly_seasonality=True to override this.\n",
      "INFO:fbprophet.forecaster:Disabling weekly seasonality. Run prophet with weekly_seasonality=True to override this.\n",
      "INFO:fbprophet.forecaster:Disabling weekly seasonality. Run prophet with weekly_seasonality=True to override this.\n",
      "INFO:fbprophet.forecaster:Disabling weekly seasonality. Run prophet with weekly_seasonality=True to override this.\n",
      "INFO:fbprophet.forecaster:Disabling weekly seasonality. Run prophet with weekly_seasonality=True to override this.\n",
      "INFO:fbprophet.forecaster:Disabling weekly seasonality. Run prophet with weekly_seasonality=True to override this.\n",
      "INFO:fbprophet.forecaster:Disabling weekly seasonality. Run prophet with weekly_seasonality=True to override this.\n",
      "INFO:fbprophet.forecaster:Disabling weekly seasonality. Run prophet with weekly_seasonality=True to override this.\n",
      "INFO:fbprophet.forecaster:Disabling weekly seasonality. Run prophet with weekly_seasonality=True to override this.\n",
      "INFO:fbprophet.forecaster:Disabling weekly seasonality. Run prophet with weekly_seasonality=True to override this.\n",
      "INFO:fbprophet.forecaster:Disabling weekly seasonality. Run prophet with weekly_seasonality=True to override this.\n",
      "INFO:fbprophet.forecaster:Disabling weekly seasonality. Run prophet with weekly_seasonality=True to override this.\n",
      "INFO:fbprophet.forecaster:Disabling weekly seasonality. Run prophet with weekly_seasonality=True to override this.\n",
      "INFO:fbprophet.forecaster:Disabling weekly seasonality. Run prophet with weekly_seasonality=True to override this.\n",
      "INFO:fbprophet.forecaster:Disabling weekly seasonality. Run prophet with weekly_seasonality=True to override this.\n",
      "INFO:fbprophet.forecaster:Disabling weekly seasonality. Run prophet with weekly_seasonality=True to override this.\n",
      "INFO:fbprophet.forecaster:Disabling weekly seasonality. Run prophet with weekly_seasonality=True to override this.\n",
      "INFO:fbprophet.forecaster:Disabling weekly seasonality. Run prophet with weekly_seasonality=True to override this.\n",
      "INFO:fbprophet.forecaster:Disabling weekly seasonality. Run prophet with weekly_seasonality=True to override this.\n",
      "INFO:fbprophet.forecaster:Disabling weekly seasonality. Run prophet with weekly_seasonality=True to override this.\n",
      "INFO:fbprophet.forecaster:Disabling weekly seasonality. Run prophet with weekly_seasonality=True to override this.\n",
      "INFO:fbprophet.forecaster:Disabling weekly seasonality. Run prophet with weekly_seasonality=True to override this.\n",
      "INFO:fbprophet.forecaster:Disabling weekly seasonality. Run prophet with weekly_seasonality=True to override this.\n",
      "INFO:fbprophet.forecaster:Disabling weekly seasonality. Run prophet with weekly_seasonality=True to override this.\n",
      "INFO:fbprophet.forecaster:Disabling weekly seasonality. Run prophet with weekly_seasonality=True to override this.\n",
      "INFO:fbprophet.forecaster:Disabling weekly seasonality. Run prophet with weekly_seasonality=True to override this.\n",
      "INFO:fbprophet.forecaster:Disabling weekly seasonality. Run prophet with weekly_seasonality=True to override this.\n",
      "INFO:fbprophet.forecaster:Disabling weekly seasonality. Run prophet with weekly_seasonality=True to override this.\n",
      "INFO:fbprophet.forecaster:Disabling weekly seasonality. Run prophet with weekly_seasonality=True to override this.\n"
     ]
    }
   ],
   "source": [
    "result_dict= {}\n",
    "for y in y_col:\n",
    "    result_dict[y]= {\n",
    "                    'mon': prpt.Bayseian2(df_weekday_0, varr.FORECASTDAY, y, x_col, 'week'),\\\n",
    "                    'tue': prpt.Bayseian2(df_weekday_1, varr.FORECASTDAY, y, x_col, 'week'),\\\n",
    "                    'wed': prpt.Bayseian2(df_weekday_2, varr.FORECASTDAY, y, x_col, 'week'),\\\n",
    "                    'thu': prpt.Bayseian2(df_weekday_3, varr.FORECASTDAY, y, x_col, 'week'),\\\n",
    "                    'pri': prpt.Bayseian2(df_weekday_4, varr.FORECASTDAY, y, x_col, 'week'),\\\n",
    "                    'sat': prpt.Bayseian2(df_weekday_5, varr.FORECASTDAY, y, x_col, 'week'),\\\n",
    "                    'sun': prpt.Bayseian2(df_weekday_6, varr.FORECASTDAY, y, x_col, 'week'),\\\n",
    "                    }"
   ]
  },
  {
   "cell_type": "code",
   "execution_count": 21,
   "metadata": {
    "collapsed": true
   },
   "outputs": [],
   "source": [
    "merged_dict={}\n",
    "for y in y_col:\n",
    "    merged_dict[y]={'future': \n",
    "                    pd.concat([result_dict[y]['mon']['future'],\\\n",
    "                              result_dict[y]['tue']['future'],\\\n",
    "                              result_dict[y]['wed']['future'],\\\n",
    "                              result_dict[y]['thu']['future'],\\\n",
    "                              result_dict[y]['pri']['future'],\\\n",
    "                              result_dict[y]['sat']['future'],\\\n",
    "                              result_dict[y]['sun']['future']],\\\n",
    "                              axis= 0).sort_values(by='ds', axis=0),\n",
    "                   'forecastProphetTable':\n",
    "                    pd.concat([result_dict[y]['mon']['forecastProphetTable'],\\\n",
    "                              result_dict[y]['tue']['forecastProphetTable'],\\\n",
    "                              result_dict[y]['wed']['forecastProphetTable'],\\\n",
    "                              result_dict[y]['thu']['forecastProphetTable'],\\\n",
    "                              result_dict[y]['pri']['forecastProphetTable'],\\\n",
    "                              result_dict[y]['sat']['forecastProphetTable'],\\\n",
    "                              result_dict[y]['sun']['forecastProphetTable']],\\\n",
    "                              axis= 0).sort_values(by='ds', axis=0)\n",
    "                   }"
   ]
  },
  {
   "cell_type": "code",
   "execution_count": 22,
   "metadata": {
    "scrolled": false
   },
   "outputs": [
    {
     "name": "stdout",
     "output_type": "stream",
     "text": [
      "KPP일별_반납회수(13_17)_withcompanycode.xlsx\n",
      "RMSE with segment 225739: 1250.17034408\n",
      "MAPE with segment 225739: inf\n",
      "MAPE_with_std with segment 225739: 62.1324164942\n",
      "MAPE_div_std with segment 225739: 101.680252478\n",
      "sMAPE of company code 225739: 48.1319056239\n",
      "          ds  temp_max  temp_min  rain_amount         yhat  225739\n",
      "0 2017-11-20       3.7      -4.0          0.2  2098.650498    2160\n",
      "1 2017-11-21       6.8       0.4          0.5  2267.824554    2520\n",
      "2 2017-11-22       9.5      -0.8          0.0  1535.595254    2160\n",
      "3 2017-11-23       4.3      -0.6          0.8  1640.321331    2600\n",
      "4 2017-11-24       2.9      -2.5          0.1  1430.082614    1800\n",
      "\n",
      "\n",
      "RMSE with segment 227308: 905.334214856\n",
      "MAPE with segment 227308: inf\n",
      "MAPE_with_std with segment 227308: 58.5408791052\n",
      "MAPE_div_std with segment 227308: 98.5839400531\n",
      "sMAPE of company code 227308: 48.7357334202\n",
      "          ds  temp_max  temp_min  rain_amount         yhat  227308\n",
      "0 2017-11-20       3.7      -4.0          0.2  1483.036024    2376\n",
      "1 2017-11-21       6.8       0.4          0.5  1854.067139    2400\n",
      "2 2017-11-22       9.5      -0.8          0.0  1265.122918    1280\n",
      "3 2017-11-23       4.3      -0.6          0.8  1162.734788    1312\n",
      "4 2017-11-24       2.9      -2.5          0.1  1063.136558    1640\n",
      "\n",
      "\n",
      "RMSE with segment 227609: 3344.66105972\n",
      "MAPE with segment 227609: inf\n",
      "MAPE_with_std with segment 227609: 71.2530608257\n",
      "MAPE_div_std with segment 227609: 111.370722118\n",
      "sMAPE of company code 227609: 49.4298920898\n",
      "          ds  temp_max  temp_min  rain_amount         yhat  227609\n",
      "0 2017-11-20       3.7      -4.0          0.2  3578.997427    4903\n",
      "1 2017-11-21       6.8       0.4          0.5  5332.979381    4924\n",
      "2 2017-11-22       9.5      -0.8          0.0  6352.581352    4145\n",
      "3 2017-11-23       4.3      -0.6          0.8  4493.444192    5334\n",
      "4 2017-11-24       2.9      -2.5          0.1  4182.486248    4518\n",
      "\n",
      "\n",
      "RMSE with segment 289843: 9730.39638435\n",
      "MAPE with segment 289843: inf\n",
      "MAPE_with_std with segment 289843: 78.2076147402\n",
      "MAPE_div_std with segment 289843: 38.6936423364\n",
      "sMAPE of company code 289843: 91.8412202337\n",
      "          ds  temp_max  temp_min  rain_amount         yhat  289843\n",
      "0 2017-11-20       3.7      -4.0          0.2  3243.728921     424\n",
      "1 2017-11-21       6.8       0.4          0.5  4006.877819     200\n",
      "2 2017-11-22       9.5      -0.8          0.0  2586.997257     968\n",
      "3 2017-11-23       4.3      -0.6          0.8  2388.026810       0\n",
      "4 2017-11-24       2.9      -2.5          0.1  2765.075386     200\n",
      "\n"
     ]
    },
    {
     "name": "stderr",
     "output_type": "stream",
     "text": [
      "C:\\Nextop\\nextop-engine\\nextop_engine\\_element\\calculations.py:11: RuntimeWarning: divide by zero encountered in true_divide\n",
      "  return np.mean(np.abs((y_true - y_pred) / y_true)) * 100\n"
     ]
    },
    {
     "name": "stdout",
     "output_type": "stream",
     "text": [
      "\n",
      "RMSE with segment 432854: 281.741582751\n",
      "MAPE with segment 432854: nan\n",
      "MAPE_with_std with segment 432854: 147.905143198\n",
      "MAPE_div_std with segment 432854: 80.3174154286\n",
      "sMAPE of company code 432854: -195.600218475\n",
      "          ds  temp_max  temp_min  rain_amount        yhat  432854\n",
      "0 2017-11-20       3.7      -4.0          0.2 -170.317777       0\n",
      "1 2017-11-21       6.8       0.4          0.5 -281.373809       0\n",
      "2 2017-11-22       9.5      -0.8          0.0  240.538273       0\n",
      "3 2017-11-23       4.3      -0.6          0.8   78.655179       0\n",
      "4 2017-11-24       2.9      -2.5          0.1 -115.341577       0\n",
      "\n",
      "\n"
     ]
    },
    {
     "name": "stderr",
     "output_type": "stream",
     "text": [
      "C:\\Nextop\\nextop-engine\\nextop_engine\\_element\\calculations.py:11: RuntimeWarning: invalid value encountered in true_divide\n",
      "  return np.mean(np.abs((y_true - y_pred) / y_true)) * 100\n"
     ]
    }
   ],
   "source": [
    "forecast_dict={}\n",
    "print(INPUT_FILENAME)\n",
    "for y in y_col:\n",
    "    merged_dict[y]['future']['ds']= pd.to_datetime(merged_dict[y]['future']['ds'], box=True, format= '%Y/%m/%d', exact=True)\n",
    "    merged_dict[y]['forecastProphetTable']['ds']= pd.to_datetime(merged_dict[y]['forecastProphetTable']['ds'], box=True, format= '%Y/%m/%d', exact=True)\n",
    "    forecast_dict[y]= prpt.extract_info_from(merged_dict[y]['future'], merged_dict[y]['forecastProphetTable'], varr.FORECASTDAY)\n",
    "    forecast_dict[y]['result_df']= pd.merge(forecast_dict[y]['result_df'], df_raw[['ds', y]], how='inner', on='ds')\n",
    "    print('RMSE with segment '+str(y)+': '+str(calc.rms_error(forecast_dict[y]['result_df'][y], forecast_dict[y]['result_df']['yhat'])))\n",
    "    print('MAPE with segment '+str(y)+': '+str(calc.map_error(forecast_dict[y]['result_df'][y], forecast_dict[y]['result_df']['yhat'])))\n",
    "    print('MAPE_with_std with segment '+str(y)+': '+str(calc.map_error_with_std(forecast_dict[y]['result_df'][y], forecast_dict[y]['result_df']['yhat'])))\n",
    "    print('MAPE_div_std with segment '+str(y)+': '+str(calc.map_error_div_std(forecast_dict[y]['result_df'][y], forecast_dict[y]['result_df']['yhat'])))\n",
    "    print('sMAPE of company code '+str(y)+': '+str(calc.smap_error(forecast_dict[y]['result_df'][y], forecast_dict[y]['result_df']['yhat'])))\n",
    "    print(forecast_dict[y]['result_df'].head())\n",
    "    ft_c.save_as_xlsx(varr.PJ_DIR+varr.DF_DIR, forecast_dict[y]['result_df'], INPUT_FILENAME, '_seg'+str(y)+'withweekday')\n",
    "    print('\\n')"
   ]
  },
  {
   "cell_type": "code",
   "execution_count": 23,
   "metadata": {
    "collapsed": true
   },
   "outputs": [],
   "source": [
    "# result_dict[y]['sun']['model'].plot(result_dict[y]['sun']['forecastProphetTable'])"
   ]
  },
  {
   "cell_type": "code",
   "execution_count": 24,
   "metadata": {
    "collapsed": true
   },
   "outputs": [],
   "source": [
    "# result_dict[y]['sun']['model'].plot_components(result_dict[y]['sun']['forecastProphetTable'])"
   ]
  }
 ],
 "metadata": {
  "kernelspec": {
   "display_name": "Python 3",
   "language": "python",
   "name": "python3"
  },
  "language_info": {
   "codemirror_mode": {
    "name": "ipython",
    "version": 3
   },
   "file_extension": ".py",
   "mimetype": "text/x-python",
   "name": "python",
   "nbconvert_exporter": "python",
   "pygments_lexer": "ipython3",
   "version": "3.6.4"
  }
 },
 "nbformat": 4,
 "nbformat_minor": 2
}
