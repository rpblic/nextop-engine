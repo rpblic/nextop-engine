{
 "cells": [
  {
   "cell_type": "code",
   "execution_count": 1,
   "metadata": {},
   "outputs": [
    {
     "name": "stdout",
     "output_type": "stream",
     "text": [
      "c:\\Studying\\Project_Nextop\\nextop-engine\\nextop_engine\n"
     ]
    }
   ],
   "source": [
    "import os, sys\n",
    "path_name= os.path.dirname(os.path.abspath(os.path.dirname(os.getcwd())))\n",
    "sys.path.append(path_name)\n",
    "print(path_name)"
   ]
  },
  {
   "cell_type": "code",
   "execution_count": 2,
   "metadata": {},
   "outputs": [
    {
     "name": "stderr",
     "output_type": "stream",
     "text": [
      "C:\\Anaconda3\\lib\\site-packages\\statsmodels\\compat\\pandas.py:56: FutureWarning: The pandas.core.datetools module is deprecated and will be removed in a future version. Please use the pandas.tseries module instead.\n",
      "  from pandas.core import datetools\n"
     ]
    }
   ],
   "source": [
    "from _element import feature_control as ft_c\n",
    "from _element.data_control import Data, DataRestruction, DataAddition\n",
    "from _element import varr\n",
    "from _element import calculations as calc\n",
    "from _element.result_control import Result\n",
    "\n",
    "from _alg.prophet import Prophet_timeseries\n",
    "from _alg.arima import Arima_timeseries\n",
    "\n",
    "from _evaluation.cross_validation import Cross_Validation\n",
    "from _evaluation import compare"
   ]
  },
  {
   "cell_type": "code",
   "execution_count": 3,
   "metadata": {
    "collapsed": true
   },
   "outputs": [],
   "source": [
    "import numpy as np\n",
    "import pandas as pd\n",
    "import seaborn as sns\n",
    "import matplotlib.pyplot as plt\n",
    "from sklearn.mixture import GaussianMixture"
   ]
  },
  {
   "cell_type": "code",
   "execution_count": 4,
   "metadata": {
    "collapsed": true
   },
   "outputs": [],
   "source": [
    "INPUT_FILENAME= 'KPP일별투입(10_17)_withallobj.xlsx'\n",
    "df_raw= ft_c.xlsx_opener(path_name+varr.DF_DIR, INPUT_FILENAME)"
   ]
  },
  {
   "cell_type": "code",
   "execution_count": 5,
   "metadata": {},
   "outputs": [
    {
     "name": "stdout",
     "output_type": "stream",
     "text": [
      "          ds  1025  1041  1057  1091  1111  1117  1119  1127  1163  ...    \\\n",
      "0 2010-01-01     0     0     0     0     0     0     0     0     0  ...     \n",
      "1 2010-01-02   192  6260     0     0     0     0     0     0     0  ...     \n",
      "2 2010-01-03     0     0     0     0     0     0     0     0     0  ...     \n",
      "3 2010-01-04     0  5141     0   320     0     0     0     0     0  ...     \n",
      "4 2010-01-05   130  5494     0  1186     0     0     0     0     0  ...     \n",
      "\n",
      "   1754  1797  1800   1815  1817  1852  1853  1878  1891  y_sum  \n",
      "0     0     0     0   2652     0     0     0     0     0   2662  \n",
      "1   337     0     0  26443     0     0   459   626     0  39352  \n",
      "2     0     0     0    404     0     0     0     0     0    404  \n",
      "3   154   576     0  22924     0     0  3445  3305     0  44906  \n",
      "4   367   294     0  39081   320     0  3861  4362   238  69481  \n",
      "\n",
      "[5 rows x 36 columns]\n",
      "<class 'pandas.core.frame.DataFrame'>\n",
      "RangeIndex: 2891 entries, 0 to 2890\n",
      "Data columns (total 36 columns):\n",
      "ds       2891 non-null datetime64[ns]\n",
      "1025     2891 non-null int64\n",
      "1041     2891 non-null int64\n",
      "1057     2891 non-null int64\n",
      "1091     2891 non-null int64\n",
      "1111     2891 non-null int64\n",
      "1117     2891 non-null int64\n",
      "1119     2891 non-null int64\n",
      "1127     2891 non-null int64\n",
      "1163     2891 non-null int64\n",
      "1216     2891 non-null int64\n",
      "1242     2891 non-null int64\n",
      "1261     2891 non-null int64\n",
      "1298     2891 non-null int64\n",
      "1355     2891 non-null int64\n",
      "1373     2891 non-null int64\n",
      "1375     2891 non-null int64\n",
      "1376     2891 non-null int64\n",
      "1390     2891 non-null int64\n",
      "1396     2891 non-null int64\n",
      "1627     2891 non-null int64\n",
      "1652     2891 non-null int64\n",
      "1656     2891 non-null int64\n",
      "1692     2891 non-null int64\n",
      "1729     2891 non-null int64\n",
      "1745     2891 non-null int64\n",
      "1754     2891 non-null int64\n",
      "1797     2891 non-null int64\n",
      "1800     2891 non-null int64\n",
      "1815     2891 non-null int64\n",
      "1817     2891 non-null int64\n",
      "1852     2891 non-null int64\n",
      "1853     2891 non-null int64\n",
      "1878     2891 non-null int64\n",
      "1891     2891 non-null int64\n",
      "y_sum    2891 non-null int64\n",
      "dtypes: datetime64[ns](1), int64(35)\n",
      "memory usage: 813.2 KB\n",
      "None\n"
     ]
    }
   ],
   "source": [
    "data= Data()\n",
    "data.setRawData(df_raw)"
   ]
  },
  {
   "cell_type": "code",
   "execution_count": 6,
   "metadata": {},
   "outputs": [
    {
     "data": {
      "text/plain": [
       "[1025,\n",
       " 1041,\n",
       " 1057,\n",
       " 1091,\n",
       " 1111,\n",
       " 1117,\n",
       " 1119,\n",
       " 1127,\n",
       " 1163,\n",
       " 1216,\n",
       " 1242,\n",
       " 1261,\n",
       " 1298,\n",
       " 1355,\n",
       " 1373,\n",
       " 1375,\n",
       " 1376,\n",
       " 1390,\n",
       " 1396,\n",
       " 1627,\n",
       " 1652,\n",
       " 1656,\n",
       " 1692,\n",
       " 1729,\n",
       " 1745,\n",
       " 1754,\n",
       " 1797,\n",
       " 1800,\n",
       " 1815,\n",
       " 1817,\n",
       " 1852,\n",
       " 1853,\n",
       " 1878,\n",
       " 1891,\n",
       " 'y_sum']"
      ]
     },
     "execution_count": 6,
     "metadata": {},
     "output_type": "execute_result"
    }
   ],
   "source": [
    "data.y_col"
   ]
  },
  {
   "cell_type": "code",
   "execution_count": 7,
   "metadata": {
    "collapsed": true
   },
   "outputs": [],
   "source": [
    "restruct= DataRestruction(data)"
   ]
  },
  {
   "cell_type": "code",
   "execution_count": 8,
   "metadata": {
    "collapsed": true,
    "scrolled": false
   },
   "outputs": [],
   "source": [
    "restruct.selectSpecificY([1692])"
   ]
  },
  {
   "cell_type": "code",
   "execution_count": 9,
   "metadata": {
    "collapsed": true
   },
   "outputs": [],
   "source": [
    "df_commit= restruct.commitRestructedData()"
   ]
  },
  {
   "cell_type": "code",
   "execution_count": 10,
   "metadata": {},
   "outputs": [
    {
     "data": {
      "text/plain": [
       "[1692]"
      ]
     },
     "execution_count": 10,
     "metadata": {},
     "output_type": "execute_result"
    }
   ],
   "source": [
    "data.y_col"
   ]
  },
  {
   "cell_type": "code",
   "execution_count": 11,
   "metadata": {
    "collapsed": true
   },
   "outputs": [],
   "source": [
    "df_temp= ft_c.xlsx_opener(path_name+varr.TEMP_DATA_DIR, 'temp_data_merged.xlsx')"
   ]
  },
  {
   "cell_type": "code",
   "execution_count": 12,
   "metadata": {
    "collapsed": true
   },
   "outputs": [],
   "source": [
    "addition= DataAddition(data)"
   ]
  },
  {
   "cell_type": "code",
   "execution_count": 13,
   "metadata": {
    "collapsed": true
   },
   "outputs": [],
   "source": [
    "addition.addXData(df_temp)\n",
    "df_commit= addition.commitAddedData()"
   ]
  },
  {
   "cell_type": "code",
   "execution_count": 14,
   "metadata": {
    "scrolled": false
   },
   "outputs": [
    {
     "name": "stdout",
     "output_type": "stream",
     "text": [
      "   1692         ds   temp_max   temp_min  rain_amount\n",
      "0  9534 2010-07-01  30.500000  24.900000          0.0\n",
      "1  7910 2010-07-02  25.799999  22.700001         70.0\n",
      "2  4176 2010-07-03  25.600000  22.600000          1.0\n",
      "3     0 2010-07-04  29.700001  23.100000          0.0\n",
      "4  4844 2010-07-05  30.600000  21.799999          0.0\n",
      "<class 'pandas.core.frame.DataFrame'>\n",
      "Int64Index: 2710 entries, 0 to 2709\n",
      "Data columns (total 5 columns):\n",
      "1692           2710 non-null int64\n",
      "ds             2710 non-null datetime64[ns]\n",
      "temp_max       2710 non-null float64\n",
      "temp_min       2710 non-null float64\n",
      "rain_amount    2710 non-null float64\n",
      "dtypes: datetime64[ns](1), float64(3), int64(1)\n",
      "memory usage: 127.0 KB\n",
      "None\n"
     ]
    }
   ],
   "source": [
    "data.showData()"
   ]
  },
  {
   "cell_type": "code",
   "execution_count": 15,
   "metadata": {
    "collapsed": true
   },
   "outputs": [],
   "source": [
    "restruct= DataRestruction(data)"
   ]
  },
  {
   "cell_type": "code",
   "execution_count": 16,
   "metadata": {
    "collapsed": true
   },
   "outputs": [],
   "source": [
    "restruct.addRegion(7, 'weekdayRegion', start_num= 3)"
   ]
  },
  {
   "cell_type": "code",
   "execution_count": 17,
   "metadata": {
    "collapsed": true
   },
   "outputs": [],
   "source": [
    "condition_only_sun= {\n",
    "    'weekday': (0,1,2,3,4,),\n",
    "    'sat': (5, ),\n",
    "    'sun': (6, )\n",
    "}\n",
    "restruct.dividebyTupleCondition(\n",
    "                                'weekdayRegion',\n",
    "                                condition_only_sun\n",
    "                                )"
   ]
  },
  {
   "cell_type": "code",
   "execution_count": 18,
   "metadata": {
    "collapsed": true
   },
   "outputs": [],
   "source": [
    "restruct.deleteRegion('weekdayRegion')"
   ]
  },
  {
   "cell_type": "code",
   "execution_count": 19,
   "metadata": {
    "collapsed": true
   },
   "outputs": [],
   "source": [
    "# restruct.slicebyTrainTestStructure(1041, ['ds', 'temp_max', 'temp_min', 'rain_amount'])"
   ]
  },
  {
   "cell_type": "code",
   "execution_count": 20,
   "metadata": {},
   "outputs": [
    {
     "data": {
      "text/plain": [
       "{frozenset({'weekday'}):        1692         ds   temp_max   temp_min  rain_amount\n",
       " 0      9534 2010-07-01  30.500000  24.900000          0.0\n",
       " 1      7910 2010-07-02  25.799999  22.700001         70.0\n",
       " 4      4844 2010-07-05  30.600000  21.799999          0.0\n",
       " 5      8852 2010-07-06  31.000000  22.400000          0.0\n",
       " 6      8644 2010-07-07  29.600000  21.900000          0.0\n",
       " 7      8488 2010-07-08  29.000000  21.299999          0.0\n",
       " 8      5880 2010-07-09  29.299999  21.799999          0.0\n",
       " 11     7879 2010-07-12  28.299999  22.200001          0.0\n",
       " 12     7976 2010-07-13  31.299999  21.900000          0.0\n",
       " 13     8307 2010-07-14  27.500000  22.700001          1.0\n",
       " 14     6484 2010-07-15  29.799999  24.299999          0.0\n",
       " 15     8280 2010-07-16  27.100000  21.700001         52.0\n",
       " 18     6736 2010-07-19  29.299999  24.200001          0.0\n",
       " 19     8541 2010-07-20  32.000000  26.700001          0.0\n",
       " 20    10613 2010-07-21  29.500000  26.000000          0.0\n",
       " 21     7031 2010-07-22  29.299999  24.500000          5.0\n",
       " 22     7492 2010-07-23  25.000000  23.200001          2.0\n",
       " 25     7496 2010-07-26  27.600000  23.400000          6.0\n",
       " 26     8797 2010-07-27  30.100000  19.400000          0.0\n",
       " 27     7071 2010-07-28  30.600000  24.700001          1.0\n",
       " 28     7424 2010-07-29  30.299999  25.100000          2.0\n",
       " 29     6181 2010-07-30  30.799999  25.000000          0.0\n",
       " 32     6103 2010-08-02  31.600000  24.000000          1.0\n",
       " 33     7876 2010-08-03  31.900000  26.000000          0.0\n",
       " 34     8056 2010-08-04  31.400000  26.100000         17.0\n",
       " 35     8789 2010-08-05  33.400002  27.299999          0.0\n",
       " 36     5958 2010-08-06  30.500000  24.500000         62.0\n",
       " 39     5899 2010-08-09  32.799999  26.400000          0.0\n",
       " 40     7260 2010-08-10  29.400000  24.900000         24.0\n",
       " 41     8157 2010-08-11  32.000000  24.500000          3.0\n",
       " ...     ...        ...        ...        ...          ...\n",
       " 2668  20887 2017-10-20  22.400000  11.300000          0.0\n",
       " 2671  19287 2017-10-23  17.900000   9.800000          0.0\n",
       " 2672  18853 2017-10-24  18.600000   9.700000          0.0\n",
       " 2673  19109 2017-10-25  19.000000  10.700000          0.0\n",
       " 2674  18478 2017-10-26  17.299999  12.100000          0.0\n",
       " 2675  21114 2017-10-27  22.000000  10.800000          0.0\n",
       " 2678  18466 2017-10-30  12.300000   3.300000          0.0\n",
       " 2679  15950 2017-10-31  14.700000   9.800000          0.0\n",
       " 2680  19275 2017-11-01  17.299999  13.400000          0.0\n",
       " 2681  19673 2017-11-02  18.000000  14.000000          1.6\n",
       " 2682  19659 2017-11-03  15.700000   4.500000          0.6\n",
       " 2685  16162 2017-11-06  15.900000   9.800000          0.0\n",
       " 2686  21589 2017-11-07  17.200001  12.300000          0.0\n",
       " 2687  20530 2017-11-08  17.200001   3.600000          0.0\n",
       " 2688  19755 2017-11-09  15.600000   8.100000          0.0\n",
       " 2689  17839 2017-11-10  14.700000   3.600000          7.4\n",
       " 2692  16889 2017-11-13  11.000000   6.100000          5.6\n",
       " 2693  19113 2017-11-14   9.500000   1.900000          0.0\n",
       " 2694  19611 2017-11-15   5.400000  -2.600000          0.0\n",
       " 2695  15897 2017-11-16   5.800000  -0.900000          0.0\n",
       " 2696  15926 2017-11-17   6.200000  -2.700000          0.3\n",
       " 2699  15544 2017-11-20   3.700000  -4.000000          0.2\n",
       " 2700  18914 2017-11-21   6.800000   0.400000          0.5\n",
       " 2701  18705 2017-11-22   9.500000  -0.800000          0.0\n",
       " 2702  14955 2017-11-23   4.300000  -0.600000          0.8\n",
       " 2703  18452 2017-11-24   2.900000  -2.500000          0.1\n",
       " 2706  17934 2017-11-27   8.100000   1.800000          0.0\n",
       " 2707  16298 2017-11-28   9.800000   4.200000          1.2\n",
       " 2708  17453 2017-11-29   5.700000  -3.200000          0.0\n",
       " 2709  16751 2017-11-30   1.800000  -7.100000          0.0\n",
       " \n",
       " [1936 rows x 5 columns],\n",
       " frozenset({'sat'}):        1692         ds   temp_max   temp_min  rain_amount\n",
       " 2      4176 2010-07-03  25.600000  22.600000     1.000000\n",
       " 9      3962 2010-07-10  29.100000  22.900000     0.000000\n",
       " 16     3124 2010-07-17  24.299999  22.299999    89.000000\n",
       " 23     3912 2010-07-24  29.200001  23.600000     1.000000\n",
       " 30     3337 2010-07-31  29.700001  25.700001     0.000000\n",
       " 37     5097 2010-08-07  27.900000  24.100000    23.000000\n",
       " 44     3183 2010-08-14  29.000000  24.700001    55.000000\n",
       " 51     4040 2010-08-21  32.099998  25.400000     0.000000\n",
       " 58     4757 2010-08-28  26.600000  22.600000    53.000000\n",
       " 65     4791 2010-09-04  30.799999  24.100000     0.000000\n",
       " 72     5626 2010-09-11  26.000000  21.000000    21.000000\n",
       " 79     6466 2010-09-18  30.000000  22.700001     0.000000\n",
       " 86     3216 2010-09-25  23.799999  15.400000     0.000000\n",
       " 93     2787 2010-10-02  18.500000  15.400000    25.000000\n",
       " 100    3486 2010-10-09  23.299999  14.300000     0.000000\n",
       " 107    6562 2010-10-16  21.200001  13.300000     0.000000\n",
       " 114    3414 2010-10-23  19.799999  13.600000     0.000000\n",
       " 121    3738 2010-10-30  17.500000   7.200000     0.000000\n",
       " 128    4308 2010-11-06  14.600000  10.900000     0.000000\n",
       " 135    5214 2010-11-13  16.600000   3.200000     0.000000\n",
       " 142    3813 2010-11-20  13.200000   5.800000     0.000000\n",
       " 149    4694 2010-11-27   8.700000  -5.000000     0.000000\n",
       " 156    5298 2010-12-04   6.100000  -0.900000     0.000000\n",
       " 163    5418 2010-12-11  -2.100000  -6.400000     0.000000\n",
       " 170    6016 2010-12-18   4.900000  -3.000000     0.000000\n",
       " 177     824 2010-12-25  -6.700000 -13.400000     0.000000\n",
       " 184       0 2011-01-01  -2.900000  -9.600000     0.000000\n",
       " 191    3176 2011-01-08   0.000000  -7.400000     0.000000\n",
       " 198    4842 2011-01-15 -10.200000 -17.600000     0.000000\n",
       " 205    3893 2011-01-22  -0.900000  -6.200000     0.000000\n",
       " ...     ...        ...        ...        ...          ...\n",
       " 2501   6093 2017-05-06  17.400000  10.600000     0.000000\n",
       " 2508  11189 2017-05-13  21.200001  11.100000     7.200000\n",
       " 2515   8749 2017-05-20  25.900000  16.000000     0.000000\n",
       " 2522   9330 2017-05-27  24.600000  15.100000     0.000000\n",
       " 2529  10184 2017-06-03  25.799999  15.800000     0.000000\n",
       " 2536   9068 2017-06-10  26.200001  15.200000     0.000000\n",
       " 2543  10277 2017-06-17  28.500000  18.900000     0.000000\n",
       " 2550  10166 2017-06-24  28.299999  20.700001     3.200000\n",
       " 2557   8582 2017-07-01  30.100000  23.200001    21.700000\n",
       " 2564  10399 2017-07-08  27.400000  24.900000     8.600000\n",
       " 2571   8355 2017-07-15  27.299999  22.400000    34.100000\n",
       " 2578   7599 2017-07-22  31.400000  26.400000    49.300000\n",
       " 2585   9891 2017-07-29  29.200001  24.500000     0.100000\n",
       " 2592  10389 2017-08-05  33.900002  28.299999     0.000000\n",
       " 2599   9320 2017-08-12  31.000000  24.900000     0.000000\n",
       " 2606  11190 2017-08-19  27.500000  21.299999    68.200001\n",
       " 2613   9766 2017-08-26  29.100000  19.700001     0.000000\n",
       " 2620  10669 2017-09-02  28.600000  19.200001     0.000000\n",
       " 2627  10579 2017-09-09  27.900000  20.000000     0.000000\n",
       " 2634  11416 2017-09-16  26.100000  19.200001     0.000000\n",
       " 2641  13410 2017-09-23  25.400000  18.000000     0.000000\n",
       " 2648  17034 2017-09-30  23.600000  17.500000     0.000000\n",
       " 2655   6276 2017-10-07  24.200001  19.700001     0.000000\n",
       " 2662  10896 2017-10-14  19.700001   9.000000     0.000000\n",
       " 2669   9832 2017-10-21  22.600000  10.800000     0.000000\n",
       " 2676  10206 2017-10-28  22.100000  11.100000     0.000000\n",
       " 2683   8193 2017-11-04  12.800000   3.200000     0.000000\n",
       " 2690   9391 2017-11-11   9.500000   1.200000     0.000000\n",
       " 2697   8910 2017-11-18   0.700000  -6.000000     0.000000\n",
       " 2704   8574 2017-11-25   6.400000   0.800000    15.700000\n",
       " \n",
       " [387 rows x 5 columns],\n",
       " frozenset({'sun'}):       1692         ds   temp_max   temp_min  rain_amount\n",
       " 3        0 2010-07-04  29.700001  23.100000     0.000000\n",
       " 10       0 2010-07-11  25.900000  21.000000     0.000000\n",
       " 17       0 2010-07-18  29.000000  24.700001     0.000000\n",
       " 24       0 2010-07-25  29.600000  23.000000    13.000000\n",
       " 31       0 2010-08-01  30.700001  25.500000    22.000000\n",
       " 38       0 2010-08-08  31.299999  24.299999     0.000000\n",
       " 45       0 2010-08-15  29.900000  24.799999     0.000000\n",
       " 52       0 2010-08-22  32.099998  26.299999    11.000000\n",
       " 59       0 2010-08-29  24.799999  21.700001    65.000000\n",
       " 66       0 2010-09-05  30.200001  22.700001    23.000000\n",
       " 73       0 2010-09-12  25.600000  21.000000     0.000000\n",
       " 80       0 2010-09-19  23.200001  18.299999    44.000000\n",
       " 87       0 2010-09-26  24.200001  15.000000     6.000000\n",
       " 94       0 2010-10-03  20.600000  13.000000    11.000000\n",
       " 101      0 2010-10-10  22.600000  15.700000     0.000000\n",
       " 108      0 2010-10-17  19.299999   9.100000     0.000000\n",
       " 115      0 2010-10-24  22.799999  10.000000     0.000000\n",
       " 122      0 2010-10-31  16.799999   6.800000     0.000000\n",
       " 129      0 2010-11-07  14.300000   8.800000     2.000000\n",
       " 136      0 2010-11-14   8.700000  -0.300000     0.000000\n",
       " 143      0 2010-11-21  15.100000   4.300000     5.000000\n",
       " 150      0 2010-11-28   1.800000  -3.900000     1.000000\n",
       " 157      0 2010-12-05  10.700000   5.100000     0.000000\n",
       " 164      0 2010-12-12   3.000000  -4.600000     0.000000\n",
       " 171      0 2010-12-19   8.300000   1.900000     0.000000\n",
       " 178      0 2010-12-26  -5.300000 -11.500000     0.000000\n",
       " 185      0 2011-01-02  -2.600000  -8.300000     0.000000\n",
       " 192      0 2011-01-09  -5.600000 -11.600000     0.000000\n",
       " 199      0 2011-01-16 -11.100000 -17.100000     0.000000\n",
       " 206      0 2011-01-23  -2.500000 -10.600000     3.000000\n",
       " ...    ...        ...        ...        ...          ...\n",
       " 2502     0 2017-05-07  21.500000  12.300000     0.000000\n",
       " 2509     0 2017-05-14  20.799999  11.600000     0.000000\n",
       " 2516     0 2017-05-21  26.400000  16.299999     0.000000\n",
       " 2523     0 2017-05-28  26.100000  18.299999     0.000000\n",
       " 2530     0 2017-06-04  28.200001  16.900000     0.000000\n",
       " 2537     0 2017-06-11  29.400000  17.500000     0.000000\n",
       " 2544     0 2017-06-18  30.600000  20.000000     0.000000\n",
       " 2551     0 2017-06-25  28.000000  20.100000    12.900000\n",
       " 2558     0 2017-07-02  26.100000  21.500000    81.800000\n",
       " 2565     0 2017-07-09  29.200001  23.600000    70.500000\n",
       " 2572     0 2017-07-16  29.000000  25.200001     0.000000\n",
       " 2579     0 2017-07-23  28.000000  25.200001    74.800000\n",
       " 2586     0 2017-07-30  31.400000  24.600000     1.600000\n",
       " 2593     0 2017-08-06  31.799999  26.000000     7.500000\n",
       " 2600     0 2017-08-13  27.799999  23.299999     0.400000\n",
       " 2607     0 2017-08-20  26.000000  22.600000    65.000001\n",
       " 2614     0 2017-08-27  26.500000  20.200001     0.000000\n",
       " 2621     0 2017-09-03  28.299999  19.799999     0.000000\n",
       " 2628     0 2017-09-10  25.100000  17.900000    21.800000\n",
       " 2635     0 2017-09-17  27.400000  17.500000     0.000000\n",
       " 2642    48 2017-09-24  27.100000  17.100000     0.000000\n",
       " 2649    30 2017-10-01  21.000000  14.500000     4.700000\n",
       " 2656     0 2017-10-08  26.200001  20.100000     0.000000\n",
       " 2663     0 2017-10-15  20.299999  14.100000     0.000000\n",
       " 2670     0 2017-10-22  21.500000   8.400000     0.000000\n",
       " 2677     0 2017-10-29  15.500000   3.800000     0.000000\n",
       " 2684     0 2017-11-05  14.200000   7.300000     0.000000\n",
       " 2691     0 2017-11-12  10.200000   3.700000     0.200000\n",
       " 2698     0 2017-11-19   3.100000  -3.100000     0.000000\n",
       " 2705     0 2017-11-26   6.400000  -2.400000     0.000000\n",
       " \n",
       " [387 rows x 5 columns]}"
      ]
     },
     "execution_count": 20,
     "metadata": {},
     "output_type": "execute_result"
    }
   ],
   "source": [
    "restruct.commitRestructedData()"
   ]
  },
  {
   "cell_type": "code",
   "execution_count": 21,
   "metadata": {
    "collapsed": true
   },
   "outputs": [],
   "source": [
    "series_1692= data.data[frozenset({'weekday'})][1692]\n",
    "series_1692_diff364= series_1692.diff(364).iloc[364:]"
   ]
  },
  {
   "cell_type": "code",
   "execution_count": 22,
   "metadata": {},
   "outputs": [
    {
     "data": {
      "image/png": "[encoded data removed]",
      "text/plain": [
       "<matplotlib.figure.Figure at 0x231cbeaca20>"
      ]
     },
     "metadata": {},
     "output_type": "display_data"
    }
   ],
   "source": [
    "sns.set()\n",
    "sns.distplot(series_1692, bins= 100)\n",
    "plt.show()"
   ]
  },
  {
   "cell_type": "code",
   "execution_count": 23,
   "metadata": {},
   "outputs": [
    {
     "data": {
      "image/png": "[encoded data removed]",
      "text/plain": [
       "<matplotlib.figure.Figure at 0x231cc2cc320>"
      ]
     },
     "metadata": {},
     "output_type": "display_data"
    }
   ],
   "source": [
    "sns.distplot(series_1692_diff364, bins= 70)\n",
    "plt.show()"
   ]
  },
  {
   "cell_type": "code",
   "execution_count": 24,
   "metadata": {},
   "outputs": [
    {
     "name": "stdout",
     "output_type": "stream",
     "text": [
      "case 2: 37674.872753528776\n",
      "[[ 10318.8576199 ]\n",
      " [ 14845.90153576]]\n"
     ]
    }
   ],
   "source": [
    "gm= GaussianMixture(n_components= 2)\n",
    "gm.fit(np.array(series_1692).reshape(-1, 1))\n",
    "print('case {}: {}'.format(2, gm.aic(np.array(series_1692).reshape(-1, 1))))\n",
    "print(gm.means_)"
   ]
  },
  {
   "cell_type": "code",
   "execution_count": 25,
   "metadata": {
    "collapsed": true
   },
   "outputs": [],
   "source": [
    "df_1692= data.data[frozenset({'weekday'})][['ds', 1692]].reset_index(drop= True)"
   ]
  },
  {
   "cell_type": "code",
   "execution_count": 26,
   "metadata": {
    "collapsed": true
   },
   "outputs": [],
   "source": [
    "df_1692= df_1692.join(pd.DataFrame(gm.predict_proba(np.array(series_1692).reshape(-1, 1)))[1])"
   ]
  },
  {
   "cell_type": "code",
   "execution_count": 27,
   "metadata": {},
   "outputs": [
    {
     "name": "stdout",
     "output_type": "stream",
     "text": [
      "case 2: 30087.43294491523\n",
      "[[ 2048.51172006]\n",
      " [ 1697.48815487]]\n"
     ]
    }
   ],
   "source": [
    "gm= GaussianMixture(n_components= 2)\n",
    "gm.fit(np.array(series_1692_diff364).reshape(-1, 1))\n",
    "print('case {}: {}'.format(2, gm.aic(np.array(series_1692_diff364).reshape(-1, 1))))\n",
    "print(gm.means_)"
   ]
  },
  {
   "cell_type": "code",
   "execution_count": 28,
   "metadata": {
    "collapsed": true
   },
   "outputs": [],
   "source": [
    "df_1692_diff364= data.data[frozenset({'weekday'})][['ds', 1692]].reset_index(drop= True)"
   ]
  },
  {
   "cell_type": "code",
   "execution_count": 29,
   "metadata": {
    "collapsed": true
   },
   "outputs": [],
   "source": [
    "df_1692_diff364= df_1692_diff364[364:].reset_index(drop= True).join(pd.DataFrame(gm.predict_proba(np.array(series_1692_diff364).reshape(-1, 1)))[1])"
   ]
  },
  {
   "cell_type": "code",
   "execution_count": 30,
   "metadata": {},
   "outputs": [
    {
     "data": {
      "text/html": [
       "<div>\n",
       "<style scoped>\n",
       "    .dataframe tbody tr th:only-of-type {\n",
       "        vertical-align: middle;\n",
       "    }\n",
       "\n",
       "    .dataframe tbody tr th {\n",
       "        vertical-align: top;\n",
       "    }\n",
       "\n",
       "    .dataframe thead th {\n",
       "        text-align: right;\n",
       "    }\n",
       "</style>\n",
       "<table border=\"1\" class=\"dataframe\">\n",
       "  <thead>\n",
       "    <tr style=\"text-align: right;\">\n",
       "      <th></th>\n",
       "      <th>ds</th>\n",
       "      <th>1692</th>\n",
       "      <th>1</th>\n",
       "    </tr>\n",
       "  </thead>\n",
       "  <tbody>\n",
       "    <tr>\n",
       "      <th>1813</th>\n",
       "      <td>2017-06-13</td>\n",
       "      <td>19056</td>\n",
       "      <td>0.827019</td>\n",
       "    </tr>\n",
       "    <tr>\n",
       "      <th>1814</th>\n",
       "      <td>2017-06-14</td>\n",
       "      <td>17705</td>\n",
       "      <td>0.758638</td>\n",
       "    </tr>\n",
       "    <tr>\n",
       "      <th>1816</th>\n",
       "      <td>2017-06-16</td>\n",
       "      <td>21631</td>\n",
       "      <td>0.907935</td>\n",
       "    </tr>\n",
       "    <tr>\n",
       "      <th>1817</th>\n",
       "      <td>2017-06-19</td>\n",
       "      <td>18095</td>\n",
       "      <td>0.780588</td>\n",
       "    </tr>\n",
       "    <tr>\n",
       "      <th>1820</th>\n",
       "      <td>2017-06-22</td>\n",
       "      <td>18273</td>\n",
       "      <td>0.789992</td>\n",
       "    </tr>\n",
       "    <tr>\n",
       "      <th>1821</th>\n",
       "      <td>2017-06-23</td>\n",
       "      <td>20846</td>\n",
       "      <td>0.888789</td>\n",
       "    </tr>\n",
       "    <tr>\n",
       "      <th>1823</th>\n",
       "      <td>2017-06-27</td>\n",
       "      <td>18494</td>\n",
       "      <td>0.801147</td>\n",
       "    </tr>\n",
       "    <tr>\n",
       "      <th>1825</th>\n",
       "      <td>2017-06-29</td>\n",
       "      <td>19423</td>\n",
       "      <td>0.842093</td>\n",
       "    </tr>\n",
       "    <tr>\n",
       "      <th>1826</th>\n",
       "      <td>2017-06-30</td>\n",
       "      <td>17410</td>\n",
       "      <td>0.740779</td>\n",
       "    </tr>\n",
       "    <tr>\n",
       "      <th>1828</th>\n",
       "      <td>2017-07-04</td>\n",
       "      <td>20105</td>\n",
       "      <td>0.866636</td>\n",
       "    </tr>\n",
       "    <tr>\n",
       "      <th>1829</th>\n",
       "      <td>2017-07-05</td>\n",
       "      <td>18322</td>\n",
       "      <td>0.792515</td>\n",
       "    </tr>\n",
       "    <tr>\n",
       "      <th>1830</th>\n",
       "      <td>2017-07-06</td>\n",
       "      <td>18164</td>\n",
       "      <td>0.784279</td>\n",
       "    </tr>\n",
       "    <tr>\n",
       "      <th>1831</th>\n",
       "      <td>2017-07-07</td>\n",
       "      <td>19151</td>\n",
       "      <td>0.831054</td>\n",
       "    </tr>\n",
       "    <tr>\n",
       "      <th>1833</th>\n",
       "      <td>2017-07-11</td>\n",
       "      <td>20104</td>\n",
       "      <td>0.866603</td>\n",
       "    </tr>\n",
       "    <tr>\n",
       "      <th>1835</th>\n",
       "      <td>2017-07-13</td>\n",
       "      <td>19779</td>\n",
       "      <td>0.855440</td>\n",
       "    </tr>\n",
       "    <tr>\n",
       "      <th>1837</th>\n",
       "      <td>2017-07-17</td>\n",
       "      <td>18137</td>\n",
       "      <td>0.782841</td>\n",
       "    </tr>\n",
       "    <tr>\n",
       "      <th>1838</th>\n",
       "      <td>2017-07-18</td>\n",
       "      <td>17702</td>\n",
       "      <td>0.758462</td>\n",
       "    </tr>\n",
       "    <tr>\n",
       "      <th>1839</th>\n",
       "      <td>2017-07-19</td>\n",
       "      <td>22442</td>\n",
       "      <td>0.923878</td>\n",
       "    </tr>\n",
       "    <tr>\n",
       "      <th>1840</th>\n",
       "      <td>2017-07-20</td>\n",
       "      <td>18143</td>\n",
       "      <td>0.783161</td>\n",
       "    </tr>\n",
       "    <tr>\n",
       "      <th>1841</th>\n",
       "      <td>2017-07-21</td>\n",
       "      <td>20162</td>\n",
       "      <td>0.868498</td>\n",
       "    </tr>\n",
       "    <tr>\n",
       "      <th>1843</th>\n",
       "      <td>2017-07-25</td>\n",
       "      <td>17741</td>\n",
       "      <td>0.760743</td>\n",
       "    </tr>\n",
       "    <tr>\n",
       "      <th>1844</th>\n",
       "      <td>2017-07-26</td>\n",
       "      <td>19526</td>\n",
       "      <td>0.846080</td>\n",
       "    </tr>\n",
       "    <tr>\n",
       "      <th>1845</th>\n",
       "      <td>2017-07-27</td>\n",
       "      <td>18048</td>\n",
       "      <td>0.778041</td>\n",
       "    </tr>\n",
       "    <tr>\n",
       "      <th>1848</th>\n",
       "      <td>2017-08-01</td>\n",
       "      <td>17849</td>\n",
       "      <td>0.766960</td>\n",
       "    </tr>\n",
       "    <tr>\n",
       "      <th>1850</th>\n",
       "      <td>2017-08-03</td>\n",
       "      <td>17592</td>\n",
       "      <td>0.751926</td>\n",
       "    </tr>\n",
       "    <tr>\n",
       "      <th>1851</th>\n",
       "      <td>2017-08-04</td>\n",
       "      <td>18374</td>\n",
       "      <td>0.795161</td>\n",
       "    </tr>\n",
       "    <tr>\n",
       "      <th>1853</th>\n",
       "      <td>2017-08-08</td>\n",
       "      <td>17155</td>\n",
       "      <td>0.724457</td>\n",
       "    </tr>\n",
       "    <tr>\n",
       "      <th>1854</th>\n",
       "      <td>2017-08-09</td>\n",
       "      <td>19206</td>\n",
       "      <td>0.833347</td>\n",
       "    </tr>\n",
       "    <tr>\n",
       "      <th>1855</th>\n",
       "      <td>2017-08-10</td>\n",
       "      <td>18584</td>\n",
       "      <td>0.805528</td>\n",
       "    </tr>\n",
       "    <tr>\n",
       "      <th>1856</th>\n",
       "      <td>2017-08-11</td>\n",
       "      <td>19555</td>\n",
       "      <td>0.847183</td>\n",
       "    </tr>\n",
       "  </tbody>\n",
       "</table>\n",
       "</div>"
      ],
      "text/plain": [
       "             ds   1692         1\n",
       "1813 2017-06-13  19056  0.827019\n",
       "1814 2017-06-14  17705  0.758638\n",
       "1816 2017-06-16  21631  0.907935\n",
       "1817 2017-06-19  18095  0.780588\n",
       "1820 2017-06-22  18273  0.789992\n",
       "1821 2017-06-23  20846  0.888789\n",
       "1823 2017-06-27  18494  0.801147\n",
       "1825 2017-06-29  19423  0.842093\n",
       "1826 2017-06-30  17410  0.740779\n",
       "1828 2017-07-04  20105  0.866636\n",
       "1829 2017-07-05  18322  0.792515\n",
       "1830 2017-07-06  18164  0.784279\n",
       "1831 2017-07-07  19151  0.831054\n",
       "1833 2017-07-11  20104  0.866603\n",
       "1835 2017-07-13  19779  0.855440\n",
       "1837 2017-07-17  18137  0.782841\n",
       "1838 2017-07-18  17702  0.758462\n",
       "1839 2017-07-19  22442  0.923878\n",
       "1840 2017-07-20  18143  0.783161\n",
       "1841 2017-07-21  20162  0.868498\n",
       "1843 2017-07-25  17741  0.760743\n",
       "1844 2017-07-26  19526  0.846080\n",
       "1845 2017-07-27  18048  0.778041\n",
       "1848 2017-08-01  17849  0.766960\n",
       "1850 2017-08-03  17592  0.751926\n",
       "1851 2017-08-04  18374  0.795161\n",
       "1853 2017-08-08  17155  0.724457\n",
       "1854 2017-08-09  19206  0.833347\n",
       "1855 2017-08-10  18584  0.805528\n",
       "1856 2017-08-11  19555  0.847183"
      ]
     },
     "execution_count": 30,
     "metadata": {},
     "output_type": "execute_result"
    }
   ],
   "source": [
    "df_1692[df_1692[1] > 0.7][-90:-60]"
   ]
  },
  {
   "cell_type": "code",
   "execution_count": 31,
   "metadata": {},
   "outputs": [
    {
     "data": {
      "image/png": "[encoded data removed]",
      "text/plain": [
       "<matplotlib.figure.Figure at 0x231cbfef588>"
      ]
     },
     "metadata": {},
     "output_type": "display_data"
    }
   ],
   "source": [
    "data.data[frozenset({'weekday'})][1692].plot()\n",
    "data.data[frozenset({'sat'})][1692].plot()\n",
    "plt.show()"
   ]
  },
  {
   "cell_type": "code",
   "execution_count": null,
   "metadata": {
    "collapsed": true
   },
   "outputs": [],
   "source": []
  }
 ],
 "metadata": {
  "kernelspec": {
   "display_name": "Python 3",
   "language": "python",
   "name": "python3"
  },
  "language_info": {
   "codemirror_mode": {
    "name": "ipython",
    "version": 3
   },
   "file_extension": ".py",
   "mimetype": "text/x-python",
   "name": "python",
   "nbconvert_exporter": "python",
   "pygments_lexer": "ipython3",
   "version": "3.6.4"
  }
 },
 "nbformat": 4,
 "nbformat_minor": 2
}
