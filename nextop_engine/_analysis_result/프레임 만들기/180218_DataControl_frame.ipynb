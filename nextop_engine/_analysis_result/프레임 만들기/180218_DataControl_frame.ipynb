{
 "cells": [
  {
   "cell_type": "markdown",
   "metadata": {},
   "source": [
    "## 리팩토링한 코드를 바탕으로 데이터를 전처리하고 prophet 라이브러리를 활용하는 프레임입니다."
   ]
  },
  {
   "cell_type": "markdown",
   "metadata": {},
   "source": [
    "#### 1. 모듈과 데이터를 불러오고 전처리합니다."
   ]
  },
  {
   "cell_type": "code",
   "execution_count": 1,
   "metadata": {},
   "outputs": [
    {
     "name": "stdout",
     "output_type": "stream",
     "text": [
      "C:\\Nextop\\nextop-engine\\nextop_engine\n"
     ]
    }
   ],
   "source": [
    "import os, sys\n",
    "path_name= os.path.dirname(os.path.abspath(os.path.dirname(os.getcwd())))\n",
    "sys.path.append(path_name)\n",
    "print(path_name)"
   ]
  },
  {
   "cell_type": "code",
   "execution_count": 2,
   "metadata": {},
   "outputs": [
    {
     "name": "stderr",
     "output_type": "stream",
     "text": [
      "C:\\ProgramData\\Anaconda3\\lib\\site-packages\\statsmodels\\compat\\pandas.py:56: FutureWarning: The pandas.core.datetools module is deprecated and will be removed in a future version. Please use the pandas.tseries module instead.\n",
      "  from pandas.core import datetools\n"
     ]
    }
   ],
   "source": [
    "from _element import feature_control as ft_c\n",
    "from _element.data_control import Data, DataRestruction, DataAddition\n",
    "from _element import varr\n",
    "from _element import calculations as calc\n",
    "from _element.result_control import Result\n",
    "\n",
    "from _alg.prophet import Prophet_timeseries\n",
    "from _alg.arima import Arima_timeseries\n",
    "\n",
    "from _evaluation.cross_validation import Cross_Validation\n",
    "from _evaluation import compare"
   ]
  },
  {
   "cell_type": "code",
   "execution_count": 3,
   "metadata": {
    "collapsed": true
   },
   "outputs": [],
   "source": [
    "import numpy as np\n",
    "import pandas as pd\n",
    "import seaborn as sns\n",
    "import matplotlib.pyplot as plt\n",
    "from sklearn.mixture import GaussianMixture"
   ]
  },
  {
   "cell_type": "code",
   "execution_count": 4,
   "metadata": {
    "collapsed": true
   },
   "outputs": [],
   "source": [
    "INPUT_FILENAME= 'KPP일별투입(10_17)_withallobj.xlsx'\n",
    "df_raw= ft_c.xlsx_opener(path_name+varr.DF_DIR, INPUT_FILENAME)"
   ]
  },
  {
   "cell_type": "code",
   "execution_count": 5,
   "metadata": {
    "collapsed": true
   },
   "outputs": [
    {
     "name": "stdout",
     "output_type": "stream",
     "text": [
      "          ds  1025  1041  1057  1091  1111  1117  1119  1127  1163  ...    \\\n",
      "0 2010-01-01     0     0     0     0     0     0     0     0     0  ...     \n",
      "1 2010-01-02   192  6260     0     0     0     0     0     0     0  ...     \n",
      "2 2010-01-03     0     0     0     0     0     0     0     0     0  ...     \n",
      "3 2010-01-04     0  5141     0   320     0     0     0     0     0  ...     \n",
      "4 2010-01-05   130  5494     0  1186     0     0     0     0     0  ...     \n",
      "\n",
      "   1754  1797  1800   1815  1817  1852  1853  1878  1891  y_sum  \n",
      "0     0     0     0   2652     0     0     0     0     0   2662  \n",
      "1   337     0     0  26443     0     0   459   626     0  39352  \n",
      "2     0     0     0    404     0     0     0     0     0    404  \n",
      "3   154   576     0  22924     0     0  3445  3305     0  44906  \n",
      "4   367   294     0  39081   320     0  3861  4362   238  69481  \n",
      "\n",
      "[5 rows x 36 columns]\n",
      "<class 'pandas.core.frame.DataFrame'>\n",
      "Int64Index: 2891 entries, 0 to 2890\n",
      "Data columns (total 36 columns):\n",
      "ds       2891 non-null datetime64[ns]\n",
      "1025     2891 non-null int64\n",
      "1041     2891 non-null int64\n",
      "1057     2891 non-null int64\n",
      "1091     2891 non-null int64\n",
      "1111     2891 non-null int64\n",
      "1117     2891 non-null int64\n",
      "1119     2891 non-null int64\n",
      "1127     2891 non-null int64\n",
      "1163     2891 non-null int64\n",
      "1216     2891 non-null int64\n",
      "1242     2891 non-null int64\n",
      "1261     2891 non-null int64\n",
      "1298     2891 non-null int64\n",
      "1355     2891 non-null int64\n",
      "1373     2891 non-null int64\n",
      "1375     2891 non-null int64\n",
      "1376     2891 non-null int64\n",
      "1390     2891 non-null int64\n",
      "1396     2891 non-null int64\n",
      "1627     2891 non-null int64\n",
      "1652     2891 non-null int64\n",
      "1656     2891 non-null int64\n",
      "1692     2891 non-null int64\n",
      "1729     2891 non-null int64\n",
      "1745     2891 non-null int64\n",
      "1754     2891 non-null int64\n",
      "1797     2891 non-null int64\n",
      "1800     2891 non-null int64\n",
      "1815     2891 non-null int64\n",
      "1817     2891 non-null int64\n",
      "1852     2891 non-null int64\n",
      "1853     2891 non-null int64\n",
      "1878     2891 non-null int64\n",
      "1891     2891 non-null int64\n",
      "y_sum    2891 non-null int64\n",
      "dtypes: datetime64[ns](1), int64(35)\n",
      "memory usage: 835.7 KB\n",
      "None\n"
     ]
    }
   ],
   "source": [
    "data= Data()\n",
    "data.setRawData(df_raw)"
   ]
  },
  {
   "cell_type": "markdown",
   "metadata": {},
   "source": [
    "* 1041 유형만을 가져옵니다."
   ]
  },
  {
   "cell_type": "code",
   "execution_count": 6,
   "metadata": {
    "collapsed": true
   },
   "outputs": [],
   "source": [
    "restruct= DataRestruction(data)"
   ]
  },
  {
   "cell_type": "code",
   "execution_count": 7,
   "metadata": {
    "collapsed": true,
    "scrolled": false
   },
   "outputs": [],
   "source": [
    "restruct.selectSpecificY([1041])"
   ]
  },
  {
   "cell_type": "code",
   "execution_count": 8,
   "metadata": {},
   "outputs": [
    {
     "name": "stdout",
     "output_type": "stream",
     "text": [
      "   1041         ds\n",
      "0     0 2010-01-01\n",
      "1  6260 2010-01-02\n",
      "2     0 2010-01-03\n",
      "3  5141 2010-01-04\n",
      "4  5494 2010-01-05\n",
      "<class 'pandas.core.frame.DataFrame'>\n",
      "Int64Index: 2891 entries, 0 to 2890\n",
      "Data columns (total 2 columns):\n",
      "1041    2891 non-null int64\n",
      "ds      2891 non-null datetime64[ns]\n",
      "dtypes: datetime64[ns](1), int64(1)\n",
      "memory usage: 67.8 KB\n",
      "None\n"
     ]
    }
   ],
   "source": [
    "df_commit= restruct.commitRestructedData()"
   ]
  },
  {
   "cell_type": "markdown",
   "metadata": {},
   "source": [
    "* 기상 데이터를 추가합니다."
   ]
  },
  {
   "cell_type": "code",
   "execution_count": 10,
   "metadata": {
    "collapsed": true
   },
   "outputs": [],
   "source": [
    "df_temp= ft_c.xlsx_opener(path_name+varr.TEMP_DATA_DIR, 'temp_data_merged.xlsx')"
   ]
  },
  {
   "cell_type": "code",
   "execution_count": 11,
   "metadata": {
    "collapsed": true
   },
   "outputs": [],
   "source": [
    "addition= DataAddition(data)"
   ]
  },
  {
   "cell_type": "code",
   "execution_count": 12,
   "metadata": {},
   "outputs": [
    {
     "name": "stdout",
     "output_type": "stream",
     "text": [
      "   1041         ds   temp_max   temp_min  rain_amount\n",
      "0  5698 2010-07-01  30.500000  24.900000          0.0\n",
      "1  2740 2010-07-02  25.799999  22.700001         70.0\n",
      "2  2742 2010-07-03  25.600000  22.600000          1.0\n",
      "3     0 2010-07-04  29.700001  23.100000          0.0\n",
      "4  3451 2010-07-05  30.600000  21.799999          0.0\n",
      "<class 'pandas.core.frame.DataFrame'>\n",
      "Int64Index: 2710 entries, 0 to 2709\n",
      "Data columns (total 5 columns):\n",
      "1041           2710 non-null int64\n",
      "ds             2710 non-null datetime64[ns]\n",
      "temp_max       2710 non-null float64\n",
      "temp_min       2710 non-null float64\n",
      "rain_amount    2710 non-null float64\n",
      "dtypes: datetime64[ns](1), float64(3), int64(1)\n",
      "memory usage: 127.0 KB\n",
      "None\n"
     ]
    }
   ],
   "source": [
    "addition.addXData(df_temp)\n",
    "df_commit= addition.commitAddedData()"
   ]
  },
  {
   "cell_type": "code",
   "execution_count": 13,
   "metadata": {
    "scrolled": false
   },
   "outputs": [
    {
     "name": "stdout",
     "output_type": "stream",
     "text": [
      "   1041         ds   temp_max   temp_min  rain_amount\n",
      "0  5698 2010-07-01  30.500000  24.900000          0.0\n",
      "1  2740 2010-07-02  25.799999  22.700001         70.0\n",
      "2  2742 2010-07-03  25.600000  22.600000          1.0\n",
      "3     0 2010-07-04  29.700001  23.100000          0.0\n",
      "4  3451 2010-07-05  30.600000  21.799999          0.0\n",
      "<class 'pandas.core.frame.DataFrame'>\n",
      "Int64Index: 2710 entries, 0 to 2709\n",
      "Data columns (total 5 columns):\n",
      "1041           2710 non-null int64\n",
      "ds             2710 non-null datetime64[ns]\n",
      "temp_max       2710 non-null float64\n",
      "temp_min       2710 non-null float64\n",
      "rain_amount    2710 non-null float64\n",
      "dtypes: datetime64[ns](1), float64(3), int64(1)\n",
      "memory usage: 127.0 KB\n",
      "None\n"
     ]
    }
   ],
   "source": [
    "data.showData()"
   ]
  },
  {
   "cell_type": "markdown",
   "metadata": {},
   "source": [
    "* 월~토 데이터와 일요일 데이터를 분리합니다."
   ]
  },
  {
   "cell_type": "code",
   "execution_count": 14,
   "metadata": {
    "collapsed": true
   },
   "outputs": [],
   "source": [
    "restruct= DataRestruction(data)"
   ]
  },
  {
   "cell_type": "code",
   "execution_count": 15,
   "metadata": {
    "collapsed": true
   },
   "outputs": [],
   "source": [
    "restruct.addRegion(7, 'weekdayRegion', start_num= 3)"
   ]
  },
  {
   "cell_type": "code",
   "execution_count": 16,
   "metadata": {
    "collapsed": true
   },
   "outputs": [],
   "source": [
    "condition_only_sun= {\n",
    "    'weekday': (0,1,2,3,4,5,),\n",
    "    'sun': (6, )\n",
    "}\n",
    "restruct.dividebyTupleCondition(\n",
    "                                'weekdayRegion',\n",
    "                                condition_only_sun\n",
    "                                )"
   ]
  },
  {
   "cell_type": "code",
   "execution_count": 17,
   "metadata": {
    "collapsed": true
   },
   "outputs": [],
   "source": [
    "restruct.deleteRegion('weekdayRegion')"
   ]
  },
  {
   "cell_type": "code",
   "execution_count": 18,
   "metadata": {
    "collapsed": true
   },
   "outputs": [],
   "source": [
    "# restruct.slicebyTrainTestStructure(1041, ['ds', 'temp_max', 'temp_min', 'rain_amount'])"
   ]
  },
  {
   "cell_type": "code",
   "execution_count": 19,
   "metadata": {},
   "outputs": [
    {
     "name": "stdout",
     "output_type": "stream",
     "text": [
      "   1041         ds   temp_max   temp_min  rain_amount\n",
      "0  5698 2010-07-01  30.500000  24.900000          0.0\n",
      "1  2740 2010-07-02  25.799999  22.700001         70.0\n",
      "2  2742 2010-07-03  25.600000  22.600000          1.0\n",
      "4  3451 2010-07-05  30.600000  21.799999          0.0\n",
      "5  6011 2010-07-06  31.000000  22.400000          0.0\n",
      "<class 'pandas.core.frame.DataFrame'>\n",
      "Int64Index: 2323 entries, 0 to 2709\n",
      "Data columns (total 5 columns):\n",
      "1041           2323 non-null int64\n",
      "ds             2323 non-null datetime64[ns]\n",
      "temp_max       2323 non-null float64\n",
      "temp_min       2323 non-null float64\n",
      "rain_amount    2323 non-null float64\n",
      "dtypes: datetime64[ns](1), float64(3), int64(1)\n",
      "memory usage: 108.9 KB\n",
      "None\n",
      "    1041         ds   temp_max   temp_min  rain_amount\n",
      "3      0 2010-07-04  29.700001  23.100000          0.0\n",
      "10     0 2010-07-11  25.900000  21.000000          0.0\n",
      "17     0 2010-07-18  29.000000  24.700001          0.0\n",
      "24     0 2010-07-25  29.600000  23.000000         13.0\n",
      "31     0 2010-08-01  30.700001  25.500000         22.0\n",
      "<class 'pandas.core.frame.DataFrame'>\n",
      "Int64Index: 387 entries, 3 to 2705\n",
      "Data columns (total 5 columns):\n",
      "1041           387 non-null int64\n",
      "ds             387 non-null datetime64[ns]\n",
      "temp_max       387 non-null float64\n",
      "temp_min       387 non-null float64\n",
      "rain_amount    387 non-null float64\n",
      "dtypes: datetime64[ns](1), float64(3), int64(1)\n",
      "memory usage: 18.1 KB\n",
      "None\n"
     ]
    }
   ],
   "source": [
    "restruct.commitRestructedData()"
   ]
  },
  {
   "cell_type": "markdown",
   "metadata": {},
   "source": [
    "* Train, Test 데이터를 만듭니다."
   ]
  },
  {
   "cell_type": "code",
   "execution_count": 20,
   "metadata": {
    "collapsed": true
   },
   "outputs": [],
   "source": [
    "data.slicebyTrainTestStructure(y= 1041)"
   ]
  },
  {
   "cell_type": "markdown",
   "metadata": {},
   "source": [
    "#### 2. prophet 라이브러리를 통해 물동량을 예측합니다."
   ]
  },
  {
   "cell_type": "code",
   "execution_count": 21,
   "metadata": {
    "collapsed": true
   },
   "outputs": [],
   "source": [
    "doprophet= Prophet_timeseries(dataclass= data)"
   ]
  },
  {
   "cell_type": "code",
   "execution_count": 22,
   "metadata": {
    "collapsed": true
   },
   "outputs": [],
   "source": [
    "doprophet.addModel('weekday,object', 'day', regressor= 'rain_amount')"
   ]
  },
  {
   "cell_type": "code",
   "execution_count": 23,
   "metadata": {
    "collapsed": true
   },
   "outputs": [],
   "source": [
    "doprophet.fit('weekday,object')"
   ]
  },
  {
   "cell_type": "code",
   "execution_count": 24,
   "metadata": {
    "collapsed": true
   },
   "outputs": [],
   "source": [
    "r= Result()"
   ]
  },
  {
   "cell_type": "code",
   "execution_count": 25,
   "metadata": {},
   "outputs": [
    {
     "name": "stderr",
     "output_type": "stream",
     "text": [
      "C:\\Nextop\\nextop-engine\\nextop_engine\\_element\\feature_control.py:86: SettingWithCopyWarning: \n",
      "A value is trying to be set on a copy of a slice from a DataFrame.\n",
      "Try using .loc[row_indexer,col_indexer] = value instead\n",
      "\n",
      "See the caveats in the documentation: http://pandas.pydata.org/pandas-docs/stable/indexing.html#indexing-view-versus-copy\n",
      "  df['ds'], box=True, format= '%Y/%m/%d', exact=True\n"
     ]
    }
   ],
   "source": [
    "doprophet.forecast('weekday,object', r.forecast_dict)"
   ]
  },
  {
   "cell_type": "code",
   "execution_count": 30,
   "metadata": {},
   "outputs": [
    {
     "data": {
      "text/plain": [
       "OrderedDict([(frozenset({'weekday,object'}),\n",
       "              {'MAPE': inf,\n",
       "               'MAPE_div_std': 97.786720816442042,\n",
       "               'MAPE_with_std': 34.168459480560792,\n",
       "               'RMSE': 1148.1701949094002,\n",
       "               'forecast':       y         ds  temp_max  temp_min  rain_amount         yhat\n",
       "               0  8733 2017-11-24       2.9      -2.5          0.1  6336.095657\n",
       "               1  5100 2017-11-25       6.4       0.8         15.7  4818.736617\n",
       "               0     0 2017-11-26       6.4      -2.4          0.0     8.595435\n",
       "               2  4866 2017-11-27       8.1       1.8          0.0  4852.865691\n",
       "               3  5723 2017-11-28       9.8       4.2          1.2  5324.013891\n",
       "               4  6732 2017-11-29       5.7      -3.2          0.0  5621.200118\n",
       "               5  6909 2017-11-30       1.8      -7.1          0.0  5491.082030,\n",
       "               'sMAPE': 15.961297283474392})])"
      ]
     },
     "execution_count": 30,
     "metadata": {},
     "output_type": "execute_result"
    }
   ],
   "source": [
    "r.forecast_dict"
   ]
  },
  {
   "cell_type": "code",
   "execution_count": 27,
   "metadata": {
    "collapsed": true
   },
   "outputs": [],
   "source": [
    "r.mergeResult(by='concat', m_name='weekday,object')"
   ]
  },
  {
   "cell_type": "code",
   "execution_count": 28,
   "metadata": {},
   "outputs": [
    {
     "name": "stderr",
     "output_type": "stream",
     "text": [
      "C:\\Nextop\\nextop-engine\\nextop_engine\\_element\\calculations.py:13: RuntimeWarning: divide by zero encountered in true_divide\n",
      "  return np.mean(np.abs((y_true - y_pred) / y_true)) * 100\n"
     ]
    }
   ],
   "source": [
    "r.calcErrRate()"
   ]
  },
  {
   "cell_type": "code",
   "execution_count": 29,
   "metadata": {},
   "outputs": [
    {
     "name": "stdout",
     "output_type": "stream",
     "text": [
      "RMSE with segment None: 1148.1702\n",
      "MAPE with segment None: inf\n",
      "MAPE_with_std with segment None: 34.1685\n",
      "MAPE_div_std with segment None: 97.7867\n",
      "sMAPE with segment None: 15.9613\n",
      "\n",
      "\n"
     ]
    }
   ],
   "source": [
    "r.printErrRate()"
   ]
  },
  {
   "cell_type": "code",
   "execution_count": null,
   "metadata": {
    "collapsed": true
   },
   "outputs": [],
   "source": []
  },
  {
   "cell_type": "code",
   "execution_count": null,
   "metadata": {
    "collapsed": true
   },
   "outputs": [],
   "source": []
  }
 ],
 "metadata": {
  "kernelspec": {
   "display_name": "Python 3",
   "language": "python",
   "name": "python3"
  },
  "language_info": {
   "codemirror_mode": {
    "name": "ipython",
    "version": 3
   },
   "file_extension": ".py",
   "mimetype": "text/x-python",
   "name": "python",
   "nbconvert_exporter": "python",
   "pygments_lexer": "ipython3",
   "version": "3.6.4"
  }
 },
 "nbformat": 4,
 "nbformat_minor": 2
}
