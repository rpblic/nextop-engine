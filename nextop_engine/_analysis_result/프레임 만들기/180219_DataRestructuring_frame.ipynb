{
 "cells": [
  {
   "cell_type": "markdown",
   "metadata": {},
   "source": [
    "## 리팩토링한 코드로 작성한 데이터를 전처리하는 프레임입니다."
   ]
  },
  {
   "cell_type": "markdown",
   "metadata": {},
   "source": [
    "#### 1. 모듈과 데이터를 불러옵니다. 불러온 데이터는 10~14년도 데이터입니다."
   ]
  },
  {
   "cell_type": "code",
   "execution_count": 1,
   "metadata": {},
   "outputs": [
    {
     "name": "stdout",
     "output_type": "stream",
     "text": [
      "C:\\Nextop\\nextop-engine\\nextop_engine\n"
     ]
    }
   ],
   "source": [
    "import os, sys\n",
    "path_name= os.path.dirname(os.path.abspath(os.path.dirname(os.getcwd())))\n",
    "sys.path.append(path_name)\n",
    "print(path_name)"
   ]
  },
  {
   "cell_type": "code",
   "execution_count": 2,
   "metadata": {},
   "outputs": [
    {
     "name": "stderr",
     "output_type": "stream",
     "text": [
      "C:\\ProgramData\\Anaconda3\\lib\\site-packages\\statsmodels\\compat\\pandas.py:56: FutureWarning: The pandas.core.datetools module is deprecated and will be removed in a future version. Please use the pandas.tseries module instead.\n",
      "  from pandas.core import datetools\n"
     ]
    }
   ],
   "source": [
    "from _element import feature_control as ft_c\n",
    "from _element.data_control import Data, DataRestruction, DataAddition\n",
    "from _element import varr\n",
    "from _element import calculations as calc\n",
    "from _element.result_control import Result\n",
    "\n",
    "from _alg.prophet import Prophet_timeseries\n",
    "from _alg.arima import Arima_timeseries\n",
    "\n",
    "from _evaluation.cross_validation import Cross_Validation"
   ]
  },
  {
   "cell_type": "code",
   "execution_count": 3,
   "metadata": {
    "collapsed": true
   },
   "outputs": [],
   "source": [
    "import numpy as np\n",
    "import pandas as pd\n",
    "import seaborn as sns\n",
    "import matplotlib.pyplot as plt\n",
    "from sklearn.mixture import GaussianMixture"
   ]
  },
  {
   "cell_type": "code",
   "execution_count": 4,
   "metadata": {
    "collapsed": true
   },
   "outputs": [],
   "source": [
    "INPUT_FILENAME= 'KPP_계약처_입고출고(2010-2014).xlsx'\n",
    "df_raw= ft_c.xlsx_opener(INPUT_FILENAME)"
   ]
  },
  {
   "cell_type": "code",
   "execution_count": 5,
   "metadata": {},
   "outputs": [
    {
     "data": {
      "text/html": [
       "<div>\n",
       "<style>\n",
       "    .dataframe thead tr:only-child th {\n",
       "        text-align: right;\n",
       "    }\n",
       "\n",
       "    .dataframe thead th {\n",
       "        text-align: left;\n",
       "    }\n",
       "\n",
       "    .dataframe tbody tr th {\n",
       "        vertical-align: top;\n",
       "    }\n",
       "</style>\n",
       "<table border=\"1\" class=\"dataframe\">\n",
       "  <thead>\n",
       "    <tr style=\"text-align: right;\">\n",
       "      <th></th>\n",
       "      <th>타입</th>\n",
       "      <th>코드</th>\n",
       "      <th>발송일</th>\n",
       "      <th>유형코드</th>\n",
       "      <th>수량</th>\n",
       "    </tr>\n",
       "  </thead>\n",
       "  <tbody>\n",
       "    <tr>\n",
       "      <th>0</th>\n",
       "      <td>입고</td>\n",
       "      <td>298137</td>\n",
       "      <td>20100101</td>\n",
       "      <td>1815.0</td>\n",
       "      <td>47</td>\n",
       "    </tr>\n",
       "    <tr>\n",
       "      <th>1</th>\n",
       "      <td>입고</td>\n",
       "      <td>298115</td>\n",
       "      <td>20100101</td>\n",
       "      <td>1815.0</td>\n",
       "      <td>77</td>\n",
       "    </tr>\n",
       "    <tr>\n",
       "      <th>2</th>\n",
       "      <td>입고</td>\n",
       "      <td>298108</td>\n",
       "      <td>20100101</td>\n",
       "      <td>1815.0</td>\n",
       "      <td>4</td>\n",
       "    </tr>\n",
       "    <tr>\n",
       "      <th>3</th>\n",
       "      <td>입고</td>\n",
       "      <td>298053</td>\n",
       "      <td>20100101</td>\n",
       "      <td>1815.0</td>\n",
       "      <td>56</td>\n",
       "    </tr>\n",
       "    <tr>\n",
       "      <th>4</th>\n",
       "      <td>입고</td>\n",
       "      <td>297994</td>\n",
       "      <td>20100101</td>\n",
       "      <td>1815.0</td>\n",
       "      <td>51</td>\n",
       "    </tr>\n",
       "  </tbody>\n",
       "</table>\n",
       "</div>"
      ],
      "text/plain": [
       "   타입      코드       발송일    유형코드  수량\n",
       "0  입고  298137  20100101  1815.0  47\n",
       "1  입고  298115  20100101  1815.0  77\n",
       "2  입고  298108  20100101  1815.0   4\n",
       "3  입고  298053  20100101  1815.0  56\n",
       "4  입고  297994  20100101  1815.0  51"
      ]
     },
     "execution_count": 5,
     "metadata": {},
     "output_type": "execute_result"
    }
   ],
   "source": [
    "df_raw.head()"
   ]
  },
  {
   "cell_type": "markdown",
   "metadata": {},
   "source": [
    "#### 2. 입고 데이터와 출하 데이터를 구분합니다."
   ]
  },
  {
   "cell_type": "code",
   "execution_count": 6,
   "metadata": {
    "collapsed": true
   },
   "outputs": [],
   "source": [
    "df_in= df_raw[df_raw['타입']== '입고']"
   ]
  },
  {
   "cell_type": "code",
   "execution_count": 7,
   "metadata": {
    "collapsed": true
   },
   "outputs": [],
   "source": [
    "df_out= df_raw[df_raw['타입']== '출하']"
   ]
  },
  {
   "cell_type": "code",
   "execution_count": 8,
   "metadata": {
    "collapsed": true
   },
   "outputs": [],
   "source": [
    "data_out= Data()"
   ]
  },
  {
   "cell_type": "code",
   "execution_count": 9,
   "metadata": {},
   "outputs": [
    {
     "name": "stdout",
     "output_type": "stream",
     "text": [
      "     타입      코드       발송일    유형코드   수량\n",
      "928  출하  298152  20100101  1815.0    3\n",
      "929  출하  298152  20100101  1692.0    7\n",
      "930  출하  298141  20100101  1815.0   27\n",
      "931  출하  298122  20100101  1692.0    3\n",
      "932  출하  298115  20100101  1815.0  768\n",
      "<class 'pandas.core.frame.DataFrame'>\n",
      "Int64Index: 3922661 entries, 928 to 327922\n",
      "Data columns (total 5 columns):\n",
      "타입      object\n",
      "코드      int64\n",
      "발송일     int64\n",
      "유형코드    float64\n",
      "수량      int64\n",
      "dtypes: float64(1), int64(3), object(1)\n",
      "memory usage: 179.6+ MB\n",
      "None\n"
     ]
    }
   ],
   "source": [
    "data_out.setRawData(df_out)"
   ]
  },
  {
   "cell_type": "markdown",
   "metadata": {},
   "source": [
    "#### 3. 출하 데이터를 일자/유형별로 정리합니다."
   ]
  },
  {
   "cell_type": "code",
   "execution_count": 10,
   "metadata": {
    "collapsed": true
   },
   "outputs": [],
   "source": [
    "restruct= DataRestruction(data_out)"
   ]
  },
  {
   "cell_type": "code",
   "execution_count": 11,
   "metadata": {
    "collapsed": true
   },
   "outputs": [],
   "source": [
    "restruct.groupbyObject(idx_col= '발송일', ft_col= '유형코드', val_col= '수량', y_sum= True, idx_to_datetime= True)"
   ]
  },
  {
   "cell_type": "code",
   "execution_count": 12,
   "metadata": {
    "collapsed": true
   },
   "outputs": [],
   "source": [
    "restruct.data[frozenset({'raw'})].columns= restruct.data[frozenset({'raw'})].columns.map(lambda x: int(x) if type(x)==float else x)"
   ]
  },
  {
   "cell_type": "code",
   "execution_count": 13,
   "metadata": {},
   "outputs": [
    {
     "name": "stdout",
     "output_type": "stream",
     "text": [
      "          ds  1025  1032    1041  1057   1091  1101  1111  1117  1127  \\\n",
      "0 2010-01-01   0.0   0.0  1299.0   0.0   92.0   0.0   0.0   0.0   0.0   \n",
      "1 2010-01-02  10.0   0.0   455.0   0.0   80.0   0.0   0.0   0.0   0.0   \n",
      "2 2010-01-03   0.0   0.0   132.0   0.0    4.0   0.0   0.0   0.0   0.0   \n",
      "3 2010-01-04   1.0   0.0  1952.0   0.0  356.0   0.0   0.0   0.0   0.0   \n",
      "4 2010-01-05   0.0   0.0  2077.0   0.0  367.0   0.0   0.0   0.0   2.0   \n",
      "\n",
      "     ...     1797  1800      1815  1817  1818  1852    1853    1878  1891  \\\n",
      "0    ...     96.0   0.0  647711.0   0.0   0.0   0.0   380.0  2042.0  40.0   \n",
      "1    ...      5.0   0.0   38071.0  10.0   0.0   0.0   496.0  3794.0   0.0   \n",
      "2    ...      0.0   0.0    6840.0   0.0   0.0   0.0   100.0    27.0   0.0   \n",
      "3    ...     37.0   0.0   42383.0  34.0   0.0   0.0  4317.0  8221.0   0.0   \n",
      "4    ...      7.0   0.0   58017.0  27.0   0.0   0.0  4321.0  6588.0   6.0   \n",
      "\n",
      "      y_sum  \n",
      "0  667170.0  \n",
      "1   51089.0  \n",
      "2    8901.0  \n",
      "3   74659.0  \n",
      "4   90428.0  \n",
      "\n",
      "[5 rows x 39 columns]\n",
      "<class 'pandas.core.frame.DataFrame'>\n",
      "RangeIndex: 1826 entries, 0 to 1825\n",
      "Data columns (total 39 columns):\n",
      "ds       1826 non-null datetime64[ns]\n",
      "1025     1826 non-null float64\n",
      "1032     1826 non-null float64\n",
      "1041     1826 non-null float64\n",
      "1057     1826 non-null float64\n",
      "1091     1826 non-null float64\n",
      "1101     1826 non-null float64\n",
      "1111     1826 non-null float64\n",
      "1117     1826 non-null float64\n",
      "1127     1826 non-null float64\n",
      "1163     1826 non-null float64\n",
      "1216     1826 non-null float64\n",
      "1242     1826 non-null float64\n",
      "1261     1826 non-null float64\n",
      "1324     1826 non-null float64\n",
      "1355     1826 non-null float64\n",
      "1373     1826 non-null float64\n",
      "1375     1826 non-null float64\n",
      "1376     1826 non-null float64\n",
      "1396     1826 non-null float64\n",
      "1466     1826 non-null float64\n",
      "1584     1826 non-null float64\n",
      "1627     1826 non-null float64\n",
      "1652     1826 non-null float64\n",
      "1656     1826 non-null float64\n",
      "1692     1826 non-null float64\n",
      "1729     1826 non-null float64\n",
      "1745     1826 non-null float64\n",
      "1754     1826 non-null float64\n",
      "1797     1826 non-null float64\n",
      "1800     1826 non-null float64\n",
      "1815     1826 non-null float64\n",
      "1817     1826 non-null float64\n",
      "1818     1826 non-null float64\n",
      "1852     1826 non-null float64\n",
      "1853     1826 non-null float64\n",
      "1878     1826 non-null float64\n",
      "1891     1826 non-null float64\n",
      "y_sum    1826 non-null float64\n",
      "dtypes: datetime64[ns](1), float64(38)\n",
      "memory usage: 556.4 KB\n",
      "None\n"
     ]
    }
   ],
   "source": [
    "restruct.commitRestructedData()"
   ]
  },
  {
   "cell_type": "code",
   "execution_count": 14,
   "metadata": {
    "collapsed": true
   },
   "outputs": [],
   "source": [
    "df_raw.to_pickle('C:\\\\Nextop\\\\nextop-engine\\\\nextop_engine\\\\_element\\\\data\\\\private_IO\\\\KPP_계약처_입고출고(2010-2014).pickle')"
   ]
  },
  {
   "cell_type": "code",
   "execution_count": 15,
   "metadata": {
    "collapsed": true
   },
   "outputs": [],
   "source": [
    "data_out.data[frozenset({'raw'})].to_pickle('C:\\\\Nextop\\\\nextop-engine\\\\nextop_engine\\\\_element\\\\data\\\\private_IO\\\\KPP_계약처_입고출고(2010-2014)_daily_obj.pickle')"
   ]
  },
  {
   "cell_type": "markdown",
   "metadata": {},
   "source": [
    "#### 15년~17년 데이터를 불러와 동일한 전처리를 수행합니다."
   ]
  },
  {
   "cell_type": "code",
   "execution_count": 16,
   "metadata": {
    "collapsed": true
   },
   "outputs": [],
   "source": [
    "INPUT_FILENAME= 'KPP_계약처_입고출고(2015-2017).xlsx'\n",
    "df_raw2015= ft_c.xlsx_opener(INPUT_FILENAME)"
   ]
  },
  {
   "cell_type": "code",
   "execution_count": 17,
   "metadata": {},
   "outputs": [
    {
     "data": {
      "text/html": [
       "<div>\n",
       "<style>\n",
       "    .dataframe thead tr:only-child th {\n",
       "        text-align: right;\n",
       "    }\n",
       "\n",
       "    .dataframe thead th {\n",
       "        text-align: left;\n",
       "    }\n",
       "\n",
       "    .dataframe tbody tr th {\n",
       "        vertical-align: top;\n",
       "    }\n",
       "</style>\n",
       "<table border=\"1\" class=\"dataframe\">\n",
       "  <thead>\n",
       "    <tr style=\"text-align: right;\">\n",
       "      <th></th>\n",
       "      <th>타입</th>\n",
       "      <th>코드</th>\n",
       "      <th>발송일</th>\n",
       "      <th>유형코드</th>\n",
       "      <th>수량</th>\n",
       "    </tr>\n",
       "  </thead>\n",
       "  <tbody>\n",
       "    <tr>\n",
       "      <th>0</th>\n",
       "      <td>입고</td>\n",
       "      <td>298152</td>\n",
       "      <td>20150101</td>\n",
       "      <td>1815.0</td>\n",
       "      <td>40</td>\n",
       "    </tr>\n",
       "    <tr>\n",
       "      <th>1</th>\n",
       "      <td>입고</td>\n",
       "      <td>298045</td>\n",
       "      <td>20150101</td>\n",
       "      <td>1815.0</td>\n",
       "      <td>83</td>\n",
       "    </tr>\n",
       "    <tr>\n",
       "      <th>2</th>\n",
       "      <td>입고</td>\n",
       "      <td>298031</td>\n",
       "      <td>20150101</td>\n",
       "      <td>1891.0</td>\n",
       "      <td>5</td>\n",
       "    </tr>\n",
       "    <tr>\n",
       "      <th>3</th>\n",
       "      <td>입고</td>\n",
       "      <td>298023</td>\n",
       "      <td>20150101</td>\n",
       "      <td>1815.0</td>\n",
       "      <td>1145</td>\n",
       "    </tr>\n",
       "    <tr>\n",
       "      <th>4</th>\n",
       "      <td>입고</td>\n",
       "      <td>298009</td>\n",
       "      <td>20150101</td>\n",
       "      <td>1853.0</td>\n",
       "      <td>1141</td>\n",
       "    </tr>\n",
       "  </tbody>\n",
       "</table>\n",
       "</div>"
      ],
      "text/plain": [
       "   타입      코드       발송일    유형코드    수량\n",
       "0  입고  298152  20150101  1815.0    40\n",
       "1  입고  298045  20150101  1815.0    83\n",
       "2  입고  298031  20150101  1891.0     5\n",
       "3  입고  298023  20150101  1815.0  1145\n",
       "4  입고  298009  20150101  1853.0  1141"
      ]
     },
     "execution_count": 17,
     "metadata": {},
     "output_type": "execute_result"
    }
   ],
   "source": [
    "df_raw2015.head()"
   ]
  },
  {
   "cell_type": "code",
   "execution_count": 18,
   "metadata": {
    "collapsed": true
   },
   "outputs": [],
   "source": [
    "df_in2015= df_raw2015[df_raw2015['타입']== '입고']"
   ]
  },
  {
   "cell_type": "code",
   "execution_count": 19,
   "metadata": {
    "collapsed": true
   },
   "outputs": [],
   "source": [
    "df_out2015= df_raw2015[df_raw2015['타입']== '출하']"
   ]
  },
  {
   "cell_type": "code",
   "execution_count": 20,
   "metadata": {
    "collapsed": true
   },
   "outputs": [],
   "source": [
    "data_out2015= Data()"
   ]
  },
  {
   "cell_type": "code",
   "execution_count": 21,
   "metadata": {},
   "outputs": [
    {
     "name": "stdout",
     "output_type": "stream",
     "text": [
      "        타입      코드       발송일    유형코드   수량\n",
      "270062  출하  298152  20150101  1692.0  149\n",
      "270063  출하  298137  20150101  1815.0   19\n",
      "270064  출하  298064  20150101  1878.0  752\n",
      "270065  출하  298045  20150101  1815.0   32\n",
      "270066  출하  298038  20150101  1815.0   19\n",
      "<class 'pandas.core.frame.DataFrame'>\n",
      "Int64Index: 3181370 entries, 270062 to 605881\n",
      "Data columns (total 5 columns):\n",
      "타입      object\n",
      "코드      int64\n",
      "발송일     int64\n",
      "유형코드    float64\n",
      "수량      int64\n",
      "dtypes: float64(1), int64(3), object(1)\n",
      "memory usage: 145.6+ MB\n",
      "None\n"
     ]
    }
   ],
   "source": [
    "data_out2015.setRawData(df_out2015)"
   ]
  },
  {
   "cell_type": "code",
   "execution_count": 22,
   "metadata": {
    "collapsed": true
   },
   "outputs": [],
   "source": [
    "restruct2015= DataRestruction(data_out2015)"
   ]
  },
  {
   "cell_type": "code",
   "execution_count": 23,
   "metadata": {
    "collapsed": true
   },
   "outputs": [],
   "source": [
    "restruct2015.groupbyObject(idx_col= '발송일', ft_col= '유형코드', val_col= '수량', y_sum= True, idx_to_datetime= True)"
   ]
  },
  {
   "cell_type": "code",
   "execution_count": 24,
   "metadata": {
    "collapsed": true
   },
   "outputs": [],
   "source": [
    "restruct2015.data[frozenset({'raw'})].columns= restruct2015.data[frozenset({'raw'})].columns.map(lambda x: int(x) if type(x)==float else x)"
   ]
  },
  {
   "cell_type": "code",
   "execution_count": 25,
   "metadata": {},
   "outputs": [
    {
     "name": "stdout",
     "output_type": "stream",
     "text": [
      "          ds  1025  1032    1041  1057  1091  1101  1119  1127  1216  \\\n",
      "0 2015-01-01   0.0   0.0  2115.0   0.0  29.0   0.0   0.0   0.0   0.0   \n",
      "1 2015-01-02   0.0   0.0  4339.0   0.0  75.0   0.0   0.0   0.0   0.0   \n",
      "2 2015-01-03   0.0   0.0  2403.0  41.0  21.0   0.0   0.0   0.0   0.0   \n",
      "3 2015-01-04   0.0   0.0    21.0   0.0  53.0   0.0   0.0   0.0   0.0   \n",
      "4 2015-01-05   0.0   0.0  4644.0   0.0  85.0   0.0   0.0   0.0   0.0   \n",
      "\n",
      "     ...      1754  1797  1800      1815  1817  1818    1853     1878   1891  \\\n",
      "0    ...     410.0   0.0   0.0  144551.0   0.0   0.0  1161.0   5208.0    0.0   \n",
      "1    ...     925.0   0.0   0.0   87737.0  78.0   0.0  4891.0   9508.0   15.0   \n",
      "2    ...       3.0   0.0   0.0   56624.0   0.0   0.0  2296.0   1802.0    0.0   \n",
      "3    ...      32.0   0.0   0.0   16503.0   0.0   0.0   331.0     57.0    0.0   \n",
      "4    ...     433.0   0.0   0.0   90064.0  39.0   0.0  6654.0  10739.0  211.0   \n",
      "\n",
      "      y_sum  \n",
      "0  174168.0  \n",
      "1  135573.0  \n",
      "2   75269.0  \n",
      "3   19952.0  \n",
      "4  141355.0  \n",
      "\n",
      "[5 rows x 35 columns]\n",
      "<class 'pandas.core.frame.DataFrame'>\n",
      "RangeIndex: 1065 entries, 0 to 1064\n",
      "Data columns (total 35 columns):\n",
      "ds       1065 non-null datetime64[ns]\n",
      "1025     1065 non-null float64\n",
      "1032     1065 non-null float64\n",
      "1041     1065 non-null float64\n",
      "1057     1065 non-null float64\n",
      "1091     1065 non-null float64\n",
      "1101     1065 non-null float64\n",
      "1119     1065 non-null float64\n",
      "1127     1065 non-null float64\n",
      "1216     1065 non-null float64\n",
      "1224     1065 non-null float64\n",
      "1242     1065 non-null float64\n",
      "1261     1065 non-null float64\n",
      "1355     1065 non-null float64\n",
      "1373     1065 non-null float64\n",
      "1375     1065 non-null float64\n",
      "1376     1065 non-null float64\n",
      "1396     1065 non-null float64\n",
      "1433     1065 non-null float64\n",
      "1584     1065 non-null float64\n",
      "1627     1065 non-null float64\n",
      "1656     1065 non-null float64\n",
      "1692     1065 non-null float64\n",
      "1729     1065 non-null float64\n",
      "1745     1065 non-null float64\n",
      "1754     1065 non-null float64\n",
      "1797     1065 non-null float64\n",
      "1800     1065 non-null float64\n",
      "1815     1065 non-null float64\n",
      "1817     1065 non-null float64\n",
      "1818     1065 non-null float64\n",
      "1853     1065 non-null float64\n",
      "1878     1065 non-null float64\n",
      "1891     1065 non-null float64\n",
      "y_sum    1065 non-null float64\n",
      "dtypes: datetime64[ns](1), float64(34)\n",
      "memory usage: 291.3 KB\n",
      "None\n"
     ]
    }
   ],
   "source": [
    "restruct2015.commitRestructedData()"
   ]
  },
  {
   "cell_type": "code",
   "execution_count": 26,
   "metadata": {
    "collapsed": true
   },
   "outputs": [],
   "source": [
    "df_raw2015.to_pickle('C:\\\\Nextop\\\\nextop-engine\\\\nextop_engine\\\\_element\\\\data\\\\private_IO\\\\KPP_계약처_입고출고(2015-2017).pickle')\n",
    "data_out2015.data[frozenset({'raw'})].to_pickle('C:\\\\Nextop\\\\nextop-engine\\\\nextop_engine\\\\_element\\\\data\\\\private_IO\\\\KPP_계약처_입고출고(2015-2017)_daily_obj.pickle')"
   ]
  },
  {
   "cell_type": "code",
   "execution_count": null,
   "metadata": {
    "collapsed": true
   },
   "outputs": [],
   "source": []
  }
 ],
 "metadata": {
  "kernelspec": {
   "display_name": "Python 3",
   "language": "python",
   "name": "python3"
  },
  "language_info": {
   "codemirror_mode": {
    "name": "ipython",
    "version": 3
   },
   "file_extension": ".py",
   "mimetype": "text/x-python",
   "name": "python",
   "nbconvert_exporter": "python",
   "pygments_lexer": "ipython3",
   "version": "3.6.4"
  }
 },
 "nbformat": 4,
 "nbformat_minor": 2
}
