{
 "cells": [
  {
   "cell_type": "code",
   "execution_count": 1,
   "metadata": {
    "collapsed": true
   },
   "outputs": [],
   "source": [
    "from _element import feature_control as ft_c"
   ]
  },
  {
   "cell_type": "code",
   "execution_count": 2,
   "metadata": {
    "collapsed": true
   },
   "outputs": [],
   "source": [
    "from _usecase import algorithm_prophet as prpt"
   ]
  },
  {
   "cell_type": "code",
   "execution_count": 3,
   "metadata": {
    "collapsed": true
   },
   "outputs": [],
   "source": [
    "from _element import calculations as calc"
   ]
  },
  {
   "cell_type": "code",
   "execution_count": 4,
   "metadata": {
    "collapsed": true
   },
   "outputs": [],
   "source": [
    "import pandas as pd"
   ]
  },
  {
   "cell_type": "code",
   "execution_count": 5,
   "metadata": {
    "collapsed": true
   },
   "outputs": [],
   "source": [
    "from datetime import datetime"
   ]
  },
  {
   "cell_type": "code",
   "execution_count": 6,
   "metadata": {
    "collapsed": true
   },
   "outputs": [],
   "source": [
    "from _element import varr"
   ]
  },
  {
   "cell_type": "code",
   "execution_count": 28,
   "metadata": {
    "collapsed": true
   },
   "outputs": [],
   "source": [
    "INPUT_FILENAME= 'KPP일별투입(10_17)_raw.xlsx'"
   ]
  },
  {
   "cell_type": "code",
   "execution_count": null,
   "metadata": {},
   "outputs": [],
   "source": [
    "df_raw= ft_c.xlsx_opener(varr.PJ_DIR+varr.DF_DIR, INPUT_FILENAME)"
   ]
  },
  {
   "cell_type": "code",
   "execution_count": 30,
   "metadata": {
    "collapsed": true
   },
   "outputs": [],
   "source": [
    "df_temp= ft_c.xlsx_opener(varr.PJ_DIR+varr.TEMP_DATA_DIR, 'temp_data_merged.xlsx')"
   ]
  },
  {
   "cell_type": "code",
   "execution_count": 31,
   "metadata": {
    "collapsed": true
   },
   "outputs": [],
   "source": [
    "y_col= df_raw.columns.values.tolist()"
   ]
  },
  {
   "cell_type": "code",
   "execution_count": 32,
   "metadata": {
    "collapsed": true
   },
   "outputs": [],
   "source": [
    "try:\n",
    "    y_col.remove('ds')\n",
    "except ValueError:\n",
    "    pass"
   ]
  },
  {
   "cell_type": "code",
   "execution_count": 33,
   "metadata": {},
   "outputs": [
    {
     "data": {
      "text/plain": [
       "['y']"
      ]
     },
     "execution_count": 33,
     "metadata": {},
     "output_type": "execute_result"
    }
   ],
   "source": [
    "y_col"
   ]
  },
  {
   "cell_type": "code",
   "execution_count": 34,
   "metadata": {
    "collapsed": true
   },
   "outputs": [],
   "source": [
    "x_col= df_temp.columns.values.tolist()"
   ]
  },
  {
   "cell_type": "code",
   "execution_count": 35,
   "metadata": {},
   "outputs": [
    {
     "data": {
      "text/plain": [
       "['ds', 'temp_max', 'temp_min', 'rain_amount']"
      ]
     },
     "execution_count": 35,
     "metadata": {},
     "output_type": "execute_result"
    }
   ],
   "source": [
    "x_col"
   ]
  },
  {
   "cell_type": "code",
   "execution_count": 36,
   "metadata": {
    "collapsed": true
   },
   "outputs": [],
   "source": [
    "df_raw['ds']= pd.to_datetime(df_raw['ds'], box=True, format= '%Y/%m/%d', exact=True)"
   ]
  },
  {
   "cell_type": "code",
   "execution_count": 37,
   "metadata": {
    "collapsed": true
   },
   "outputs": [],
   "source": [
    "df_temp['ds']= pd.to_datetime(df_temp['ds'], box=True, format= '%Y/%m/%d', exact=True)"
   ]
  },
  {
   "cell_type": "code",
   "execution_count": 38,
   "metadata": {
    "collapsed": true
   },
   "outputs": [],
   "source": [
    "df_raw= pd.merge(df_raw, df_temp, how='inner', on='ds')"
   ]
  },
  {
   "cell_type": "code",
   "execution_count": 39,
   "metadata": {},
   "outputs": [
    {
     "data": {
      "text/html": [
       "<div>\n",
       "<style>\n",
       "    .dataframe thead tr:only-child th {\n",
       "        text-align: right;\n",
       "    }\n",
       "\n",
       "    .dataframe thead th {\n",
       "        text-align: left;\n",
       "    }\n",
       "\n",
       "    .dataframe tbody tr th {\n",
       "        vertical-align: top;\n",
       "    }\n",
       "</style>\n",
       "<table border=\"1\" class=\"dataframe\">\n",
       "  <thead>\n",
       "    <tr style=\"text-align: right;\">\n",
       "      <th></th>\n",
       "      <th>ds</th>\n",
       "      <th>y</th>\n",
       "      <th>temp_max</th>\n",
       "      <th>temp_min</th>\n",
       "      <th>rain_amount</th>\n",
       "    </tr>\n",
       "  </thead>\n",
       "  <tbody>\n",
       "    <tr>\n",
       "      <th>0</th>\n",
       "      <td>2010-07-01</td>\n",
       "      <td>79590</td>\n",
       "      <td>30.500000</td>\n",
       "      <td>24.900000</td>\n",
       "      <td>0.0</td>\n",
       "    </tr>\n",
       "    <tr>\n",
       "      <th>1</th>\n",
       "      <td>2010-07-02</td>\n",
       "      <td>79456</td>\n",
       "      <td>25.799999</td>\n",
       "      <td>22.700001</td>\n",
       "      <td>70.0</td>\n",
       "    </tr>\n",
       "    <tr>\n",
       "      <th>2</th>\n",
       "      <td>2010-07-03</td>\n",
       "      <td>48469</td>\n",
       "      <td>25.600000</td>\n",
       "      <td>22.600000</td>\n",
       "      <td>1.0</td>\n",
       "    </tr>\n",
       "    <tr>\n",
       "      <th>3</th>\n",
       "      <td>2010-07-04</td>\n",
       "      <td>1045</td>\n",
       "      <td>29.700001</td>\n",
       "      <td>23.100000</td>\n",
       "      <td>0.0</td>\n",
       "    </tr>\n",
       "    <tr>\n",
       "      <th>4</th>\n",
       "      <td>2010-07-05</td>\n",
       "      <td>65049</td>\n",
       "      <td>30.600000</td>\n",
       "      <td>21.799999</td>\n",
       "      <td>0.0</td>\n",
       "    </tr>\n",
       "  </tbody>\n",
       "</table>\n",
       "</div>"
      ],
      "text/plain": [
       "          ds      y   temp_max   temp_min  rain_amount\n",
       "0 2010-07-01  79590  30.500000  24.900000          0.0\n",
       "1 2010-07-02  79456  25.799999  22.700001         70.0\n",
       "2 2010-07-03  48469  25.600000  22.600000          1.0\n",
       "3 2010-07-04   1045  29.700001  23.100000          0.0\n",
       "4 2010-07-05  65049  30.600000  21.799999          0.0"
      ]
     },
     "execution_count": 39,
     "metadata": {},
     "output_type": "execute_result"
    }
   ],
   "source": [
    "df_raw.head()"
   ]
  },
  {
   "cell_type": "code",
   "execution_count": 46,
   "metadata": {
    "collapsed": true
   },
   "outputs": [],
   "source": [
    "df_weekday= {}\n",
    "split_point= 7\n",
    "for i in range(split_point):\n",
    "    df_splited= df_raw.loc[df_raw.ds.apply(lambda x: x.weekday())==i]\n",
    "    df_weekday[i]= {}\n",
    "    for y in y_col:\n",
    "        df_weekday[i][y]= ft_c.train_test_sample(\n",
    "            df_splited, y, x_col, forecastday= varr.FORECASTDAY//split_point)"
   ]
  },
  {
   "cell_type": "code",
   "execution_count": 47,
   "metadata": {
    "collapsed": true
   },
   "outputs": [
    {
     "data": {
      "text/plain": [
       "{'test':              ds       y  temp_max  temp_min  rain_amount\n",
       " 2699 2017-11-27  117480       8.1       1.8          0.0,\n",
       " 'testX':              ds  temp_max  temp_min  rain_amount\n",
       " 2699 2017-11-27       8.1       1.8          0.0,\n",
       " 'testY': 2699    117480\n",
       " Name: y, dtype: int64,\n",
       " 'train':              ds       y   temp_max   temp_min  rain_amount\n",
       " 4    2010-07-05   65049  30.600000  21.799999          0.0\n",
       " 11   2010-07-12   67680  28.299999  22.200001          0.0\n",
       " 18   2010-07-19   73816  29.299999  24.200001          0.0\n",
       " 25   2010-07-26   75731  27.600000  23.400000          6.0\n",
       " 32   2010-08-02   67290  31.600000  24.000000          1.0\n",
       " 39   2010-08-09   67691  32.799999  26.400000          0.0\n",
       " 46   2010-08-16   70947  26.500000  21.000000          0.0\n",
       " 53   2010-08-23   71422  28.900000  23.500000         13.0\n",
       " 60   2010-08-30   68075  29.799999  22.299999          0.0\n",
       " 67   2010-09-06   74425  29.700001  23.000000          0.0\n",
       " 74   2010-09-13   75663  27.400000  21.100000          0.0\n",
       " 81   2010-09-20   56183  25.400000  19.400000          4.0\n",
       " 87   2010-09-27   71022  23.500000  13.600000          1.0\n",
       " 94   2010-10-04   69676  16.299999  11.300000          0.0\n",
       " 101  2010-10-11   62805  20.900000  17.000000          0.0\n",
       " 108  2010-10-18   67614  19.000000  11.100000          0.0\n",
       " 115  2010-10-25   60929  13.000000   1.000000          0.0\n",
       " 122  2010-11-01   66695  16.500000   2.700000          0.0\n",
       " 129  2010-11-08   61310   8.800000   1.500000          1.0\n",
       " 136  2010-11-15   63669   4.800000  -0.900000          0.0\n",
       " 143  2010-11-22   64249   8.600000  -0.300000          0.0\n",
       " 150  2010-11-29   57679   7.400000   0.300000          0.0\n",
       " 157  2010-12-06   63322   3.900000  -4.600000          0.0\n",
       " 164  2010-12-13   65609   6.100000  -0.900000          0.0\n",
       " 171  2010-12-20   71531   8.200000   1.000000          0.0\n",
       " 178  2010-12-27   73419  -2.000000  -7.500000          2.0\n",
       " 185  2011-01-03   77381  -0.500000  -7.500000          0.0\n",
       " 192  2011-01-10   72527  -4.600000 -10.400000          0.0\n",
       " 199  2011-01-17   78487  -5.000000 -12.600000          0.0\n",
       " 206  2011-01-24   75475  -6.200000 -11.600000          0.0\n",
       " ...         ...     ...        ...        ...          ...\n",
       " 2489 2017-05-01   89340  26.600000  15.700000          0.0\n",
       " 2496 2017-05-08  118401  22.700001  15.700000          0.2\n",
       " 2503 2017-05-15  116007  19.200001  13.200000          0.1\n",
       " 2510 2017-05-22  116142  27.100000  17.400000          0.0\n",
       " 2517 2017-05-29  117597  27.900000  19.100000          0.0\n",
       " 2524 2017-06-05  126649  29.100000  20.700001          0.0\n",
       " 2531 2017-06-12  126420  27.500000  18.700001          0.0\n",
       " 2538 2017-06-19  128490  29.200001  20.299999          0.0\n",
       " 2545 2017-06-26  117364  26.400000  20.799999          4.5\n",
       " 2552 2017-07-03  126213  26.700001  23.400000          2.0\n",
       " 2559 2017-07-10  112780  25.299999  21.400000        123.7\n",
       " 2566 2017-07-17  130187  29.400000  23.500000          6.1\n",
       " 2573 2017-07-24  118896  28.100000  23.600000          2.3\n",
       " 2580 2017-07-31  104468  26.700001  23.000000          5.3\n",
       " 2587 2017-08-07  118317  33.400002  25.400000          0.0\n",
       " 2594 2017-08-14  120424  26.600000  21.200001         23.5\n",
       " 2601 2017-08-21  110586  28.500000  23.400000          1.7\n",
       " 2608 2017-08-28  116657  26.700001  17.900000          5.3\n",
       " 2615 2017-09-04  126057  29.600000  20.000000          0.0\n",
       " 2622 2017-09-11  116849  23.799999  17.200001          0.0\n",
       " 2629 2017-09-18  124903  27.100000  19.200001          0.0\n",
       " 2636 2017-09-25  136445  27.600000  19.799999          0.0\n",
       " 2643 2017-10-02   94909  26.500000  13.500000          0.0\n",
       " 2650 2017-10-09   60909  25.799999  18.200001          0.0\n",
       " 2657 2017-10-16  119379  20.200001   9.500000          0.0\n",
       " 2664 2017-10-23  121804  17.900000   9.800000          0.0\n",
       " 2671 2017-10-30  117899  12.300000   3.300000          0.0\n",
       " 2678 2017-11-06  113480  15.900000   9.800000          0.0\n",
       " 2685 2017-11-13  121625  11.000000   6.100000          5.6\n",
       " 2692 2017-11-20  119059   3.700000  -4.000000          0.2\n",
       " \n",
       " [384 rows x 5 columns],\n",
       " 'trainX':              ds   temp_max   temp_min  rain_amount\n",
       " 4    2010-07-05  30.600000  21.799999          0.0\n",
       " 11   2010-07-12  28.299999  22.200001          0.0\n",
       " 18   2010-07-19  29.299999  24.200001          0.0\n",
       " 25   2010-07-26  27.600000  23.400000          6.0\n",
       " 32   2010-08-02  31.600000  24.000000          1.0\n",
       " 39   2010-08-09  32.799999  26.400000          0.0\n",
       " 46   2010-08-16  26.500000  21.000000          0.0\n",
       " 53   2010-08-23  28.900000  23.500000         13.0\n",
       " 60   2010-08-30  29.799999  22.299999          0.0\n",
       " 67   2010-09-06  29.700001  23.000000          0.0\n",
       " 74   2010-09-13  27.400000  21.100000          0.0\n",
       " 81   2010-09-20  25.400000  19.400000          4.0\n",
       " 87   2010-09-27  23.500000  13.600000          1.0\n",
       " 94   2010-10-04  16.299999  11.300000          0.0\n",
       " 101  2010-10-11  20.900000  17.000000          0.0\n",
       " 108  2010-10-18  19.000000  11.100000          0.0\n",
       " 115  2010-10-25  13.000000   1.000000          0.0\n",
       " 122  2010-11-01  16.500000   2.700000          0.0\n",
       " 129  2010-11-08   8.800000   1.500000          1.0\n",
       " 136  2010-11-15   4.800000  -0.900000          0.0\n",
       " 143  2010-11-22   8.600000  -0.300000          0.0\n",
       " 150  2010-11-29   7.400000   0.300000          0.0\n",
       " 157  2010-12-06   3.900000  -4.600000          0.0\n",
       " 164  2010-12-13   6.100000  -0.900000          0.0\n",
       " 171  2010-12-20   8.200000   1.000000          0.0\n",
       " 178  2010-12-27  -2.000000  -7.500000          2.0\n",
       " 185  2011-01-03  -0.500000  -7.500000          0.0\n",
       " 192  2011-01-10  -4.600000 -10.400000          0.0\n",
       " 199  2011-01-17  -5.000000 -12.600000          0.0\n",
       " 206  2011-01-24  -6.200000 -11.600000          0.0\n",
       " ...         ...        ...        ...          ...\n",
       " 2489 2017-05-01  26.600000  15.700000          0.0\n",
       " 2496 2017-05-08  22.700001  15.700000          0.2\n",
       " 2503 2017-05-15  19.200001  13.200000          0.1\n",
       " 2510 2017-05-22  27.100000  17.400000          0.0\n",
       " 2517 2017-05-29  27.900000  19.100000          0.0\n",
       " 2524 2017-06-05  29.100000  20.700001          0.0\n",
       " 2531 2017-06-12  27.500000  18.700001          0.0\n",
       " 2538 2017-06-19  29.200001  20.299999          0.0\n",
       " 2545 2017-06-26  26.400000  20.799999          4.5\n",
       " 2552 2017-07-03  26.700001  23.400000          2.0\n",
       " 2559 2017-07-10  25.299999  21.400000        123.7\n",
       " 2566 2017-07-17  29.400000  23.500000          6.1\n",
       " 2573 2017-07-24  28.100000  23.600000          2.3\n",
       " 2580 2017-07-31  26.700001  23.000000          5.3\n",
       " 2587 2017-08-07  33.400002  25.400000          0.0\n",
       " 2594 2017-08-14  26.600000  21.200001         23.5\n",
       " 2601 2017-08-21  28.500000  23.400000          1.7\n",
       " 2608 2017-08-28  26.700001  17.900000          5.3\n",
       " 2615 2017-09-04  29.600000  20.000000          0.0\n",
       " 2622 2017-09-11  23.799999  17.200001          0.0\n",
       " 2629 2017-09-18  27.100000  19.200001          0.0\n",
       " 2636 2017-09-25  27.600000  19.799999          0.0\n",
       " 2643 2017-10-02  26.500000  13.500000          0.0\n",
       " 2650 2017-10-09  25.799999  18.200001          0.0\n",
       " 2657 2017-10-16  20.200001   9.500000          0.0\n",
       " 2664 2017-10-23  17.900000   9.800000          0.0\n",
       " 2671 2017-10-30  12.300000   3.300000          0.0\n",
       " 2678 2017-11-06  15.900000   9.800000          0.0\n",
       " 2685 2017-11-13  11.000000   6.100000          5.6\n",
       " 2692 2017-11-20   3.700000  -4.000000          0.2\n",
       " \n",
       " [384 rows x 4 columns],\n",
       " 'trainY': 4        65049\n",
       " 11       67680\n",
       " 18       73816\n",
       " 25       75731\n",
       " 32       67290\n",
       " 39       67691\n",
       " 46       70947\n",
       " 53       71422\n",
       " 60       68075\n",
       " 67       74425\n",
       " 74       75663\n",
       " 81       56183\n",
       " 87       71022\n",
       " 94       69676\n",
       " 101      62805\n",
       " 108      67614\n",
       " 115      60929\n",
       " 122      66695\n",
       " 129      61310\n",
       " 136      63669\n",
       " 143      64249\n",
       " 150      57679\n",
       " 157      63322\n",
       " 164      65609\n",
       " 171      71531\n",
       " 178      73419\n",
       " 185      77381\n",
       " 192      72527\n",
       " 199      78487\n",
       " 206      75475\n",
       "          ...  \n",
       " 2489     89340\n",
       " 2496    118401\n",
       " 2503    116007\n",
       " 2510    116142\n",
       " 2517    117597\n",
       " 2524    126649\n",
       " 2531    126420\n",
       " 2538    128490\n",
       " 2545    117364\n",
       " 2552    126213\n",
       " 2559    112780\n",
       " 2566    130187\n",
       " 2573    118896\n",
       " 2580    104468\n",
       " 2587    118317\n",
       " 2594    120424\n",
       " 2601    110586\n",
       " 2608    116657\n",
       " 2615    126057\n",
       " 2622    116849\n",
       " 2629    124903\n",
       " 2636    136445\n",
       " 2643     94909\n",
       " 2650     60909\n",
       " 2657    119379\n",
       " 2664    121804\n",
       " 2671    117899\n",
       " 2678    113480\n",
       " 2685    121625\n",
       " 2692    119059\n",
       " Name: y, Length: 384, dtype: int64}"
      ]
     },
     "execution_count": 47,
     "metadata": {},
     "output_type": "execute_result"
    }
   ],
   "source": [
    "df_weekday[0]['y']"
   ]
  },
  {
   "cell_type": "code",
   "execution_count": 48,
   "metadata": {},
   "outputs": [],
   "source": [
    "result_dict= {}\n",
    "for y in y_col:\n",
    "    result_dict[y]= {\n",
    "                    'mon': prpt.Bayseian2(df_weekday[0][y], 'week'),\\\n",
    "                    'tue': prpt.Bayseian2(df_weekday[1][y], 'week'),\\\n",
    "                    'wed': prpt.Bayseian2(df_weekday[2][y], 'week'),\\\n",
    "                    'thu': prpt.Bayseian2(df_weekday[3][y], 'week'),\\\n",
    "                    'pri': prpt.Bayseian2(df_weekday[4][y], 'week'),\\\n",
    "                    'sat': prpt.Bayseian2(df_weekday[5][y], 'week'),\\\n",
    "                    'sun': prpt.Bayseian2(df_weekday[6][y], 'week'),\\\n",
    "                    }"
   ]
  },
  {
   "cell_type": "code",
   "execution_count": 49,
   "metadata": {
    "collapsed": true
   },
   "outputs": [],
   "source": [
    "merged_dict={}\n",
    "for y in y_col:\n",
    "    merged_dict[y]={'future': \n",
    "                    pd.concat([result_dict[y]['mon']['future'],\\\n",
    "                              result_dict[y]['tue']['future'],\\\n",
    "                              result_dict[y]['wed']['future'],\\\n",
    "                              result_dict[y]['thu']['future'],\\\n",
    "                              result_dict[y]['pri']['future'],\\\n",
    "                              result_dict[y]['sat']['future'],\\\n",
    "                              result_dict[y]['sun']['future']],\\\n",
    "                              axis= 0).sort_values(by='ds', axis=0),\n",
    "                   'forecastProphetTable':\n",
    "                    pd.concat([result_dict[y]['mon']['forecastProphetTable'],\\\n",
    "                              result_dict[y]['tue']['forecastProphetTable'],\\\n",
    "                              result_dict[y]['wed']['forecastProphetTable'],\\\n",
    "                              result_dict[y]['thu']['forecastProphetTable'],\\\n",
    "                              result_dict[y]['pri']['forecastProphetTable'],\\\n",
    "                              result_dict[y]['sat']['forecastProphetTable'],\\\n",
    "                              result_dict[y]['sun']['forecastProphetTable']],\\\n",
    "                              axis= 0).sort_values(by='ds', axis=0)\n",
    "                   }"
   ]
  },
  {
   "cell_type": "code",
   "execution_count": 50,
   "metadata": {
    "scrolled": true
   },
   "outputs": [
    {
     "name": "stdout",
     "output_type": "stream",
     "text": [
      "KPP일별투입(10_17)_raw.xlsx\n",
      "RMSE with segment y: 6476.52747853\n",
      "MAPE with segment y: 45.6762554537\n",
      "MAPE_with_std with segment y: 20.6395919102\n",
      "MAPE_div_std with segment y: 73.5508237695\n",
      "sMAPE of company code y: 4.87943060612\n",
      "          ds  temp_max  temp_min  rain_amount           yhat       y\n",
      "0 2017-11-24       2.9      -2.5          0.1  125038.754153  120647\n",
      "1 2017-11-25       6.4       0.8         15.7   62623.574508   67756\n",
      "2 2017-11-26       6.4      -2.4          0.0    -188.359619     100\n",
      "3 2017-11-27       8.1       1.8          0.0  112834.287908  117480\n",
      "4 2017-11-28       9.8       4.2          1.2  121613.045764  122192\n",
      "\n",
      "\n"
     ]
    }
   ],
   "source": [
    "forecast_dict={}\n",
    "print(INPUT_FILENAME)\n",
    "for y in y_col:\n",
    "    merged_dict[y]['future']['ds']= pd.to_datetime(merged_dict[y]['future']['ds'], box=True, format= '%Y/%m/%d', exact=True)\n",
    "    merged_dict[y]['forecastProphetTable']['ds']= pd.to_datetime(merged_dict[y]['forecastProphetTable']['ds'], box=True, format= '%Y/%m/%d', exact=True)\n",
    "    forecast_dict[y]= prpt.extract_info_from(merged_dict[y]['future'], merged_dict[y]['forecastProphetTable'], varr.FORECASTDAY)\n",
    "    forecast_dict[y]['result_df']= pd.merge(forecast_dict[y]['result_df'], df_raw[['ds', y]], how='inner', on='ds')\n",
    "    print('RMSE with segment '+str(y)+': '+str(calc.rms_error(forecast_dict[y]['result_df'][y], forecast_dict[y]['result_df']['yhat'])))\n",
    "    print('MAPE with segment '+str(y)+': '+str(calc.map_error(forecast_dict[y]['result_df'][y], forecast_dict[y]['result_df']['yhat'])))\n",
    "    print('MAPE_with_std with segment '+str(y)+': '+str(calc.map_error_with_std(forecast_dict[y]['result_df'][y], forecast_dict[y]['result_df']['yhat'])))\n",
    "    print('MAPE_div_std with segment '+str(y)+': '+str(calc.map_error_div_std(forecast_dict[y]['result_df'][y], forecast_dict[y]['result_df']['yhat'])))\n",
    "    print('sMAPE of company code '+str(y)+': '+str(calc.smap_error(forecast_dict[y]['result_df'][y], forecast_dict[y]['result_df']['yhat'])))\n",
    "    print(forecast_dict[y]['result_df'].head())\n",
    "    ft_c.save_as_xlsx(varr.PJ_DIR+varr.DF_DIR, forecast_dict[y]['result_df'], INPUT_FILENAME, '_seg'+str(y)+'withweekday')\n",
    "    print('\\n')"
   ]
  },
  {
   "cell_type": "code",
   "execution_count": 23,
   "metadata": {
    "collapsed": true
   },
   "outputs": [],
   "source": [
    "# result_dict[y]['sun']['model'].plot(result_dict[y]['sun']['forecastProphetTable'])"
   ]
  },
  {
   "cell_type": "code",
   "execution_count": 24,
   "metadata": {
    "collapsed": true
   },
   "outputs": [],
   "source": [
    "# result_dict[y]['sun']['model'].plot_components(result_dict[y]['sun']['forecastProphetTable'])"
   ]
  }
 ],
 "metadata": {
  "kernelspec": {
   "display_name": "Python 3",
   "language": "python",
   "name": "python3"
  },
  "language_info": {
   "codemirror_mode": {
    "name": "ipython",
    "version": 3
   },
   "file_extension": ".py",
   "mimetype": "text/x-python",
   "name": "python",
   "nbconvert_exporter": "python",
   "pygments_lexer": "ipython3",
   "version": "3.6.4"
  }
 },
 "nbformat": 4,
 "nbformat_minor": 2
}
