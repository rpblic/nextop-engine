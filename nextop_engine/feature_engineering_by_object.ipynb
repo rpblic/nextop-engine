{
 "cells": [
  {
   "cell_type": "code",
   "execution_count": 1,
   "metadata": {
    "collapsed": true
   },
   "outputs": [],
   "source": [
    "from _element import feature_control as ft_c\n",
    "\n",
    "from _element import varr\n",
    "\n",
    "import pandas as pd\n",
    "import numpy as np\n",
    "\n",
    "from datetime import datetime\n",
    "\n",
    "import os, sys\n",
    "\n",
    "path_name= os.getcwd()\n",
    "sys.path.append(path_name)"
   ]
  },
  {
   "cell_type": "code",
   "execution_count": 2,
   "metadata": {},
   "outputs": [
    {
     "data": {
      "text/plain": [
       "'C:\\\\Nextop\\\\nextop-engine\\\\nextop_engine'"
      ]
     },
     "execution_count": 2,
     "metadata": {},
     "output_type": "execute_result"
    }
   ],
   "source": [
    "path_name"
   ]
  },
  {
   "cell_type": "code",
   "execution_count": 7,
   "metadata": {
    "collapsed": true,
    "scrolled": false
   },
   "outputs": [],
   "source": [
    "df_raw= ft_c.xlsx_opener(path_name+'\\\\_element\\\\data\\\\private\\\\', 'KPP일별투입(10_17).xlsx')"
   ]
  },
  {
   "cell_type": "code",
   "execution_count": 8,
   "metadata": {},
   "outputs": [
    {
     "name": "stdout",
     "output_type": "stream",
     "text": [
      "<class 'pandas.core.frame.DataFrame'>\n",
      "Int64Index: 1300503 entries, 0 to 189668\n",
      "Data columns (total 6 columns):\n",
      "구분     1300503 non-null object\n",
      "타입     1300503 non-null object\n",
      "코드     1300503 non-null int64\n",
      "발송일    1300503 non-null int64\n",
      "유형     1300503 non-null int64\n",
      "수량     1300503 non-null int64\n",
      "dtypes: int64(4), object(2)\n",
      "memory usage: 69.5+ MB\n"
     ]
    }
   ],
   "source": [
    "df_raw.info()"
   ]
  },
  {
   "cell_type": "code",
   "execution_count": 9,
   "metadata": {
    "collapsed": true
   },
   "outputs": [],
   "source": [
    "ft_c.colname(df_raw, {'발송일': 'ds', '수량': 'y'})"
   ]
  },
  {
   "cell_type": "code",
   "execution_count": 10,
   "metadata": {},
   "outputs": [
    {
     "data": {
      "text/html": [
       "<div>\n",
       "<style>\n",
       "    .dataframe thead tr:only-child th {\n",
       "        text-align: right;\n",
       "    }\n",
       "\n",
       "    .dataframe thead th {\n",
       "        text-align: left;\n",
       "    }\n",
       "\n",
       "    .dataframe tbody tr th {\n",
       "        vertical-align: top;\n",
       "    }\n",
       "</style>\n",
       "<table border=\"1\" class=\"dataframe\">\n",
       "  <thead>\n",
       "    <tr style=\"text-align: right;\">\n",
       "      <th></th>\n",
       "      <th>구분</th>\n",
       "      <th>타입</th>\n",
       "      <th>코드</th>\n",
       "      <th>ds</th>\n",
       "      <th>유형</th>\n",
       "      <th>y</th>\n",
       "    </tr>\n",
       "  </thead>\n",
       "  <tbody>\n",
       "    <tr>\n",
       "      <th>0</th>\n",
       "      <td>계약처</td>\n",
       "      <td>납품(직송포함)</td>\n",
       "      <td>298141</td>\n",
       "      <td>20100101</td>\n",
       "      <td>1815</td>\n",
       "      <td>8</td>\n",
       "    </tr>\n",
       "    <tr>\n",
       "      <th>1</th>\n",
       "      <td>계약처</td>\n",
       "      <td>납품(직송포함)</td>\n",
       "      <td>296285</td>\n",
       "      <td>20100101</td>\n",
       "      <td>1815</td>\n",
       "      <td>20</td>\n",
       "    </tr>\n",
       "    <tr>\n",
       "      <th>2</th>\n",
       "      <td>계약처</td>\n",
       "      <td>납품(직송포함)</td>\n",
       "      <td>295537</td>\n",
       "      <td>20100101</td>\n",
       "      <td>1815</td>\n",
       "      <td>4</td>\n",
       "    </tr>\n",
       "    <tr>\n",
       "      <th>3</th>\n",
       "      <td>계약처</td>\n",
       "      <td>납품(직송포함)</td>\n",
       "      <td>294932</td>\n",
       "      <td>20100101</td>\n",
       "      <td>1815</td>\n",
       "      <td>10</td>\n",
       "    </tr>\n",
       "    <tr>\n",
       "      <th>4</th>\n",
       "      <td>계약처</td>\n",
       "      <td>납품(직송포함)</td>\n",
       "      <td>294837</td>\n",
       "      <td>20100101</td>\n",
       "      <td>1815</td>\n",
       "      <td>10</td>\n",
       "    </tr>\n",
       "  </tbody>\n",
       "</table>\n",
       "</div>"
      ],
      "text/plain": [
       "    구분        타입      코드        ds    유형   y\n",
       "0  계약처  납품(직송포함)  298141  20100101  1815   8\n",
       "1  계약처  납품(직송포함)  296285  20100101  1815  20\n",
       "2  계약처  납품(직송포함)  295537  20100101  1815   4\n",
       "3  계약처  납품(직송포함)  294932  20100101  1815  10\n",
       "4  계약처  납품(직송포함)  294837  20100101  1815  10"
      ]
     },
     "execution_count": 10,
     "metadata": {},
     "output_type": "execute_result"
    }
   ],
   "source": [
    "df_raw.head()"
   ]
  },
  {
   "cell_type": "code",
   "execution_count": 11,
   "metadata": {
    "collapsed": true
   },
   "outputs": [],
   "source": [
    "df_raw= ft_c.struct(df_raw, 'ds', '유형', 'y')"
   ]
  },
  {
   "cell_type": "code",
   "execution_count": 12,
   "metadata": {
    "collapsed": true
   },
   "outputs": [],
   "source": [
    "df_raw.columns.name= None"
   ]
  },
  {
   "cell_type": "code",
   "execution_count": 13,
   "metadata": {
    "collapsed": true
   },
   "outputs": [],
   "source": [
    "df_raw.reset_index(drop= False, inplace= True)"
   ]
  },
  {
   "cell_type": "code",
   "execution_count": 14,
   "metadata": {
    "collapsed": true
   },
   "outputs": [],
   "source": [
    "df_raw['ds']= df_raw['ds'].apply(str).apply(lambda x: datetime(int(x[:4]),int(x[4:6]),int(x[6:])))"
   ]
  },
  {
   "cell_type": "code",
   "execution_count": 19,
   "metadata": {},
   "outputs": [
    {
     "data": {
      "text/html": [
       "<div>\n",
       "<style>\n",
       "    .dataframe thead tr:only-child th {\n",
       "        text-align: right;\n",
       "    }\n",
       "\n",
       "    .dataframe thead th {\n",
       "        text-align: left;\n",
       "    }\n",
       "\n",
       "    .dataframe tbody tr th {\n",
       "        vertical-align: top;\n",
       "    }\n",
       "</style>\n",
       "<table border=\"1\" class=\"dataframe\">\n",
       "  <thead>\n",
       "    <tr style=\"text-align: right;\">\n",
       "      <th></th>\n",
       "      <th>ds</th>\n",
       "      <th>1025</th>\n",
       "      <th>1041</th>\n",
       "      <th>1057</th>\n",
       "      <th>1091</th>\n",
       "      <th>1111</th>\n",
       "      <th>1117</th>\n",
       "      <th>1119</th>\n",
       "      <th>1127</th>\n",
       "      <th>1163</th>\n",
       "      <th>...</th>\n",
       "      <th>1754</th>\n",
       "      <th>1797</th>\n",
       "      <th>1800</th>\n",
       "      <th>1815</th>\n",
       "      <th>1817</th>\n",
       "      <th>1852</th>\n",
       "      <th>1853</th>\n",
       "      <th>1878</th>\n",
       "      <th>1891</th>\n",
       "      <th>y_sum</th>\n",
       "    </tr>\n",
       "  </thead>\n",
       "  <tbody>\n",
       "    <tr>\n",
       "      <th>0</th>\n",
       "      <td>2010-01-01</td>\n",
       "      <td>0.0</td>\n",
       "      <td>0.0</td>\n",
       "      <td>0.0</td>\n",
       "      <td>0.0</td>\n",
       "      <td>0.0</td>\n",
       "      <td>0.0</td>\n",
       "      <td>0.0</td>\n",
       "      <td>0.0</td>\n",
       "      <td>0.0</td>\n",
       "      <td>...</td>\n",
       "      <td>0.0</td>\n",
       "      <td>0.0</td>\n",
       "      <td>0.0</td>\n",
       "      <td>2652.0</td>\n",
       "      <td>0.0</td>\n",
       "      <td>0.0</td>\n",
       "      <td>0.0</td>\n",
       "      <td>0.0</td>\n",
       "      <td>0.0</td>\n",
       "      <td>2662.0</td>\n",
       "    </tr>\n",
       "    <tr>\n",
       "      <th>1</th>\n",
       "      <td>2010-01-02</td>\n",
       "      <td>192.0</td>\n",
       "      <td>6260.0</td>\n",
       "      <td>0.0</td>\n",
       "      <td>0.0</td>\n",
       "      <td>0.0</td>\n",
       "      <td>0.0</td>\n",
       "      <td>0.0</td>\n",
       "      <td>0.0</td>\n",
       "      <td>0.0</td>\n",
       "      <td>...</td>\n",
       "      <td>337.0</td>\n",
       "      <td>0.0</td>\n",
       "      <td>0.0</td>\n",
       "      <td>26443.0</td>\n",
       "      <td>0.0</td>\n",
       "      <td>0.0</td>\n",
       "      <td>459.0</td>\n",
       "      <td>626.0</td>\n",
       "      <td>0.0</td>\n",
       "      <td>39352.0</td>\n",
       "    </tr>\n",
       "    <tr>\n",
       "      <th>2</th>\n",
       "      <td>2010-01-03</td>\n",
       "      <td>0.0</td>\n",
       "      <td>0.0</td>\n",
       "      <td>0.0</td>\n",
       "      <td>0.0</td>\n",
       "      <td>0.0</td>\n",
       "      <td>0.0</td>\n",
       "      <td>0.0</td>\n",
       "      <td>0.0</td>\n",
       "      <td>0.0</td>\n",
       "      <td>...</td>\n",
       "      <td>0.0</td>\n",
       "      <td>0.0</td>\n",
       "      <td>0.0</td>\n",
       "      <td>404.0</td>\n",
       "      <td>0.0</td>\n",
       "      <td>0.0</td>\n",
       "      <td>0.0</td>\n",
       "      <td>0.0</td>\n",
       "      <td>0.0</td>\n",
       "      <td>404.0</td>\n",
       "    </tr>\n",
       "    <tr>\n",
       "      <th>3</th>\n",
       "      <td>2010-01-04</td>\n",
       "      <td>0.0</td>\n",
       "      <td>5141.0</td>\n",
       "      <td>0.0</td>\n",
       "      <td>320.0</td>\n",
       "      <td>0.0</td>\n",
       "      <td>0.0</td>\n",
       "      <td>0.0</td>\n",
       "      <td>0.0</td>\n",
       "      <td>0.0</td>\n",
       "      <td>...</td>\n",
       "      <td>154.0</td>\n",
       "      <td>576.0</td>\n",
       "      <td>0.0</td>\n",
       "      <td>22924.0</td>\n",
       "      <td>0.0</td>\n",
       "      <td>0.0</td>\n",
       "      <td>3445.0</td>\n",
       "      <td>3305.0</td>\n",
       "      <td>0.0</td>\n",
       "      <td>44906.0</td>\n",
       "    </tr>\n",
       "    <tr>\n",
       "      <th>4</th>\n",
       "      <td>2010-01-05</td>\n",
       "      <td>130.0</td>\n",
       "      <td>5494.0</td>\n",
       "      <td>0.0</td>\n",
       "      <td>1186.0</td>\n",
       "      <td>0.0</td>\n",
       "      <td>0.0</td>\n",
       "      <td>0.0</td>\n",
       "      <td>0.0</td>\n",
       "      <td>0.0</td>\n",
       "      <td>...</td>\n",
       "      <td>367.0</td>\n",
       "      <td>294.0</td>\n",
       "      <td>0.0</td>\n",
       "      <td>39081.0</td>\n",
       "      <td>320.0</td>\n",
       "      <td>0.0</td>\n",
       "      <td>3861.0</td>\n",
       "      <td>4362.0</td>\n",
       "      <td>238.0</td>\n",
       "      <td>69481.0</td>\n",
       "    </tr>\n",
       "  </tbody>\n",
       "</table>\n",
       "<p>5 rows × 36 columns</p>\n",
       "</div>"
      ],
      "text/plain": [
       "          ds   1025    1041  1057    1091  1111  1117  1119  1127  1163  \\\n",
       "0 2010-01-01    0.0     0.0   0.0     0.0   0.0   0.0   0.0   0.0   0.0   \n",
       "1 2010-01-02  192.0  6260.0   0.0     0.0   0.0   0.0   0.0   0.0   0.0   \n",
       "2 2010-01-03    0.0     0.0   0.0     0.0   0.0   0.0   0.0   0.0   0.0   \n",
       "3 2010-01-04    0.0  5141.0   0.0   320.0   0.0   0.0   0.0   0.0   0.0   \n",
       "4 2010-01-05  130.0  5494.0   0.0  1186.0   0.0   0.0   0.0   0.0   0.0   \n",
       "\n",
       "    ...      1754   1797  1800     1815   1817  1852    1853    1878   1891  \\\n",
       "0   ...       0.0    0.0   0.0   2652.0    0.0   0.0     0.0     0.0    0.0   \n",
       "1   ...     337.0    0.0   0.0  26443.0    0.0   0.0   459.0   626.0    0.0   \n",
       "2   ...       0.0    0.0   0.0    404.0    0.0   0.0     0.0     0.0    0.0   \n",
       "3   ...     154.0  576.0   0.0  22924.0    0.0   0.0  3445.0  3305.0    0.0   \n",
       "4   ...     367.0  294.0   0.0  39081.0  320.0   0.0  3861.0  4362.0  238.0   \n",
       "\n",
       "     y_sum  \n",
       "0   2662.0  \n",
       "1  39352.0  \n",
       "2    404.0  \n",
       "3  44906.0  \n",
       "4  69481.0  \n",
       "\n",
       "[5 rows x 36 columns]"
      ]
     },
     "execution_count": 19,
     "metadata": {},
     "output_type": "execute_result"
    }
   ],
   "source": [
    "df_raw.head()"
   ]
  },
  {
   "cell_type": "code",
   "execution_count": 20,
   "metadata": {
    "collapsed": true
   },
   "outputs": [],
   "source": [
    "df_max7= df_raw.drop(['ds', 'y_sum'], axis=1)"
   ]
  },
  {
   "cell_type": "code",
   "execution_count": 21,
   "metadata": {
    "collapsed": true
   },
   "outputs": [],
   "source": [
    "df_idx= df_max7.sum(axis=0)"
   ]
  },
  {
   "cell_type": "code",
   "execution_count": 22,
   "metadata": {},
   "outputs": [
    {
     "data": {
      "text/plain": [
       "1815    127126347.0\n",
       "1692     26265973.0\n",
       "1041     14508134.0\n",
       "1853     14021594.0\n",
       "1878     11706273.0\n",
       "1261      6609168.0\n",
       "1745      3855073.0\n",
       "1627      3306558.0\n",
       "1375      3276530.0\n",
       "1373      1207720.0\n",
       "1754      1044304.0\n",
       "1355      1032345.0\n",
       "1091       820050.0\n",
       "1729       429062.0\n",
       "1057       413512.0\n",
       "1656       258699.0\n",
       "1891       186852.0\n",
       "1797       181591.0\n",
       "1119       133825.0\n",
       "1817       103189.0\n",
       "1242        43550.0\n",
       "1025        38105.0\n",
       "1396        34635.0\n",
       "1376        16476.0\n",
       "1216        14701.0\n",
       "1127         7481.0\n",
       "1390         5000.0\n",
       "1117         4500.0\n",
       "1652         4500.0\n",
       "1800         2155.0\n",
       "1163         1760.0\n",
       "1298         1000.0\n",
       "1852          920.0\n",
       "1111          360.0\n",
       "dtype: float64"
      ]
     },
     "execution_count": 22,
     "metadata": {},
     "output_type": "execute_result"
    }
   ],
   "source": [
    "df_idx.sort_values(ascending=False)"
   ]
  },
  {
   "cell_type": "code",
   "execution_count": 23,
   "metadata": {
    "collapsed": true
   },
   "outputs": [],
   "source": [
    "df_max7= df_max7.loc[:, np.where(df_idx>10000000, True, False)]"
   ]
  },
  {
   "cell_type": "code",
   "execution_count": 24,
   "metadata": {
    "collapsed": true
   },
   "outputs": [],
   "source": [
    "df_max7['ds']= df_raw['ds']"
   ]
  },
  {
   "cell_type": "code",
   "execution_count": 25,
   "metadata": {
    "collapsed": true
   },
   "outputs": [],
   "source": [
    "colname= df_max7.columns.tolist()"
   ]
  },
  {
   "cell_type": "code",
   "execution_count": 26,
   "metadata": {
    "collapsed": true
   },
   "outputs": [],
   "source": [
    "colname= colname[-1:]+colname[:-1]"
   ]
  },
  {
   "cell_type": "code",
   "execution_count": 27,
   "metadata": {
    "collapsed": true
   },
   "outputs": [],
   "source": [
    "df_max7= df_max7[colname]"
   ]
  },
  {
   "cell_type": "code",
   "execution_count": 28,
   "metadata": {},
   "outputs": [
    {
     "data": {
      "text/plain": [
       "1041     14508134.0\n",
       "1692     26265973.0\n",
       "1815    127126347.0\n",
       "1853     14021594.0\n",
       "1878     11706273.0\n",
       "dtype: float64"
      ]
     },
     "execution_count": 28,
     "metadata": {},
     "output_type": "execute_result"
    }
   ],
   "source": [
    "df_max7.sum(axis=0)"
   ]
  },
  {
   "cell_type": "code",
   "execution_count": 29,
   "metadata": {},
   "outputs": [
    {
     "data": {
      "text/html": [
       "<div>\n",
       "<style>\n",
       "    .dataframe thead tr:only-child th {\n",
       "        text-align: right;\n",
       "    }\n",
       "\n",
       "    .dataframe thead th {\n",
       "        text-align: left;\n",
       "    }\n",
       "\n",
       "    .dataframe tbody tr th {\n",
       "        vertical-align: top;\n",
       "    }\n",
       "</style>\n",
       "<table border=\"1\" class=\"dataframe\">\n",
       "  <thead>\n",
       "    <tr style=\"text-align: right;\">\n",
       "      <th></th>\n",
       "      <th>ds</th>\n",
       "      <th>1041</th>\n",
       "      <th>1692</th>\n",
       "      <th>1815</th>\n",
       "      <th>1853</th>\n",
       "      <th>1878</th>\n",
       "    </tr>\n",
       "  </thead>\n",
       "  <tbody>\n",
       "    <tr>\n",
       "      <th>0</th>\n",
       "      <td>2010-01-01</td>\n",
       "      <td>0.0</td>\n",
       "      <td>10.0</td>\n",
       "      <td>2652.0</td>\n",
       "      <td>0.0</td>\n",
       "      <td>0.0</td>\n",
       "    </tr>\n",
       "    <tr>\n",
       "      <th>1</th>\n",
       "      <td>2010-01-02</td>\n",
       "      <td>6260.0</td>\n",
       "      <td>3422.0</td>\n",
       "      <td>26443.0</td>\n",
       "      <td>459.0</td>\n",
       "      <td>626.0</td>\n",
       "    </tr>\n",
       "    <tr>\n",
       "      <th>2</th>\n",
       "      <td>2010-01-03</td>\n",
       "      <td>0.0</td>\n",
       "      <td>0.0</td>\n",
       "      <td>404.0</td>\n",
       "      <td>0.0</td>\n",
       "      <td>0.0</td>\n",
       "    </tr>\n",
       "    <tr>\n",
       "      <th>3</th>\n",
       "      <td>2010-01-04</td>\n",
       "      <td>5141.0</td>\n",
       "      <td>3641.0</td>\n",
       "      <td>22924.0</td>\n",
       "      <td>3445.0</td>\n",
       "      <td>3305.0</td>\n",
       "    </tr>\n",
       "    <tr>\n",
       "      <th>4</th>\n",
       "      <td>2010-01-05</td>\n",
       "      <td>5494.0</td>\n",
       "      <td>6552.0</td>\n",
       "      <td>39081.0</td>\n",
       "      <td>3861.0</td>\n",
       "      <td>4362.0</td>\n",
       "    </tr>\n",
       "  </tbody>\n",
       "</table>\n",
       "</div>"
      ],
      "text/plain": [
       "          ds    1041    1692     1815    1853    1878\n",
       "0 2010-01-01     0.0    10.0   2652.0     0.0     0.0\n",
       "1 2010-01-02  6260.0  3422.0  26443.0   459.0   626.0\n",
       "2 2010-01-03     0.0     0.0    404.0     0.0     0.0\n",
       "3 2010-01-04  5141.0  3641.0  22924.0  3445.0  3305.0\n",
       "4 2010-01-05  5494.0  6552.0  39081.0  3861.0  4362.0"
      ]
     },
     "execution_count": 29,
     "metadata": {},
     "output_type": "execute_result"
    }
   ],
   "source": [
    "df_max7.head()"
   ]
  },
  {
   "cell_type": "code",
   "execution_count": 31,
   "metadata": {
    "collapsed": true
   },
   "outputs": [],
   "source": [
    "ft_c.save_as_xlsx(path_name+'\\\\_element\\\\data\\\\private\\\\', df_max7, 'KPP일별투입(10_17).xlsx', '_withobject')"
   ]
  },
  {
   "cell_type": "code",
   "execution_count": null,
   "metadata": {
    "collapsed": true
   },
   "outputs": [],
   "source": []
  }
 ],
 "metadata": {
  "kernelspec": {
   "display_name": "Python 3",
   "language": "python",
   "name": "python3"
  },
  "language_info": {
   "codemirror_mode": {
    "name": "ipython",
    "version": 3
   },
   "file_extension": ".py",
   "mimetype": "text/x-python",
   "name": "python",
   "nbconvert_exporter": "python",
   "pygments_lexer": "ipython3",
   "version": "3.6.4"
  }
 },
 "nbformat": 4,
 "nbformat_minor": 2
}
